{
 "cells": [
  {
   "cell_type": "code",
   "execution_count": 23,
   "id": "initial_id",
   "metadata": {
    "collapsed": true,
    "ExecuteTime": {
     "end_time": "2024-11-19T09:11:48.412216500Z",
     "start_time": "2024-11-19T09:11:48.365344300Z"
    }
   },
   "outputs": [],
   "source": [
    "import pandas as pd\n",
    "import json"
   ]
  },
  {
   "cell_type": "code",
   "execution_count": 24,
   "outputs": [],
   "source": [
    "yelp_review = []\n",
    "with open('yelp_dataset/yelp_academic_dataset_review.json', 'r', encoding='utf-8') as f:\n",
    "    for line in f:\n",
    "        yelp_review.append(json.loads(line))\n",
    "  "
   ],
   "metadata": {
    "collapsed": false,
    "ExecuteTime": {
     "end_time": "2024-11-19T09:14:40.050758500Z",
     "start_time": "2024-11-19T09:11:48.380979Z"
    }
   },
   "id": "6a559f6604b92c33"
  },
  {
   "cell_type": "code",
   "execution_count": 25,
   "outputs": [],
   "source": [
    "yelp_business = []\n",
    "with open('yelp_dataset/yelp_academic_dataset_business.json', 'r', encoding='utf-8') as f:\n",
    "    for line in f:\n",
    "        yelp_business.append(json.loads(line))"
   ],
   "metadata": {
    "collapsed": false,
    "ExecuteTime": {
     "end_time": "2024-11-19T09:15:24.209611500Z",
     "start_time": "2024-11-19T09:14:40.023813200Z"
    }
   },
   "id": "117bc5397d0a6ccf"
  },
  {
   "cell_type": "code",
   "execution_count": 26,
   "outputs": [],
   "source": [
    "yelp_review_df = pd.DataFrame(yelp_review[:100000])\n",
    "yelp_business_df = pd.DataFrame(yelp_business)"
   ],
   "metadata": {
    "collapsed": false,
    "ExecuteTime": {
     "end_time": "2024-11-19T09:15:28.189749600Z",
     "start_time": "2024-11-19T09:15:24.215540900Z"
    }
   },
   "id": "e426b12c1a7fd109"
  },
  {
   "cell_type": "code",
   "execution_count": 27,
   "outputs": [
    {
     "data": {
      "text/plain": "                    review_id                 user_id             business_id  \\\n0      KU_O5udG6zpxOg-VcAEodg  mh_-eMZ6K5RLWhZyISBhwA  XQfwVwDr-v0ZS3_CbbE5Xw   \n1      BiTunyQ73aT9WBnpR9DZGw  OyoGAe7OKpv6SyGZT5g77Q  7ATYjTIgM3jUlt4UM3IypQ   \n2      saUsX_uimxRlCVr67Z4Jig  8g_iMtfSiwikVnbP2etR0A  YjUWPpI6HXG530lwP-fb2A   \n3      AqPFMleE6RsU23_auESxiA  _7bHUi9Uuf5__HHc_Q8guQ  kxX2SOes4o-D3ZQBkiMRfA   \n4      Sx8TMOWLNuJBWer-0pcmoA  bcjbaE6dDog4jkNY91ncLQ  e4Vwtrqf-wpJfwesgvdgxQ   \n...                       ...                     ...                     ...   \n99995  pAEbIxvr6ebx2bHc1XvguA  SMH5CeiLvKx61lKwtLZ_PA  lV0k3BnslFRkuWD_kbKd0Q   \n99996  xH1AoE-4nf2ECGQJRjO4_g  2clTdtp-BjphxLjN83CpUA  G0xz3kyRhRi6oZl7KfR0pA   \n99997  GatIbXTz-WDru5emONUSIg  MRrN6DH3QGCFcDv5RENYVg  C4lZdhasjZVQyDlOiXY1sA   \n99998  6NfkodAdhvI89xONXuBC3A  rnNQzeKJbvqVCsYsL10mkQ  dChRGpit9fM_kZK5pafNyA   \n99999  sJ1BMq7lkKgOWEFx3n6ZRw  _BcWyKQL16ndpBdggh2kNA  hMcgO98QaOFmQVTfCUeGzw   \n\n       stars  useful  funny  cool  \\\n0        3.0       0      0     0   \n1        5.0       1      0     1   \n2        3.0       0      0     0   \n3        5.0       1      0     1   \n4        4.0       1      0     1   \n...      ...     ...    ...   ...   \n99995    4.0       0      0     0   \n99996    1.0       1      0     0   \n99997    4.0       0      0     0   \n99998    2.0       0      0     0   \n99999    5.0       0      0     0   \n\n                                                    text                 date  \n0      If you decide to eat here, just be aware it is...  2018-07-07 22:09:11  \n1      I've taken a lot of spin classes over the year...  2012-01-03 15:28:18  \n2      Family diner. Had the buffet. Eclectic assortm...  2014-02-05 20:30:30  \n3      Wow!  Yummy, different,  delicious.   Our favo...  2015-01-04 00:01:03  \n4      Cute interior and owner (?) gave us tour of up...  2017-01-14 20:54:15  \n...                                                  ...                  ...  \n99995  Came here for lunch with a group. They were bu...  2018-05-30 22:28:56  \n99996  The equipment is so old and so felty! I just u...  2015-04-05 23:31:52  \n99997  This is one of my favorite Mexican restaurants...  2016-06-04 00:59:15  \n99998  Came here for brunch - had an omlette ($19 + t...  2018-06-11 12:45:08  \n99999  Came in for my 5-6 month prophy and saw Kara -...  2013-06-06 10:10:33  \n\n[100000 rows x 9 columns]",
      "text/html": "<div>\n<style scoped>\n    .dataframe tbody tr th:only-of-type {\n        vertical-align: middle;\n    }\n\n    .dataframe tbody tr th {\n        vertical-align: top;\n    }\n\n    .dataframe thead th {\n        text-align: right;\n    }\n</style>\n<table border=\"1\" class=\"dataframe\">\n  <thead>\n    <tr style=\"text-align: right;\">\n      <th></th>\n      <th>review_id</th>\n      <th>user_id</th>\n      <th>business_id</th>\n      <th>stars</th>\n      <th>useful</th>\n      <th>funny</th>\n      <th>cool</th>\n      <th>text</th>\n      <th>date</th>\n    </tr>\n  </thead>\n  <tbody>\n    <tr>\n      <th>0</th>\n      <td>KU_O5udG6zpxOg-VcAEodg</td>\n      <td>mh_-eMZ6K5RLWhZyISBhwA</td>\n      <td>XQfwVwDr-v0ZS3_CbbE5Xw</td>\n      <td>3.0</td>\n      <td>0</td>\n      <td>0</td>\n      <td>0</td>\n      <td>If you decide to eat here, just be aware it is...</td>\n      <td>2018-07-07 22:09:11</td>\n    </tr>\n    <tr>\n      <th>1</th>\n      <td>BiTunyQ73aT9WBnpR9DZGw</td>\n      <td>OyoGAe7OKpv6SyGZT5g77Q</td>\n      <td>7ATYjTIgM3jUlt4UM3IypQ</td>\n      <td>5.0</td>\n      <td>1</td>\n      <td>0</td>\n      <td>1</td>\n      <td>I've taken a lot of spin classes over the year...</td>\n      <td>2012-01-03 15:28:18</td>\n    </tr>\n    <tr>\n      <th>2</th>\n      <td>saUsX_uimxRlCVr67Z4Jig</td>\n      <td>8g_iMtfSiwikVnbP2etR0A</td>\n      <td>YjUWPpI6HXG530lwP-fb2A</td>\n      <td>3.0</td>\n      <td>0</td>\n      <td>0</td>\n      <td>0</td>\n      <td>Family diner. Had the buffet. Eclectic assortm...</td>\n      <td>2014-02-05 20:30:30</td>\n    </tr>\n    <tr>\n      <th>3</th>\n      <td>AqPFMleE6RsU23_auESxiA</td>\n      <td>_7bHUi9Uuf5__HHc_Q8guQ</td>\n      <td>kxX2SOes4o-D3ZQBkiMRfA</td>\n      <td>5.0</td>\n      <td>1</td>\n      <td>0</td>\n      <td>1</td>\n      <td>Wow!  Yummy, different,  delicious.   Our favo...</td>\n      <td>2015-01-04 00:01:03</td>\n    </tr>\n    <tr>\n      <th>4</th>\n      <td>Sx8TMOWLNuJBWer-0pcmoA</td>\n      <td>bcjbaE6dDog4jkNY91ncLQ</td>\n      <td>e4Vwtrqf-wpJfwesgvdgxQ</td>\n      <td>4.0</td>\n      <td>1</td>\n      <td>0</td>\n      <td>1</td>\n      <td>Cute interior and owner (?) gave us tour of up...</td>\n      <td>2017-01-14 20:54:15</td>\n    </tr>\n    <tr>\n      <th>...</th>\n      <td>...</td>\n      <td>...</td>\n      <td>...</td>\n      <td>...</td>\n      <td>...</td>\n      <td>...</td>\n      <td>...</td>\n      <td>...</td>\n      <td>...</td>\n    </tr>\n    <tr>\n      <th>99995</th>\n      <td>pAEbIxvr6ebx2bHc1XvguA</td>\n      <td>SMH5CeiLvKx61lKwtLZ_PA</td>\n      <td>lV0k3BnslFRkuWD_kbKd0Q</td>\n      <td>4.0</td>\n      <td>0</td>\n      <td>0</td>\n      <td>0</td>\n      <td>Came here for lunch with a group. They were bu...</td>\n      <td>2018-05-30 22:28:56</td>\n    </tr>\n    <tr>\n      <th>99996</th>\n      <td>xH1AoE-4nf2ECGQJRjO4_g</td>\n      <td>2clTdtp-BjphxLjN83CpUA</td>\n      <td>G0xz3kyRhRi6oZl7KfR0pA</td>\n      <td>1.0</td>\n      <td>1</td>\n      <td>0</td>\n      <td>0</td>\n      <td>The equipment is so old and so felty! I just u...</td>\n      <td>2015-04-05 23:31:52</td>\n    </tr>\n    <tr>\n      <th>99997</th>\n      <td>GatIbXTz-WDru5emONUSIg</td>\n      <td>MRrN6DH3QGCFcDv5RENYVg</td>\n      <td>C4lZdhasjZVQyDlOiXY1sA</td>\n      <td>4.0</td>\n      <td>0</td>\n      <td>0</td>\n      <td>0</td>\n      <td>This is one of my favorite Mexican restaurants...</td>\n      <td>2016-06-04 00:59:15</td>\n    </tr>\n    <tr>\n      <th>99998</th>\n      <td>6NfkodAdhvI89xONXuBC3A</td>\n      <td>rnNQzeKJbvqVCsYsL10mkQ</td>\n      <td>dChRGpit9fM_kZK5pafNyA</td>\n      <td>2.0</td>\n      <td>0</td>\n      <td>0</td>\n      <td>0</td>\n      <td>Came here for brunch - had an omlette ($19 + t...</td>\n      <td>2018-06-11 12:45:08</td>\n    </tr>\n    <tr>\n      <th>99999</th>\n      <td>sJ1BMq7lkKgOWEFx3n6ZRw</td>\n      <td>_BcWyKQL16ndpBdggh2kNA</td>\n      <td>hMcgO98QaOFmQVTfCUeGzw</td>\n      <td>5.0</td>\n      <td>0</td>\n      <td>0</td>\n      <td>0</td>\n      <td>Came in for my 5-6 month prophy and saw Kara -...</td>\n      <td>2013-06-06 10:10:33</td>\n    </tr>\n  </tbody>\n</table>\n<p>100000 rows × 9 columns</p>\n</div>"
     },
     "execution_count": 27,
     "metadata": {},
     "output_type": "execute_result"
    }
   ],
   "source": [
    "yelp_review_df"
   ],
   "metadata": {
    "collapsed": false,
    "ExecuteTime": {
     "end_time": "2024-11-19T09:15:28.834065100Z",
     "start_time": "2024-11-19T09:15:28.189749600Z"
    }
   },
   "id": "2859e23c51d29084"
  },
  {
   "cell_type": "code",
   "execution_count": 28,
   "outputs": [
    {
     "data": {
      "text/plain": "                    review_id                 user_id             business_id  \\\n0      KU_O5udG6zpxOg-VcAEodg  mh_-eMZ6K5RLWhZyISBhwA  XQfwVwDr-v0ZS3_CbbE5Xw   \n1      BiTunyQ73aT9WBnpR9DZGw  OyoGAe7OKpv6SyGZT5g77Q  7ATYjTIgM3jUlt4UM3IypQ   \n2      saUsX_uimxRlCVr67Z4Jig  8g_iMtfSiwikVnbP2etR0A  YjUWPpI6HXG530lwP-fb2A   \n3      AqPFMleE6RsU23_auESxiA  _7bHUi9Uuf5__HHc_Q8guQ  kxX2SOes4o-D3ZQBkiMRfA   \n4      Sx8TMOWLNuJBWer-0pcmoA  bcjbaE6dDog4jkNY91ncLQ  e4Vwtrqf-wpJfwesgvdgxQ   \n...                       ...                     ...                     ...   \n99995  pAEbIxvr6ebx2bHc1XvguA  SMH5CeiLvKx61lKwtLZ_PA  lV0k3BnslFRkuWD_kbKd0Q   \n99996  xH1AoE-4nf2ECGQJRjO4_g  2clTdtp-BjphxLjN83CpUA  G0xz3kyRhRi6oZl7KfR0pA   \n99997  GatIbXTz-WDru5emONUSIg  MRrN6DH3QGCFcDv5RENYVg  C4lZdhasjZVQyDlOiXY1sA   \n99998  6NfkodAdhvI89xONXuBC3A  rnNQzeKJbvqVCsYsL10mkQ  dChRGpit9fM_kZK5pafNyA   \n99999  sJ1BMq7lkKgOWEFx3n6ZRw  _BcWyKQL16ndpBdggh2kNA  hMcgO98QaOFmQVTfCUeGzw   \n\n       stars_x  useful  funny  cool  \\\n0          3.0       0      0     0   \n1          5.0       1      0     1   \n2          3.0       0      0     0   \n3          5.0       1      0     1   \n4          4.0       1      0     1   \n...        ...     ...    ...   ...   \n99995      4.0       0      0     0   \n99996      1.0       1      0     0   \n99997      4.0       0      0     0   \n99998      2.0       0      0     0   \n99999      5.0       0      0     0   \n\n                                                    text                 date  \\\n0      If you decide to eat here, just be aware it is...  2018-07-07 22:09:11   \n1      I've taken a lot of spin classes over the year...  2012-01-03 15:28:18   \n2      Family diner. Had the buffet. Eclectic assortm...  2014-02-05 20:30:30   \n3      Wow!  Yummy, different,  delicious.   Our favo...  2015-01-04 00:01:03   \n4      Cute interior and owner (?) gave us tour of up...  2017-01-14 20:54:15   \n...                                                  ...                  ...   \n99995  Came here for lunch with a group. They were bu...  2018-05-30 22:28:56   \n99996  The equipment is so old and so felty! I just u...  2015-04-05 23:31:52   \n99997  This is one of my favorite Mexican restaurants...  2016-06-04 00:59:15   \n99998  Came here for brunch - had an omlette ($19 + t...  2018-06-11 12:45:08   \n99999  Came in for my 5-6 month prophy and saw Kara -...  2013-06-06 10:10:33   \n\n                                 name  ... state postal_code   latitude  \\\n0        Turning Point of North Wales  ...    PA       19454  40.210196   \n1          Body Cycle Spinning Studio  ...    PA       19119  39.952103   \n2                   Kettle Restaurant  ...    AZ       85713  32.207233   \n3                               Zaika  ...    PA       19114  40.079848   \n4                                Melt  ...    LA       70119  29.962102   \n...                               ...  ...   ...         ...        ...   \n99995                     Metro Diner  ...    IN       46260  39.913046   \n99996                 Esporta Fitness  ...    PA       19401  40.147359   \n99997  Buena Vista Mexican Restaurant  ...    PA       19355  40.042104   \n99998                        The Love  ...    PA       19103  39.950656   \n99999              Dentistry For Life  ...    PA       19102  39.950362   \n\n        longitude  stars_y  review_count  is_open  \\\n0      -75.223639      3.0           169        1   \n1      -75.172753      5.0           144        0   \n2     -110.980864      3.5            47        1   \n3      -75.025080      4.0           181        1   \n4      -90.087958      4.0            32        0   \n...           ...      ...           ...      ...   \n99995  -86.200355      4.0           175        0   \n99996  -75.318160      2.5            55        1   \n99997  -75.541083      3.5           107        1   \n99998  -75.170899      4.0           618        1   \n99999  -75.167774      4.0            22        0   \n\n                                              attributes  \\\n0      {'NoiseLevel': 'u'average'', 'HasTV': 'False',...   \n1      {'BusinessAcceptsCreditCards': 'True', 'GoodFo...   \n2      {'RestaurantsReservations': 'True', 'BusinessP...   \n3      {'Caters': 'True', 'Ambience': '{'romantic': F...   \n4      {'BusinessParking': '{'garage': False, 'street...   \n...                                                  ...   \n99995  {'RestaurantsTableService': 'True', 'OutdoorSe...   \n99996  {'GoodForKids': 'False', 'ByAppointmentOnly': ...   \n99997  {'NoiseLevel': 'u'quiet'', 'RestaurantsTakeOut...   \n99998  {'BusinessAcceptsCreditCards': 'True', 'Restau...   \n99999                      {'ByAppointmentOnly': 'True'}   \n\n                                              categories  \\\n0      Restaurants, Breakfast & Brunch, Food, Juice B...   \n1      Active Life, Cycling Classes, Trainers, Gyms, ...   \n2                        Restaurants, Breakfast & Brunch   \n3                  Halal, Pakistani, Restaurants, Indian   \n4      Sandwiches, Beer, Wine & Spirits, Bars, Food, ...   \n...                                                  ...   \n99995  American (Traditional), Breakfast & Brunch, Re...   \n99996  Yoga, Gyms, Trainers, Fitness & Instruction, A...   \n99997                               Mexican, Restaurants   \n99998  Restaurants, American (New), Breakfast & Brunc...   \n99999  Orthodontists, General Dentistry, Dentists, Co...   \n\n                                                   hours  \n0      {'Monday': '7:30-15:0', 'Tuesday': '7:30-15:0'...  \n1      {'Monday': '6:30-20:30', 'Tuesday': '6:30-20:3...  \n2                                                   None  \n3      {'Tuesday': '11:0-21:0', 'Wednesday': '11:0-21...  \n4      {'Monday': '0:0-0:0', 'Friday': '11:0-17:0', '...  \n...                                                  ...  \n99995  {'Monday': '0:0-0:0', 'Tuesday': '8:0-20:0', '...  \n99996  {'Monday': '0:0-0:0', 'Tuesday': '5:0-22:0', '...  \n99997  {'Monday': '11:30-21:0', 'Tuesday': '11:30-21:...  \n99998  {'Monday': '0:0-0:0', 'Tuesday': '17:0-21:0', ...  \n99999                                               None  \n\n[100000 rows x 22 columns]",
      "text/html": "<div>\n<style scoped>\n    .dataframe tbody tr th:only-of-type {\n        vertical-align: middle;\n    }\n\n    .dataframe tbody tr th {\n        vertical-align: top;\n    }\n\n    .dataframe thead th {\n        text-align: right;\n    }\n</style>\n<table border=\"1\" class=\"dataframe\">\n  <thead>\n    <tr style=\"text-align: right;\">\n      <th></th>\n      <th>review_id</th>\n      <th>user_id</th>\n      <th>business_id</th>\n      <th>stars_x</th>\n      <th>useful</th>\n      <th>funny</th>\n      <th>cool</th>\n      <th>text</th>\n      <th>date</th>\n      <th>name</th>\n      <th>...</th>\n      <th>state</th>\n      <th>postal_code</th>\n      <th>latitude</th>\n      <th>longitude</th>\n      <th>stars_y</th>\n      <th>review_count</th>\n      <th>is_open</th>\n      <th>attributes</th>\n      <th>categories</th>\n      <th>hours</th>\n    </tr>\n  </thead>\n  <tbody>\n    <tr>\n      <th>0</th>\n      <td>KU_O5udG6zpxOg-VcAEodg</td>\n      <td>mh_-eMZ6K5RLWhZyISBhwA</td>\n      <td>XQfwVwDr-v0ZS3_CbbE5Xw</td>\n      <td>3.0</td>\n      <td>0</td>\n      <td>0</td>\n      <td>0</td>\n      <td>If you decide to eat here, just be aware it is...</td>\n      <td>2018-07-07 22:09:11</td>\n      <td>Turning Point of North Wales</td>\n      <td>...</td>\n      <td>PA</td>\n      <td>19454</td>\n      <td>40.210196</td>\n      <td>-75.223639</td>\n      <td>3.0</td>\n      <td>169</td>\n      <td>1</td>\n      <td>{'NoiseLevel': 'u'average'', 'HasTV': 'False',...</td>\n      <td>Restaurants, Breakfast &amp; Brunch, Food, Juice B...</td>\n      <td>{'Monday': '7:30-15:0', 'Tuesday': '7:30-15:0'...</td>\n    </tr>\n    <tr>\n      <th>1</th>\n      <td>BiTunyQ73aT9WBnpR9DZGw</td>\n      <td>OyoGAe7OKpv6SyGZT5g77Q</td>\n      <td>7ATYjTIgM3jUlt4UM3IypQ</td>\n      <td>5.0</td>\n      <td>1</td>\n      <td>0</td>\n      <td>1</td>\n      <td>I've taken a lot of spin classes over the year...</td>\n      <td>2012-01-03 15:28:18</td>\n      <td>Body Cycle Spinning Studio</td>\n      <td>...</td>\n      <td>PA</td>\n      <td>19119</td>\n      <td>39.952103</td>\n      <td>-75.172753</td>\n      <td>5.0</td>\n      <td>144</td>\n      <td>0</td>\n      <td>{'BusinessAcceptsCreditCards': 'True', 'GoodFo...</td>\n      <td>Active Life, Cycling Classes, Trainers, Gyms, ...</td>\n      <td>{'Monday': '6:30-20:30', 'Tuesday': '6:30-20:3...</td>\n    </tr>\n    <tr>\n      <th>2</th>\n      <td>saUsX_uimxRlCVr67Z4Jig</td>\n      <td>8g_iMtfSiwikVnbP2etR0A</td>\n      <td>YjUWPpI6HXG530lwP-fb2A</td>\n      <td>3.0</td>\n      <td>0</td>\n      <td>0</td>\n      <td>0</td>\n      <td>Family diner. Had the buffet. Eclectic assortm...</td>\n      <td>2014-02-05 20:30:30</td>\n      <td>Kettle Restaurant</td>\n      <td>...</td>\n      <td>AZ</td>\n      <td>85713</td>\n      <td>32.207233</td>\n      <td>-110.980864</td>\n      <td>3.5</td>\n      <td>47</td>\n      <td>1</td>\n      <td>{'RestaurantsReservations': 'True', 'BusinessP...</td>\n      <td>Restaurants, Breakfast &amp; Brunch</td>\n      <td>None</td>\n    </tr>\n    <tr>\n      <th>3</th>\n      <td>AqPFMleE6RsU23_auESxiA</td>\n      <td>_7bHUi9Uuf5__HHc_Q8guQ</td>\n      <td>kxX2SOes4o-D3ZQBkiMRfA</td>\n      <td>5.0</td>\n      <td>1</td>\n      <td>0</td>\n      <td>1</td>\n      <td>Wow!  Yummy, different,  delicious.   Our favo...</td>\n      <td>2015-01-04 00:01:03</td>\n      <td>Zaika</td>\n      <td>...</td>\n      <td>PA</td>\n      <td>19114</td>\n      <td>40.079848</td>\n      <td>-75.025080</td>\n      <td>4.0</td>\n      <td>181</td>\n      <td>1</td>\n      <td>{'Caters': 'True', 'Ambience': '{'romantic': F...</td>\n      <td>Halal, Pakistani, Restaurants, Indian</td>\n      <td>{'Tuesday': '11:0-21:0', 'Wednesday': '11:0-21...</td>\n    </tr>\n    <tr>\n      <th>4</th>\n      <td>Sx8TMOWLNuJBWer-0pcmoA</td>\n      <td>bcjbaE6dDog4jkNY91ncLQ</td>\n      <td>e4Vwtrqf-wpJfwesgvdgxQ</td>\n      <td>4.0</td>\n      <td>1</td>\n      <td>0</td>\n      <td>1</td>\n      <td>Cute interior and owner (?) gave us tour of up...</td>\n      <td>2017-01-14 20:54:15</td>\n      <td>Melt</td>\n      <td>...</td>\n      <td>LA</td>\n      <td>70119</td>\n      <td>29.962102</td>\n      <td>-90.087958</td>\n      <td>4.0</td>\n      <td>32</td>\n      <td>0</td>\n      <td>{'BusinessParking': '{'garage': False, 'street...</td>\n      <td>Sandwiches, Beer, Wine &amp; Spirits, Bars, Food, ...</td>\n      <td>{'Monday': '0:0-0:0', 'Friday': '11:0-17:0', '...</td>\n    </tr>\n    <tr>\n      <th>...</th>\n      <td>...</td>\n      <td>...</td>\n      <td>...</td>\n      <td>...</td>\n      <td>...</td>\n      <td>...</td>\n      <td>...</td>\n      <td>...</td>\n      <td>...</td>\n      <td>...</td>\n      <td>...</td>\n      <td>...</td>\n      <td>...</td>\n      <td>...</td>\n      <td>...</td>\n      <td>...</td>\n      <td>...</td>\n      <td>...</td>\n      <td>...</td>\n      <td>...</td>\n      <td>...</td>\n    </tr>\n    <tr>\n      <th>99995</th>\n      <td>pAEbIxvr6ebx2bHc1XvguA</td>\n      <td>SMH5CeiLvKx61lKwtLZ_PA</td>\n      <td>lV0k3BnslFRkuWD_kbKd0Q</td>\n      <td>4.0</td>\n      <td>0</td>\n      <td>0</td>\n      <td>0</td>\n      <td>Came here for lunch with a group. They were bu...</td>\n      <td>2018-05-30 22:28:56</td>\n      <td>Metro Diner</td>\n      <td>...</td>\n      <td>IN</td>\n      <td>46260</td>\n      <td>39.913046</td>\n      <td>-86.200355</td>\n      <td>4.0</td>\n      <td>175</td>\n      <td>0</td>\n      <td>{'RestaurantsTableService': 'True', 'OutdoorSe...</td>\n      <td>American (Traditional), Breakfast &amp; Brunch, Re...</td>\n      <td>{'Monday': '0:0-0:0', 'Tuesday': '8:0-20:0', '...</td>\n    </tr>\n    <tr>\n      <th>99996</th>\n      <td>xH1AoE-4nf2ECGQJRjO4_g</td>\n      <td>2clTdtp-BjphxLjN83CpUA</td>\n      <td>G0xz3kyRhRi6oZl7KfR0pA</td>\n      <td>1.0</td>\n      <td>1</td>\n      <td>0</td>\n      <td>0</td>\n      <td>The equipment is so old and so felty! I just u...</td>\n      <td>2015-04-05 23:31:52</td>\n      <td>Esporta Fitness</td>\n      <td>...</td>\n      <td>PA</td>\n      <td>19401</td>\n      <td>40.147359</td>\n      <td>-75.318160</td>\n      <td>2.5</td>\n      <td>55</td>\n      <td>1</td>\n      <td>{'GoodForKids': 'False', 'ByAppointmentOnly': ...</td>\n      <td>Yoga, Gyms, Trainers, Fitness &amp; Instruction, A...</td>\n      <td>{'Monday': '0:0-0:0', 'Tuesday': '5:0-22:0', '...</td>\n    </tr>\n    <tr>\n      <th>99997</th>\n      <td>GatIbXTz-WDru5emONUSIg</td>\n      <td>MRrN6DH3QGCFcDv5RENYVg</td>\n      <td>C4lZdhasjZVQyDlOiXY1sA</td>\n      <td>4.0</td>\n      <td>0</td>\n      <td>0</td>\n      <td>0</td>\n      <td>This is one of my favorite Mexican restaurants...</td>\n      <td>2016-06-04 00:59:15</td>\n      <td>Buena Vista Mexican Restaurant</td>\n      <td>...</td>\n      <td>PA</td>\n      <td>19355</td>\n      <td>40.042104</td>\n      <td>-75.541083</td>\n      <td>3.5</td>\n      <td>107</td>\n      <td>1</td>\n      <td>{'NoiseLevel': 'u'quiet'', 'RestaurantsTakeOut...</td>\n      <td>Mexican, Restaurants</td>\n      <td>{'Monday': '11:30-21:0', 'Tuesday': '11:30-21:...</td>\n    </tr>\n    <tr>\n      <th>99998</th>\n      <td>6NfkodAdhvI89xONXuBC3A</td>\n      <td>rnNQzeKJbvqVCsYsL10mkQ</td>\n      <td>dChRGpit9fM_kZK5pafNyA</td>\n      <td>2.0</td>\n      <td>0</td>\n      <td>0</td>\n      <td>0</td>\n      <td>Came here for brunch - had an omlette ($19 + t...</td>\n      <td>2018-06-11 12:45:08</td>\n      <td>The Love</td>\n      <td>...</td>\n      <td>PA</td>\n      <td>19103</td>\n      <td>39.950656</td>\n      <td>-75.170899</td>\n      <td>4.0</td>\n      <td>618</td>\n      <td>1</td>\n      <td>{'BusinessAcceptsCreditCards': 'True', 'Restau...</td>\n      <td>Restaurants, American (New), Breakfast &amp; Brunc...</td>\n      <td>{'Monday': '0:0-0:0', 'Tuesday': '17:0-21:0', ...</td>\n    </tr>\n    <tr>\n      <th>99999</th>\n      <td>sJ1BMq7lkKgOWEFx3n6ZRw</td>\n      <td>_BcWyKQL16ndpBdggh2kNA</td>\n      <td>hMcgO98QaOFmQVTfCUeGzw</td>\n      <td>5.0</td>\n      <td>0</td>\n      <td>0</td>\n      <td>0</td>\n      <td>Came in for my 5-6 month prophy and saw Kara -...</td>\n      <td>2013-06-06 10:10:33</td>\n      <td>Dentistry For Life</td>\n      <td>...</td>\n      <td>PA</td>\n      <td>19102</td>\n      <td>39.950362</td>\n      <td>-75.167774</td>\n      <td>4.0</td>\n      <td>22</td>\n      <td>0</td>\n      <td>{'ByAppointmentOnly': 'True'}</td>\n      <td>Orthodontists, General Dentistry, Dentists, Co...</td>\n      <td>None</td>\n    </tr>\n  </tbody>\n</table>\n<p>100000 rows × 22 columns</p>\n</div>"
     },
     "execution_count": 28,
     "metadata": {},
     "output_type": "execute_result"
    }
   ],
   "source": [
    "df_merged = pd.merge(yelp_review_df, yelp_business_df, on='business_id')\n",
    "df_merged"
   ],
   "metadata": {
    "collapsed": false,
    "ExecuteTime": {
     "end_time": "2024-11-19T09:15:34.041389600Z",
     "start_time": "2024-11-19T09:15:28.302317500Z"
    }
   },
   "id": "3d3881ad26c2727c"
  },
  {
   "cell_type": "code",
   "execution_count": 34,
   "outputs": [
    {
     "data": {
      "text/plain": "522042"
     },
     "execution_count": 34,
     "metadata": {},
     "output_type": "execute_result"
    }
   ],
   "source": [
    "categories_list = []\n",
    "for cat in df_merged['categories']:\n",
    "    if cat is not None:\n",
    "        splitted = cat.split(',')\n",
    "        for s in splitted:\n",
    "            categories_list.append(s)\n",
    "        \n",
    "#categories_list = list(dict.fromkeys(categories_list))\n",
    "len(categories_list)"
   ],
   "metadata": {
    "collapsed": false,
    "ExecuteTime": {
     "end_time": "2024-11-19T09:21:42.450668100Z",
     "start_time": "2024-11-19T09:21:42.345487800Z"
    }
   },
   "id": "3de9a84245a52753"
  },
  {
   "cell_type": "code",
   "execution_count": 48,
   "outputs": [
    {
     "name": "stderr",
     "output_type": "stream",
     "text": [
      "<>:6: SyntaxWarning: \"is\" with a literal. Did you mean \"==\"?\n",
      "<>:6: SyntaxWarning: \"is\" with a literal. Did you mean \"==\"?\n",
      "C:\\Users\\gabri\\AppData\\Local\\Temp\\ipykernel_7712\\1042387114.py:6: SyntaxWarning: \"is\" with a literal. Did you mean \"==\"?\n",
      "  if text[0] is ' ':\n"
     ]
    }
   ],
   "source": [
    "import re\n",
    "\n",
    "def remove_space(texts):\n",
    "    new_list = []\n",
    "    for text in texts:\n",
    "        if text[0] is ' ':\n",
    "            new_text = text[1:]\n",
    "        else:\n",
    "            new_text = text\n",
    "        new_list.append(new_text)\n",
    "    return new_list"
   ],
   "metadata": {
    "collapsed": false,
    "ExecuteTime": {
     "end_time": "2024-11-19T09:50:03.497130700Z",
     "start_time": "2024-11-19T09:50:03.451680100Z"
    }
   },
   "id": "3f886ac59b600cb0"
  },
  {
   "cell_type": "code",
   "execution_count": 50,
   "outputs": [],
   "source": [
    "categories_list = remove_space(categories_list)"
   ],
   "metadata": {
    "collapsed": false,
    "ExecuteTime": {
     "end_time": "2024-11-19T09:50:11.241340600Z",
     "start_time": "2024-11-19T09:50:11.172706600Z"
    }
   },
   "id": "61a7ae13b26e62c2"
  },
  {
   "cell_type": "code",
   "execution_count": 51,
   "outputs": [
    {
     "data": {
      "text/plain": "['Restaurants',\n 'Breakfast & Brunch',\n 'Food',\n 'Juice Bars & Smoothies',\n 'American (New)',\n 'Coffee & Tea',\n 'Sandwiches',\n 'Active Life',\n 'Cycling Classes',\n 'Trainers',\n 'Gyms',\n 'Fitness & Instruction',\n 'Restaurants',\n 'Breakfast & Brunch',\n 'Halal',\n 'Pakistani',\n 'Restaurants',\n 'Indian',\n 'Sandwiches',\n 'Beer',\n 'Wine & Spirits',\n 'Bars',\n 'Food',\n 'Restaurants',\n 'American (Traditional)',\n 'Nightlife',\n 'Mediterranean',\n 'Restaurants',\n 'Seafood',\n 'Greek',\n 'Supernatural Readings',\n 'Tours',\n 'Hotels & Travel',\n 'Walking Tours',\n 'Arts & Entertainment',\n 'Beer Bar',\n 'Bars',\n 'American (New)',\n 'Gastropubs',\n 'Restaurants',\n 'Nightlife',\n 'Burgers',\n 'Parks',\n 'Active Life',\n 'Steakhouses',\n 'Sushi Bars',\n 'Restaurants',\n 'Japanese',\n 'Shopping',\n 'Jewelry',\n 'Beer',\n 'Wine & Spirits',\n 'Cafes',\n 'Coffee & Tea',\n 'Restaurants',\n 'Food',\n 'Breakfast & Brunch',\n 'American (New)',\n 'Bars',\n 'Pizza',\n 'Nightlife',\n 'Cocktail Bars',\n 'Italian',\n 'Restaurants',\n 'Pizza',\n 'Restaurants',\n 'Italian',\n 'Salad',\n 'Restaurants',\n 'Tacos',\n 'Mexican',\n 'Hot Dogs',\n 'Breakfast & Brunch',\n 'Steakhouses',\n 'Sandwiches',\n 'Restaurants',\n 'American (New)',\n 'American (Traditional)',\n 'Breakfast & Brunch',\n 'Wine Bars',\n 'Restaurants',\n 'Nightlife',\n 'Steakhouses',\n 'Seafood',\n 'Bars',\n 'Wine Bars',\n 'Bars',\n 'Nightlife',\n 'American (New)',\n 'Mediterranean',\n 'Restaurants',\n 'Makeup Artists',\n 'Blow Dry/Out Services',\n 'Beauty & Spas',\n 'Hair Salons',\n 'Nail Salons',\n 'Eyebrow Services',\n 'Food',\n 'Cafes',\n 'Coffee & Tea',\n 'Restaurants',\n 'Ice Cream & Frozen Yogurt',\n 'Food',\n 'Local Flavor',\n 'Desserts',\n 'Nightlife',\n 'Food',\n 'Bars',\n 'Breweries',\n 'Pizza',\n 'Brewpubs',\n 'Pubs',\n 'Restaurants',\n 'Performing Arts',\n 'Arts & Entertainment',\n 'Nightlife',\n 'Comedy Clubs',\n 'Restaurants',\n 'Sushi Bars',\n 'Restaurants',\n 'Food',\n 'Poke',\n 'Hawaiian',\n 'Sushi Bars',\n 'American (New)',\n 'Restaurants',\n 'Cocktail Bars',\n 'Barbeque',\n 'Bars',\n 'Nightlife',\n 'Thai',\n 'Restaurants',\n 'Cajun/Creole',\n 'Seafood',\n 'Restaurants',\n 'Breakfast & Brunch',\n 'Event Planning & Services',\n 'Italian',\n 'Venues & Event Spaces',\n 'Restaurants',\n 'Active Life',\n 'Food',\n 'Golf',\n 'Cocktail Bars',\n 'Nightlife',\n 'Gastropubs',\n 'Sports Bars',\n 'Restaurants',\n 'American (New)',\n 'Lounges',\n 'Bars',\n 'Restaurants',\n 'Seafood',\n 'Cafes',\n 'Italian',\n 'Fast Food',\n 'Burgers',\n 'Restaurants',\n 'Food',\n 'Coffee & Tea',\n 'Gas Stations',\n 'Restaurants',\n 'Automotive',\n 'Sandwiches',\n 'Convenience Stores',\n 'Auto Repair',\n 'Smog Check Stations',\n 'Auto Parts & Supplies',\n 'Automotive',\n 'Food',\n 'Ice Cream & Frozen Yogurt',\n 'Food',\n 'Restaurants',\n 'Salad',\n 'Coffee & Tea',\n 'Breakfast & Brunch',\n 'Sandwiches',\n 'Bakeries',\n 'Health & Medical',\n 'Beauty & Spas',\n 'Massage',\n 'Physical Therapy',\n 'Massage Therapy',\n 'Event Planning & Services',\n 'Casinos',\n 'Beauty & Spas',\n 'Venues & Event Spaces',\n 'Arts & Entertainment',\n 'Day Spas',\n 'Hotels',\n 'Hotels & Travel',\n 'Restaurants',\n 'Delis',\n 'Salad',\n 'Sandwiches',\n 'American (New)',\n 'Restaurants',\n 'American (Traditional)',\n 'Food',\n 'Breakfast & Brunch',\n 'Coffee & Tea',\n 'Pizza',\n 'Seafood',\n 'Steakhouses',\n 'Salad',\n 'Comfort Food',\n 'Restaurants',\n 'Southern',\n 'American (New)',\n 'Restaurants',\n 'Buffets',\n 'Breakfast & Brunch',\n 'American (New)',\n 'Breakfast & Brunch',\n 'Bars',\n 'Nightlife',\n 'Restaurants',\n 'Bagels',\n 'Sporting Goods',\n 'Outdoor Gear',\n 'Coffee & Tea',\n 'Cafes',\n 'Sandwiches',\n 'Food',\n 'Shopping',\n 'Internet Cafes',\n 'Restaurants',\n 'Bars',\n 'Breakfast & Brunch',\n 'Restaurants',\n 'Barbeque',\n 'Cajun/Creole',\n 'Cafes',\n 'Cocktail Bars',\n 'Nightlife',\n 'Hotels',\n 'Event Planning & Services',\n 'Caterers',\n 'Hotels & Travel',\n 'Jazz & Blues',\n 'Bars',\n 'Arts & Entertainment',\n 'Beer',\n 'Wine & Spirits',\n 'Wine Bars',\n 'Food',\n 'Nightlife',\n 'American (New)',\n 'Restaurants',\n 'Mexican',\n 'Sandwiches',\n 'Breakfast & Brunch',\n 'Cajun/Creole',\n 'Cafes',\n 'Food',\n 'Restaurants',\n 'Donuts',\n 'Bars',\n 'Nightlife',\n 'Whiskey Bars',\n 'Burgers',\n 'Restaurants',\n 'American (New)',\n 'Bars',\n 'Nightlife',\n 'American (New)',\n 'Italian',\n 'Sports Bars',\n 'Restaurants',\n 'Food',\n 'American (Traditional)',\n 'Soup',\n 'Thai',\n 'Restaurants',\n 'Salad',\n 'Hair Salons',\n 'Beauty & Spas',\n 'Nail Salons',\n 'Day Spas',\n 'Hair Removal',\n 'Waxing',\n 'Hair Extensions',\n 'Auto Repair',\n 'Oil Change Stations',\n 'Auto Parts & Supplies',\n 'Automotive',\n 'Tires',\n 'Contractors',\n 'Home Services',\n 'Plumbing',\n 'Water Purification Services',\n 'Heating & Air Conditioning/HVAC',\n 'Nightlife',\n 'Food',\n 'Pizza',\n 'Brewpubs',\n 'Restaurants',\n 'Fish & Chips',\n 'American (New)',\n 'Bars',\n 'Pubs',\n 'Breweries',\n 'Vegetarian',\n 'Home & Garden',\n 'Furniture Stores',\n 'Home Decor',\n 'Shopping',\n 'Flowers & Gifts',\n 'Gift Shops',\n 'Chicken Wings',\n 'Nightlife',\n 'Bars',\n 'Delis',\n 'Food',\n 'Beer Gardens',\n 'Sandwiches',\n 'Beer Bar',\n 'Restaurants',\n 'Beer',\n 'Wine & Spirits',\n 'Gastropubs',\n 'Thai',\n 'Restaurants',\n 'Restaurants',\n 'Diners',\n 'Nightlife',\n 'Restaurants',\n 'American (New)',\n 'Bars',\n 'Pubs',\n 'Live/Raw Food',\n 'Restaurants',\n 'Seafood',\n 'Beer Bar',\n 'Beer',\n 'Wine & Spirits',\n 'Bars',\n 'Food',\n 'Nightlife',\n 'Pets',\n 'Cheese Shops',\n 'Health Markets',\n 'Grocery',\n 'Food',\n 'Specialty Food',\n 'Barbeque',\n 'Restaurants',\n 'Dive Bars',\n 'Cocktail Bars',\n 'Southern',\n 'Nightlife',\n 'Bars',\n 'Fashion',\n 'Event Planning & Services',\n 'Venues & Event Spaces',\n 'Hotels',\n 'Shopping',\n 'Hotels & Travel',\n \"Women's Clothing\",\n 'Restaurants',\n 'Pizza',\n 'Food',\n 'Restaurants',\n 'Bakeries',\n 'Sandwiches',\n 'Burgers',\n 'American (Traditional)',\n 'Restaurants',\n 'Vietnamese',\n 'Restaurants',\n 'Event Planning & Services',\n 'Salad',\n 'Caterers',\n 'American (New)',\n 'Sandwiches',\n 'Restaurants',\n 'Breakfast & Brunch',\n 'Tours',\n 'Boating',\n 'Hotels & Travel',\n 'Rafting/Kayaking',\n 'Parks',\n 'Travel Services',\n 'Active Life',\n 'Cajun/Creole',\n 'Restaurants',\n 'Local Flavor',\n 'Food',\n 'Brewpubs',\n 'Breweries',\n 'Restaurants',\n 'Pizza',\n 'American (Traditional)',\n 'American (New)',\n 'Restaurants',\n 'Fast Food',\n 'Mexican',\n 'Tacos',\n 'Burgers',\n 'Breakfast & Brunch',\n 'Auto Detailing',\n 'Car Wash',\n 'Automotive',\n 'Sushi Bars',\n 'Japanese',\n 'Restaurants',\n 'Sporting Goods',\n 'Bikes',\n 'Shopping',\n 'Thai',\n 'Restaurants',\n 'Coffee & Tea',\n 'Food',\n 'Restaurants',\n 'Italian',\n 'Chicken Wings',\n 'Restaurants',\n 'Beer',\n 'Wine & Spirits',\n 'Sandwiches',\n 'Food',\n 'Pizza',\n 'Italian',\n 'Food',\n 'Sandwiches',\n 'Ice Cream & Frozen Yogurt',\n 'Comfort Food',\n 'Breakfast & Brunch',\n 'Diners',\n 'Restaurants',\n 'Desserts',\n 'American (New)',\n 'Lounges',\n 'Nightlife',\n 'Cocktail Bars',\n 'Bars',\n 'Restaurants',\n 'American (Traditional)',\n 'Bars',\n 'American (New)',\n 'Restaurants',\n 'Sports Bars',\n 'Nightlife',\n 'Seafood',\n 'Restaurants',\n 'Wine Bars',\n 'Desserts',\n 'Bars',\n 'American (New)',\n 'Nightlife',\n 'Restaurants',\n 'Italian',\n 'Food',\n 'Salad',\n 'Breakfast & Brunch',\n 'Pizza',\n 'Food',\n 'Specialty Food',\n 'Mexican',\n 'Restaurants',\n 'Ethnic Food',\n 'Event Photography',\n 'Session Photography',\n 'Art Schools',\n 'Photographers',\n 'Event Planning & Services',\n 'Specialty Schools',\n 'Education',\n 'Cajun/Creole',\n 'Seafood',\n 'Restaurants',\n 'Breakfast & Brunch',\n 'Courthouses',\n 'Active Life',\n 'Event Planning & Services',\n 'Landmarks & Historical Buildings',\n 'Public Services & Government',\n 'Parks',\n 'Venues & Event Spaces',\n 'Coffee & Tea',\n 'Food',\n 'Restaurants',\n 'Thai',\n 'Nightlife',\n 'Restaurants',\n 'Bars',\n 'Mexican',\n 'Arts & Entertainment',\n 'Ticket Sales',\n 'Food',\n 'Juice Bars & Smoothies',\n 'Health Markets',\n 'Professional Sports Teams',\n 'Specialty Food',\n 'Stadiums & Arenas',\n 'Restaurants',\n 'Fast Food',\n 'Mexican',\n 'Nightlife',\n 'Venues & Event Spaces',\n 'Indian',\n 'Bars',\n 'Buffets',\n 'Restaurants',\n 'Lounges',\n 'Soup',\n 'Event Planning & Services',\n 'Salad',\n 'Music Venues',\n 'Arts & Entertainment',\n 'Event Planning & Services',\n 'Venues & Event Spaces',\n 'Nightlife',\n 'Jazz & Blues',\n 'Transmission Repair',\n 'Auto Repair',\n 'Tires',\n 'Oil Change Stations',\n 'Automotive',\n 'IT Services & Computer Repair',\n 'Mobile Phones',\n 'Mobile Phone Repair',\n 'Shopping',\n 'Local Services',\n 'Electronics Repair',\n 'Telecommunications',\n 'Southern',\n 'Comfort Food',\n 'Caterers',\n 'Breakfast & Brunch',\n 'Event Planning & Services',\n 'American (New)',\n 'Restaurants',\n 'American (Traditional)',\n 'Event Planning & Services',\n 'Hotels & Travel',\n 'Restaurants',\n 'Hotels',\n 'Seafood',\n 'Pizza',\n 'Event Planning & Services',\n 'Italian',\n 'Caterers',\n 'Restaurants',\n 'Restaurants',\n 'Nightlife',\n 'American (New)',\n 'Barbeque',\n 'Steakhouses',\n 'Bars',\n 'American (Traditional)',\n 'Burgers',\n 'Asian Fusion',\n 'Tapas/Small Plates',\n 'American (New)',\n 'Restaurants',\n 'Vietnamese',\n 'Korean',\n 'Noodles',\n 'Ramen',\n 'Japanese',\n 'Active Life',\n 'Baseball Fields',\n 'Stadiums & Arenas',\n 'Arts & Entertainment',\n 'Nightlife',\n 'Karaoke',\n 'Food',\n 'Szechuan',\n 'Chinese',\n 'Restaurants',\n 'Caterers',\n 'Food Delivery Services',\n 'Fast Food',\n 'Food',\n 'Restaurants',\n 'Event Planning & Services',\n 'Salad',\n 'Chicken Shop',\n 'Restaurants',\n 'Pizza',\n 'Salad',\n 'Hotels & Travel',\n 'Tours',\n 'German',\n 'Restaurants',\n 'Seafood',\n 'Cocktail Bars',\n 'French',\n 'Brasseries',\n 'American (New)',\n 'Nightlife',\n 'Bars',\n 'Cajun/Creole',\n 'Breakfast & Brunch',\n 'Hot Dogs',\n 'Ice Cream & Frozen Yogurt',\n 'Restaurants',\n 'Food',\n 'Food',\n 'Breweries',\n 'Party & Event Planning',\n 'Boating',\n 'Event Planning & Services',\n 'Local Flavor',\n 'Fishing',\n 'Hotels & Travel',\n 'Tours',\n 'Yelp Events',\n 'Active Life',\n 'Home Services',\n 'Roofing',\n 'Burgers',\n 'Vegetarian',\n 'Restaurants',\n 'Vegan',\n 'Japanese',\n 'Korean',\n 'Restaurants',\n 'Soup',\n 'Noodles',\n 'Asian Fusion',\n 'Ramen',\n 'American (New)',\n 'Restaurants',\n 'American (Traditional)',\n 'Food',\n 'Breakfast & Brunch',\n 'Coffee & Tea',\n 'Pizza',\n 'Barbeque',\n 'Restaurants',\n 'American (Traditional)',\n 'Chicken Wings',\n 'Southern',\n 'American (Traditional)',\n 'Restaurants',\n 'Tapas Bars',\n 'American (New)',\n 'Restaurants',\n 'Breakfast & Brunch',\n 'Delis',\n 'Sandwiches',\n 'Restaurants',\n 'Sandwiches',\n 'Food',\n 'Breakfast & Brunch',\n 'Bakeries',\n 'Auto Detailing',\n 'Automotive',\n 'Auto Repair',\n 'Tires',\n 'Auto Glass Services',\n 'Transportation',\n 'Movers',\n 'Home Services',\n 'Hotels & Travel',\n 'Truck Rental',\n 'Automotive',\n 'Hotels',\n 'Venues & Event Spaces',\n 'Event Planning & Services',\n 'Hotels & Travel',\n 'Hardware Stores',\n 'Recycling Center',\n 'Home Services',\n 'Local Services',\n 'Shopping',\n 'Building Supplies',\n 'Community Service/Non-Profit',\n 'Thrift Stores',\n 'Home & Garden',\n 'Bars',\n 'Music Venues',\n 'Nightlife',\n 'Arts & Entertainment',\n 'Thai',\n 'Restaurants',\n 'American (Traditional)',\n 'American (New)',\n 'Nightlife',\n 'Restaurants',\n 'Seafood',\n 'Cafes',\n 'Beer',\n 'Wine & Spirits',\n 'Cafes',\n 'Coffee & Tea',\n 'Restaurants',\n 'Food',\n 'Breakfast & Brunch',\n 'American (New)',\n 'Event Planning & Services',\n 'Venues & Event Spaces',\n 'Hotels',\n 'Hotels & Travel',\n 'Gyms',\n 'Fitness & Instruction',\n 'Active Life',\n 'Yoga',\n 'Pilates',\n 'Barre Classes',\n 'Specialty Food',\n 'Seafood Markets',\n 'Seafood',\n 'Food',\n 'Restaurants',\n 'Mexican',\n 'Latin American',\n 'Gluten-Free',\n 'Restaurants',\n 'Barbers',\n 'Beauty & Spas',\n 'Restaurants',\n 'Salad',\n 'Sushi Bars',\n 'Soup',\n 'Japanese',\n 'Seafood',\n 'Nightlife',\n 'Sports Bars',\n 'Bars',\n 'Restaurants',\n 'American (New)',\n 'Windshield Installation & Repair',\n 'Body Shops',\n 'Auto Glass Services',\n 'Automotive',\n 'Restaurants',\n 'Steakhouses',\n 'American (Traditional)',\n 'Seafood',\n 'Whiskey Bars',\n 'Wine Bars',\n 'Restaurants',\n 'Bars',\n 'American (Traditional)',\n 'Beer Bar',\n 'Pubs',\n 'Nightlife',\n 'Restaurants',\n 'Food',\n 'Sandwiches',\n 'Bakeries',\n 'Steakhouses',\n 'American (Traditional)',\n 'Bars',\n 'Chicken Wings',\n 'Nightlife',\n 'Restaurants',\n 'Sports Bars',\n 'Burgers',\n 'American (New)',\n 'Restaurants',\n 'Bars',\n 'Nightlife',\n 'American (Traditional)',\n 'Cajun/Creole',\n 'Seafood',\n 'Food',\n 'Ice Cream & Frozen Yogurt',\n 'Sushi Bars',\n 'Ramen',\n 'Food',\n 'Beer',\n 'Wine & Spirits',\n 'Restaurants',\n 'Burgers',\n 'Japanese',\n 'Seafood',\n 'Health Markets',\n 'Coffee & Tea',\n 'Ice Cream & Frozen Yogurt',\n 'Restaurants',\n 'Juice Bars & Smoothies',\n 'Breakfast & Brunch',\n 'Food',\n 'American (New)',\n 'Specialty Food',\n 'Restaurants',\n 'Cajun/Creole',\n 'American (New)',\n 'Seafood',\n 'Restaurants',\n 'Sandwiches',\n 'Food',\n 'Breakfast & Brunch',\n 'Bakeries',\n 'Furniture Stores',\n 'Home Services',\n 'Shopping',\n 'Thrift Stores',\n 'Home & Garden',\n 'Real Estate Agents',\n 'Real Estate',\n 'Latin American',\n 'Mexican',\n 'Restaurants',\n 'Halal',\n 'Pakistani',\n 'Restaurants',\n 'Indian',\n 'Restaurants',\n 'Middle Eastern',\n 'Food',\n 'Restaurants',\n 'Bakeries',\n 'Mexican',\n 'Restaurants',\n 'Pizza',\n 'Cheesesteaks',\n 'Restaurants',\n 'Chicken Wings',\n 'Gyms',\n 'Fitness & Instruction',\n 'Tanning',\n 'Trainers',\n 'Beauty & Spas',\n 'Active Life',\n 'Restaurants',\n 'Cafes',\n 'Breakfast & Brunch',\n 'Bakeries',\n 'Food',\n 'Heating & Air Conditioning/HVAC',\n 'Water Heater Installation/Repair',\n 'Electricians',\n 'Home Services',\n 'Plumbing',\n 'Mexican',\n 'Restaurants',\n 'Food',\n 'Tex-Mex',\n 'Restaurants',\n 'American (New)',\n 'Cocktail Bars',\n 'Bars',\n 'Tex-Mex',\n 'American (Traditional)',\n 'Barbeque',\n 'Nightlife',\n 'Health & Medical',\n 'Educational Services',\n 'Doulas',\n 'Placenta Encapsulations',\n 'Midwives',\n 'Education',\n 'Lactation Services',\n 'Fitness & Instruction',\n 'Active Life',\n 'Car Stereo Installation',\n 'Automotive',\n 'Windows Installation',\n 'Auto Repair',\n 'Professional Services',\n 'Auto Parts & Supplies',\n 'Home Window Tinting',\n 'Auto Glass Services',\n 'Vehicle Wraps',\n 'Car Window Tinting',\n 'Graphic Design',\n 'Home Services',\n 'Hotels',\n 'Hotels & Travel',\n 'Event Planning & Services',\n 'Burgers',\n 'Steakhouses',\n 'Restaurants',\n 'American (Traditional)',\n 'Soup',\n 'Salad',\n 'American (Traditional)',\n 'Vegetarian',\n 'Sandwiches',\n 'American (New)',\n 'Restaurants',\n 'Delis',\n 'Bars',\n 'Restaurants',\n 'Nightlife',\n 'Pubs',\n 'American (Traditional)',\n 'Sandwiches',\n 'Active Life',\n 'Parks',\n 'Chicken Wings',\n 'Restaurants',\n 'Restaurants',\n 'Diners',\n 'Breakfast & Brunch',\n 'American (Traditional)',\n 'Chiropractors',\n 'Health & Medical',\n 'Arts & Entertainment',\n 'Performing Arts',\n 'Restaurants',\n 'Fast Food',\n 'Burgers',\n 'Restaurants',\n 'New Mexican Cuisine',\n 'Mexican',\n 'Restaurants',\n 'Barbeque',\n 'Restaurants',\n 'Thai',\n 'Latin American',\n 'Restaurants',\n 'Peruvian',\n 'Seafood',\n 'Food',\n 'Donuts',\n 'Arts & Entertainment',\n 'Ticket Sales',\n 'Food',\n 'Juice Bars & Smoothies',\n 'Health Markets',\n 'Professional Sports Teams',\n 'Specialty Food',\n 'Stadiums & Arenas',\n 'Seafood',\n 'Vegetarian',\n 'Restaurants',\n 'Indian',\n 'Restaurants',\n 'Mexican',\n 'Salad',\n 'Restaurants',\n 'Vietnamese',\n 'Home Services',\n 'Home & Garden',\n 'Building Supplies',\n 'Appliances',\n 'Mattresses',\n 'Appliances & Repair',\n 'Hardware Stores',\n 'Shopping',\n 'Furniture Stores',\n 'Outlet Stores',\n 'Local Services',\n 'Plumbing',\n 'Shopping Centers',\n 'Restaurants',\n 'Chinese',\n 'Salad',\n 'Sandwiches',\n 'Restaurants',\n 'Pizza',\n 'Coffee & Tea',\n 'Coffee Roasteries',\n 'Food',\n 'Restaurants',\n 'Nightlife',\n 'Bars',\n 'Sandwiches',\n 'Dive Bars',\n 'Bars',\n 'Nightlife',\n 'Whiskey Bars',\n 'Burgers',\n 'Restaurants',\n 'American (New)',\n 'Chinese',\n 'Restaurants',\n 'Local Services',\n 'Laundry Services',\n 'Dry Cleaning & Laundry',\n 'Laundromat',\n 'Restaurants',\n 'Steakhouses',\n 'American (Traditional)',\n 'Seafood',\n 'Restaurants',\n 'Nightlife',\n 'American (Traditional)',\n 'Restaurants',\n 'Vietnamese',\n 'Music Venues',\n 'Bars',\n 'Restaurants',\n 'Italian',\n 'Steakhouses',\n 'Nightlife',\n 'Arts & Entertainment',\n 'Cocktail Bars',\n 'Pakistani',\n 'Indian',\n 'Restaurants',\n 'Seafood',\n 'Restaurants',\n 'Food',\n 'Grocery',\n 'Organic Stores',\n 'Specialty Food',\n 'Health Markets',\n 'Vegetarian',\n 'American (New)',\n 'Mediterranean',\n 'Sandwiches',\n 'Restaurants',\n 'Restaurants',\n ...]"
     },
     "execution_count": 51,
     "metadata": {},
     "output_type": "execute_result"
    }
   ],
   "source": [
    "categories_list"
   ],
   "metadata": {
    "collapsed": false,
    "ExecuteTime": {
     "end_time": "2024-11-19T09:50:11.788583800Z",
     "start_time": "2024-11-19T09:50:11.725933200Z"
    }
   },
   "id": "936a7bf264f561bf"
  },
  {
   "cell_type": "code",
   "execution_count": 52,
   "outputs": [
    {
     "name": "stdout",
     "output_type": "stream",
     "text": [
      "{'Restaurants': 72124, 'Breakfast & Brunch': 13984, 'Food': 29650, 'Juice Bars & Smoothies': 2110, 'American (New)': 16538, 'Coffee & Tea': 7824, 'Sandwiches': 10015, 'Active Life': 2529, 'Cycling Classes': 77, 'Trainers': 381, 'Gyms': 528, 'Fitness & Instruction': 849, 'Halal': 439, 'Pakistani': 654, 'Indian': 1491, 'Beer': 3516, 'Wine & Spirits': 3516, 'Bars': 21927, 'American (Traditional)': 14200, 'Nightlife': 23298, 'Mediterranean': 1985, 'Seafood': 7950, 'Greek': 1428, 'Supernatural Readings': 165, 'Tours': 1005, 'Hotels & Travel': 6034, 'Walking Tours': 348, 'Arts & Entertainment': 5790, 'Beer Bar': 1903, 'Gastropubs': 1808, 'Burgers': 7194, 'Parks': 503, 'Steakhouses': 2734, 'Sushi Bars': 3642, 'Japanese': 3454, 'Shopping': 6200, 'Jewelry': 315, 'Cafes': 5412, 'Pizza': 7245, 'Cocktail Bars': 5096, 'Italian': 6572, 'Salad': 4632, 'Tacos': 1244, 'Mexican': 6748, 'Hot Dogs': 719, 'Wine Bars': 2514, 'Makeup Artists': 589, 'Blow Dry/Out Services': 263, 'Beauty & Spas': 4887, 'Hair Salons': 1596, 'Nail Salons': 1553, 'Eyebrow Services': 91, 'Ice Cream & Frozen Yogurt': 2872, 'Local Flavor': 1803, 'Desserts': 3336, 'Breweries': 1906, 'Brewpubs': 382, 'Pubs': 3557, 'Performing Arts': 494, 'Comedy Clubs': 94, 'Poke': 198, 'Hawaiian': 141, 'Barbeque': 2739, 'Thai': 2070, 'Cajun/Creole': 4129, 'Event Planning & Services': 9954, 'Venues & Event Spaces': 3809, 'Golf': 80, 'Sports Bars': 2861, 'Lounges': 2073, 'Fast Food': 2887, 'Gas Stations': 227, 'Automotive': 2355, 'Convenience Stores': 594, 'Auto Repair': 1390, 'Smog Check Stations': 82, 'Auto Parts & Supplies': 568, 'Bakeries': 3475, 'Health & Medical': 1771, 'Massage': 783, 'Physical Therapy': 75, 'Massage Therapy': 389, 'Casinos': 705, 'Day Spas': 1697, 'Hotels': 4272, 'Delis': 1821, 'Comfort Food': 1667, 'Southern': 2984, 'Buffets': 738, 'Bagels': 782, 'Sporting Goods': 419, 'Outdoor Gear': 111, 'Internet Cafes': 159, 'Caterers': 3072, 'Jazz & Blues': 746, 'Donuts': 1372, 'Whiskey Bars': 449, 'Soup': 1417, 'Hair Removal': 1359, 'Waxing': 984, 'Hair Extensions': 241, 'Oil Change Stations': 630, 'Tires': 605, 'Contractors': 223, 'Home Services': 1823, 'Plumbing': 101, 'Water Purification Services': 12, 'Heating & Air Conditioning/HVAC': 165, 'Fish & Chips': 334, 'Vegetarian': 2511, 'Home & Garden': 1120, 'Furniture Stores': 336, 'Home Decor': 449, 'Flowers & Gifts': 610, 'Gift Shops': 240, 'Chicken Wings': 1940, 'Beer Gardens': 291, 'Diners': 2181, 'Live/Raw Food': 672, 'Pets': 765, 'Cheese Shops': 234, 'Health Markets': 477, 'Grocery': 1874, 'Specialty Food': 3912, 'Dive Bars': 766, 'Fashion': 1520, \"Women's Clothing\": 549, 'Vietnamese': 1700, 'Boating': 230, 'Rafting/Kayaking': 58, 'Travel Services': 109, 'Auto Detailing': 226, 'Car Wash': 270, 'Bikes': 163, 'Ethnic Food': 697, 'Event Photography': 42, 'Session Photography': 51, 'Art Schools': 23, 'Photographers': 84, 'Specialty Schools': 263, 'Education': 414, 'Courthouses': 36, 'Landmarks & Historical Buildings': 195, 'Public Services & Government': 343, 'Ticket Sales': 16, 'Professional Sports Teams': 50, 'Stadiums & Arenas': 179, 'Music Venues': 2065, 'Transmission Repair': 85, 'IT Services & Computer Repair': 203, 'Mobile Phones': 185, 'Mobile Phone Repair': 103, 'Local Services': 1986, 'Electronics Repair': 100, 'Telecommunications': 45, 'Asian Fusion': 2353, 'Tapas/Small Plates': 952, 'Korean': 1101, 'Noodles': 812, 'Ramen': 425, 'Baseball Fields': 109, 'Karaoke': 288, 'Szechuan': 333, 'Chinese': 3030, 'Food Delivery Services': 798, 'Chicken Shop': 438, 'German': 1129, 'French': 1857, 'Brasseries': 1156, 'Party & Event Planning': 471, 'Fishing': 80, 'Yelp Events': 13, 'Roofing': 26, 'Vegan': 1552, 'Tapas Bars': 529, 'Auto Glass Services': 154, 'Transportation': 481, 'Movers': 206, 'Truck Rental': 49, 'Hardware Stores': 180, 'Recycling Center': 29, 'Building Supplies': 188, 'Community Service/Non-Profit': 171, 'Thrift Stores': 219, 'Yoga': 264, 'Pilates': 91, 'Barre Classes': 26, 'Seafood Markets': 353, 'Latin American': 1389, 'Gluten-Free': 1285, 'Barbers': 497, 'Windshield Installation & Repair': 98, 'Body Shops': 277, 'Real Estate Agents': 47, 'Real Estate': 377, 'Middle Eastern': 675, 'Cheesesteaks': 621, 'Tanning': 137, 'Water Heater Installation/Repair': 97, 'Electricians': 68, 'Tex-Mex': 1586, 'Educational Services': 51, 'Doulas': 18, 'Placenta Encapsulations': 4, 'Midwives': 30, 'Lactation Services': 28, 'Car Stereo Installation': 43, 'Windows Installation': 62, 'Professional Services': 485, 'Home Window Tinting': 41, 'Vehicle Wraps': 31, 'Car Window Tinting': 51, 'Graphic Design': 54, 'Chiropractors': 114, 'New Mexican Cuisine': 189, 'Peruvian': 141, 'Appliances': 155, 'Mattresses': 121, 'Appliances & Repair': 106, 'Outlet Stores': 26, 'Shopping Centers': 166, 'Coffee Roasteries': 409, 'Laundry Services': 216, 'Dry Cleaning & Laundry': 218, 'Laundromat': 38, 'Organic Stores': 221, 'Wraps': 295, 'Museums': 594, 'Cinema': 542, 'Resorts': 542, 'Florists': 312, 'Wine Tasting Room': 162, 'Wineries': 401, 'Dermatologists': 27, 'Doctors': 426, 'Cuban': 553, 'Food Tours': 97, 'Urgent Care': 119, 'Emergency Rooms': 6, 'Motorcycle Rental': 11, 'Hiking': 108, 'Mountain Biking': 16, 'ATV Rentals/Tours': 13, 'RV Rental': 9, 'Reflexology': 87, 'Cosmetics & Beauty Supply': 495, 'Taiwanese': 388, 'Tea Rooms': 131, 'Bubble Tea': 792, 'Bike Repair/Maintenance': 96, 'Malaysian': 238, 'Cambodian': 306, 'Fruits & Veggies': 185, 'Car Dealers': 562, 'Registration Services': 13, 'Armenian': 153, 'Permanent Makeup': 32, 'Skin Care': 1024, 'Float Spa': 21, 'Car Rental': 263, 'Carpeting': 57, 'Auto Upholstery': 9, 'Rugs': 30, 'Carpet Cleaning': 73, 'Real Estate Services': 79, 'Tanning Beds': 12, 'Weight Loss Centers': 89, 'Spray Tanning': 75, 'Art Galleries': 591, 'Art Museums': 124, 'Botanical Gardens': 78, 'Shared Office Spaces': 29, 'Piano Bars': 52, 'Senegalese': 12, 'African': 118, 'Moroccan': 236, 'Sports Clubs': 66, 'Caribbean': 900, 'Cupcakes': 561, 'Marketing': 29, 'Funeral Services & Cemeteries': 31, 'Irish Pub': 198, 'Irish': 153, 'Distilleries': 222, 'Teppanyaki': 72, 'Candy Stores': 380, 'Chocolatiers & Shops': 360, 'Bar Crawl': 26, 'Bed & Breakfast': 287, 'Optometrists': 203, 'Accessories': 344, 'Eyewear & Opticians': 205, 'Leisure Centers': 11, 'Bowling': 177, 'Laser Tag': 14, 'Apartments': 189, 'Imported Food': 200, 'Drugstores': 354, 'Pharmacy': 74, 'Family Practice': 73, 'Festivals': 172, 'Wedding Planning': 325, 'Party Bus Rentals': 58, 'Wine Tours': 190, 'Limos': 92, 'Financial Services': 127, 'Mortgage Brokers': 30, 'Banks & Credit Unions': 50, 'Sports Wear': 92, 'Motorcycle Gear': 5, 'Motorsport Vehicle Dealers': 2, 'Motorsport Vehicle Repairs': 2, 'Motorcycle Repair': 19, 'Motorcycle Dealers': 19, 'Meat Shops': 435, 'Butcher': 297, 'Tobacco Shops': 169, 'Vape Shops': 77, 'Cosmetology Schools': 49, 'Used Car Dealers': 107, 'Waffles': 111, 'British': 160, 'Pet Stores': 287, 'Bird Shops': 6, 'Gay Bars': 79, 'Dance Clubs': 399, 'Wheel & Rim Repair': 67, \"Men's Hair Salons\": 194, 'Security Systems': 65, 'Internet Service Providers': 103, 'Television Service Providers': 58, 'Bespoke Clothing': 19, \"Men's Clothing\": 370, 'Embroidery & Crochet': 12, 'Sewing & Alterations': 206, 'Arts & Crafts': 396, 'Food Trucks': 686, 'Gunsmith': 38, 'Keys & Locksmiths': 106, 'Safe Stores': 30, 'Falafel': 214, 'Food Stands': 445, 'Kitchen & Bath': 68, 'Service Stations': 3, 'Ophthalmologists': 54, 'Laser Eye Surgery/Lasik': 33, 'Acai Bowls': 331, 'Kosher': 69, 'Religious Organizations': 23, 'Photography Stores & Services': 70, 'Tattoo': 179, 'Creperies': 182, 'Gelato': 304, 'Dog Parks': 77, 'Soul Food': 659, 'Custom Cakes': 152, 'Computers': 74, 'Electronics': 349, 'Modern European': 249, 'Salvadoran': 83, 'Cooking Schools': 65, 'Department Stores': 441, 'Puerto Rican': 108, 'Oral Surgeons': 71, 'General Dentistry': 207, 'Endodontists': 68, 'Dentists': 237, 'Cosmetic Dentists': 174, 'Periodontists': 33, 'Zoos': 15, 'Aquariums': 8, 'Amusement Parks': 162, 'Auto Loan Providers': 39, 'Appraisal Services': 8, 'Hobby Shops': 107, 'Art Supplies': 84, 'Jewelry Repair': 46, 'Pet Groomers': 367, 'Pet Sitting': 222, 'Pet Boarding': 47, 'Pet Services': 555, 'Boat Charters': 171, 'Boat Tours': 259, 'Watch Repair': 56, 'Watches': 52, 'Boot Camps': 103, 'Martial Arts': 37, 'Nutritionists': 34, 'Shipping Centers': 103, 'Notaries': 69, 'Printing Services': 136, 'Mailbox Centers': 33, 'Guns & Ammo': 70, 'Nail Technicians': 59, 'Trophy Shops': 8, 'Hair Stylists': 353, 'Social Clubs': 41, 'Street Vendors': 258, 'Archery': 32, 'Recreation Centers': 48, 'Hunting & Fishing Supplies': 47, 'Flooring': 60, 'RV Dealers': 13, 'RV Repair': 8, 'Matchmakers': 2, 'Life Coach': 10, 'Paint Stores': 8, 'Personal Chefs': 175, 'Hospitals': 94, 'Pet Training': 157, 'Office Equipment': 54, 'Farmers Market': 286, 'Beer Tours': 162, 'Post Offices': 36, 'Vitamins & Supplements': 20, 'Used': 288, 'Vintage & Consignment': 288, 'Antiques': 121, 'Books': 280, 'Mags': 280, 'Music & Video': 280, 'Videos & Video Game Rental': 40, 'Bus Tours': 154, 'Historical Tours': 252, 'Veterinarians': 265, 'Public Transportation': 112, 'Eyelash Service': 422, 'Boat Repair': 24, 'Piercing': 110, 'Herbs & Spices': 90, 'Basque': 67, 'Spanish': 317, 'Health Retreats': 22, 'Home Organization': 38, 'Office Cleaning': 49, 'Handyman': 68, 'Home Cleaning': 152, 'Patisserie/Cake Shop': 250, 'Pasta Shops': 228, 'Meaderies': 6, 'Parking': 22, 'Self Storage': 128, 'Generator Installation/Repair': 17, 'Tiki Bars': 162, 'Turkish': 123, 'Laotian': 157, 'Medical Centers': 141, 'Counseling & Mental Health': 13, 'Kombucha': 43, 'Cideries': 59, 'Pool Halls': 116, 'Pop-Up Restaurants': 63, 'Guest Houses': 64, 'Pediatricians': 44, 'Adult Entertainment': 74, 'Eatertainment': 49, 'Arcades': 208, 'Pop-up Shops': 19, 'Walk-in Clinics': 21, 'Interval Training Gyms': 41, 'Cantonese': 140, 'Dim Sum': 161, 'Bridal': 202, 'Bike Rentals': 106, 'Couriers & Delivery Services': 31, 'Canadian (New)': 172, 'Cards & Stationery': 56, 'Laser Hair Removal': 149, 'Medical Spas': 226, 'Knitting Supplies': 26, 'Shaved Ice': 186, 'Damage Restoration': 28, 'Tree Services': 34, 'Hookah Bars': 133, 'Kitchen Supplies': 4, 'Coffeeshops': 20, 'Delicatessen': 6, 'Shoe Stores': 178, 'Pediatric Dentists': 40, \"Children's Clothing\": 86, 'Adult': 25, 'Prosthodontists': 5, 'Child Care & Day Care': 30, 'Ethiopian': 150, 'Empanadas': 101, 'Sunglasses': 8, 'Nurseries & Gardening': 181, 'Dry Cleaning': 76, 'Music & DVDs': 65, 'Video Game Stores': 31, 'Discount Store': 125, 'Formal Wear': 64, 'Bookstores': 162, 'Used Bookstore': 86, 'Adult Education': 47, 'Cultural Center': 48, 'Kebab': 123, 'Lebanese': 81, 'Toy Stores': 87, \"Children's Museums\": 118, 'Trinidadian': 28, 'Costumes': 61, 'Spiritual Shop': 87, 'Souvenir Shops': 59, 'Bartenders': 35, 'Gold Buyers': 36, 'Pet Adoption': 32, 'Pet Hospice': 9, 'Speakeasies': 20, 'Haunted Houses': 46, 'Kids Activities': 82, 'Lice Services': 6, 'Circuit Training Gyms': 4, 'Perfume': 53, 'Personal Shopping': 23, 'Pickleball': 37, 'Swimming Pools': 84, 'Fireworks': 3, 'Water Parks': 44, 'Ski Resorts': 3, 'Door Sales/Installation': 45, 'Garage Door Services': 25, 'Fabric Stores': 33, 'Video/Film Production': 18, 'Videographers': 17, 'Popcorn Shops': 12, 'Smokehouse': 86, 'Fondue': 8, 'Rehabilitation Center': 15, 'Filipino': 50, 'Mongolian': 42, 'Cooking Classes': 44, 'Teeth Whitening': 18, 'Argentine': 12, 'Traditional Chinese Medicine': 38, 'Acupuncture': 77, 'Airports': 26, 'Airlines': 12, 'Persian/Iranian': 17, 'Naturopathic/Holistic': 46, 'Air Duct Cleaning': 51, 'Campgrounds': 37, 'RV Parks': 38, 'Polish': 11, 'Hostels': 23, 'Honey': 1, 'Accountants': 13, 'Livestock Feed & Supply': 2, 'Utilities': 16, 'Home Theatre Installation': 37, 'Psychics': 40, 'Framing': 47, 'Nanny Services': 2, 'Golf Lessons': 18, 'Golf Equipment': 11, 'Auto Customization': 35, 'Wholesale Stores': 80, 'Property Management': 59, 'Baby Gear & Furniture': 61, 'Coffee & Tea Supplies': 2, 'Afghan': 61, 'Pan Asian': 84, 'Lighting Fixtures & Equipment': 18, 'Paddleboarding': 19, 'Cardio Classes': 31, 'Floral Designers': 39, 'Jet Skis': 15, 'Burmese': 22, 'Musicians': 44, 'Mobile Phone Accessories': 52, 'Escape Games': 39, 'Playgrounds': 69, 'Donairs': 20, 'Tennis': 23, 'Skating Rinks': 16, 'Dominican': 81, 'Firearm Training': 4, 'Allergists': 4, 'Pulmonologist': 2, 'Libraries': 14, 'Insulation Installation': 19, 'Pest Control': 41, 'Tax Services': 9, 'Bookkeepers': 3, 'Business Consulting': 1, 'Financial Advising': 17, 'Amateur Sports Teams': 27, 'Saunas': 11, 'Junk Removal & Hauling': 57, 'Shoe Repair': 58, 'Food Court': 18, 'Party Supplies': 70, 'Gun/Rifle Ranges': 63, 'University Housing': 15, 'Siding': 9, 'Masonry/Concrete': 18, 'Stonemasons': 1, 'Stucco Services': 8, 'Lawyers': 21, 'Divorce & Family Law': 1, 'DUI Law': 12, 'Criminal Defense Law': 12, 'Personal Injury Law': 4, 'Legal Services': 4, 'Hair Loss Centers': 5, 'Airport Shuttles': 70, 'Taxis': 79, 'Races & Competitions': 1, 'Glass & Mirrors': 35, 'Metal Fabricators': 5, 'Train Stations': 83, 'Swimming Lessons/Schools': 15, 'Mass Media': 17, 'Radio Stations': 8, 'Nephrologists': 5, 'Orthopedists': 19, 'Sardinian': 23, 'Calabrian': 20, 'Indonesian': 31, 'Art Classes': 50, 'Packing Services': 51, 'Cabinetry': 5, 'Interior Design': 54, 'Towing': 99, 'Home Staging': 6, 'Propane': 40, 'Packing Supplies': 36, 'Paint-Your-Own Pottery': 7, 'Brazilian Jiu-jitsu': 18, 'Kickboxing': 22, 'Boxing': 41, 'Obstetricians & Gynecologists': 31, 'Colleges & Universities': 24, 'Cardiologists': 6, 'Laboratory Testing': 13, 'Diagnostic Services': 27, 'Indoor Playcentre': 19, 'Lingerie': 20, 'Swimwear': 22, 'Do-It-Yourself Food': 92, 'Hot Pot': 66, 'Orthodontists': 72, 'Kitchen Incubators': 22, 'Pressure Washers': 16, 'Grout Services': 8, 'Window Washing': 19, 'Plus Size Fashion': 28, 'Head Shops': 39, 'Cafeteria': 25, 'Maternity Wear': 23, 'Dog Walkers': 36, 'Singaporean': 19, 'Brazilian': 19, 'Tiling': 10, 'Animal Shelters': 33, 'Massage Schools': 7, 'Childbirth Education': 29, 'Parenting Classes': 23, 'Race Tracks': 5, 'Preschools': 24, 'Landscaping': 71, 'Lawn Services': 12, 'Internal Medicine': 33, 'Wigs': 46, 'Beverage Store': 17, 'Web Design': 20, 'Brewing Supplies': 13, 'Disc Golf': 11, 'Uniforms': 10, 'Ski & Snowboard Shops': 5, 'Screen Printing/T-Shirt Printing': 20, 'Irrigation': 6, 'Private Investigation': 7, 'Comic Books': 19, 'Signmaking': 38, 'Elementary Schools': 14, 'Go Karts': 17, 'Party Equipment Rentals': 28, 'Vinyl Records': 54, 'Leather Goods': 23, 'Town Car Service': 4, 'Sports Medicine': 49, 'Advertising': 9, 'Investing': 6, 'Dance Studios': 17, 'Auction Houses': 11, 'Roadside Assistance': 19, 'Donation Center': 15, 'Churches': 11, 'Meditation Centers': 13, 'Russian': 26, 'Drive-Thru Bars': 6, 'Mini Golf': 22, 'Buses': 16, 'Bus Rental': 17, 'Climbing': 24, 'Cannabis Dispensaries': 9, 'Cosmetic Surgeons': 13, 'Sleep Specialists': 4, 'Pool & Billiards': 19, 'Venezuelan': 24, 'Czech': 41, 'Himalayan/Nepalese': 32, 'CPR Classes': 14, 'Prenatal/Perinatal Care': 23, 'Pool & Hot Tub Service': 17, 'Hot Tub & Pool': 18, 'Pool Cleaners': 24, 'Public Art': 5, 'Emergency Pet Hospital': 26, 'Beaches': 53, 'Paint & Sip': 38, 'Candle Stores': 12, 'Chimney Sweeps': 8, 'Tutoring Centers': 8, 'Fences & Gates': 9, 'Departments of Motor Vehicles': 14, 'Flight Instruction': 2, 'Furniture Reupholstery': 5, 'Furniture Repair': 7, 'Private Tutors': 8, 'House Sitters': 3, 'Pet Transportation': 1, 'Retirement Homes': 6, 'Assisted Living Facilities': 4, 'Mobile Dent Repair': 6, 'Home Inspectors': 22, 'Test Preparation': 1, 'Tabletop Games': 9, 'Carpet Installation': 29, 'Musical Instruments & Teachers': 37, 'Colonics': 7, 'Reproductive Health Services': 10, 'Machine & Tool Rental': 3, 'Trailer Rental': 4, 'Arabic': 7, 'Shades & Blinds': 35, 'Halotherapy': 7, 'Sugaring': 16, 'Dive Shops': 9, 'Diving': 38, 'Scuba Diving': 11, 'Free Diving': 3, 'Fingerprinting': 2, 'Wedding Chapels': 1, 'Tui Na': 6, 'Fertility': 4, 'Basketball Courts': 3, 'International': 8, 'Pain Management': 5, 'Ukrainian': 12, 'Data Recovery': 13, 'Mobile Home Repair': 10, 'Painters': 12, 'Decks & Railing': 5, 'Landscape Architects': 34, 'Valet Services': 8, 'Parent Cafes': 16, 'Powder Coating': 2, 'Fitness/Exercise Equipment': 12, 'Holiday Decorations': 10, 'Screen Printing': 42, 'Batting Cages': 6, 'Country Clubs': 17, 'Refinishing Services': 5, 'Pole Dancing Classes': 7, 'Insurance': 31, 'Gardeners': 17, 'Reiki': 31, 'Themed Cafes': 19, 'Personal Assistants': 9, 'Haitian': 3, 'Bike Sharing': 3, 'Military Surplus': 4, 'Henna Artists': 4, 'Shanghainese': 15, 'Clothing Rental': 14, 'Team Building Activities': 17, 'Scavenger Hunts': 1, 'Print Media': 6, 'International Grocery': 52, 'Employment Agencies': 1, 'Dance Schools': 5, 'Aquarium Services': 17, 'Art Restoration': 2, 'Austrian': 17, 'Hats': 6, 'Guitar Stores': 17, 'Musical Instrument Services': 37, 'Auto Security': 15, 'Engraving': 9, 'Summer Camps': 35, 'Rock Climbing': 10, 'DJs': 22, 'Mortgage Lenders': 13, 'Pretzels': 13, 'Flea Markets': 11, 'High Fidelity Audio Equipment': 3, 'Home Automation': 2, 'Home Network Installation': 6, 'Diagnostic Imaging': 18, 'Day Camps': 12, 'Trains': 1, 'Tubing': 8, 'Pet Photography': 7, 'Photo Booth Rentals': 4, 'Vocational & Technical School': 7, 'Septic Services': 26, 'Gutter Services': 11, 'Fireplace Services': 8, 'Customized Merchandise': 16, 'Medical Supplies': 19, 'Photography Classes': 3, 'Special Education': 9, 'Battery Stores': 2, 'Rest Stops': 5, 'Strip Clubs': 5, 'Champagne Bars': 6, 'Striptease Dancers': 5, 'Outdoor Furniture Stores': 7, 'Public Relations': 4, 'Wholesalers': 9, 'Commercial Truck Dealers': 13, 'Wildlife Control': 4, 'Software Development': 2, 'Ethnic Grocery': 5, 'Aerial Fitness': 3, 'Cabaret': 8, 'Challenge Courses': 9, 'TV Mounting': 18, 'Piano Services': 17, 'Boudoir Photography': 2, 'Axe Throwing': 11, 'Virtual Reality Centers': 9, 'Snow Removal': 18, 'Threading Services': 9, 'Skate Shops': 8, 'Astrologers': 29, 'Psychic Mediums': 2, 'Pumpkin Patches': 2, 'Farms': 3, 'Pick Your Own Farms': 2, 'Orthotics': 4, 'Carpenters': 6, 'Drywall Installation & Repair': 2, 'Demolition Services': 1, 'Gemstones & Minerals': 31, 'Farming Equipment': 2, 'Trailer Dealers': 4, 'Environmental Abatement': 1, 'Hydroponics': 2, 'Junkyards': 4, 'Crane Services': 4, 'Pawn Shops': 4, 'Alternative Medicine': 1, 'Waldorf Schools': 2, 'Private Schools': 2, 'Middle Schools & High Schools': 4, 'Community Centers': 2, 'Gymnastics': 6, 'Trampoline Parks': 13, 'Golf Equipment Shops': 1, 'Lighting Stores': 3, 'Car Buyers': 17, 'Water Delivery': 7, 'Plastic Surgeons': 2, 'Tuscan': 2, 'Nurse Practitioner': 2, 'Sicilian': 2, 'Acne Treatment': 2, 'Solar Installation': 16, 'Vacation Rentals': 12, 'Shoe Shine': 19, 'Commercial Real Estate': 6, 'Petting Zoos': 4, 'Skate Parks': 3, 'Urologists': 3, 'Shaved Snow': 5, 'Olive Oil': 3, 'Airport Lounges': 6, 'Beach Equipment Rentals': 5, 'Surf Schools': 8, 'Surf Shop': 11, 'Hypnosis/Hypnotherapy': 5, 'Hospice': 2, 'Architectural Tours': 1, 'Spine Surgeons': 3, 'Ayurveda': 1, 'Emergency Medicine': 2, 'Balloon Services': 1, 'Karate': 1, 'Waterproofing': 7, 'Observatories': 3, 'Environmental Testing': 8, 'Auto Insurance': 15, 'Home & Rental Insurance': 4, 'Home Health Care': 2, 'Ear Nose & Throat': 5, 'Religious Items': 2, 'Soccer': 5, 'Furniture Assembly': 5, 'Surfing': 6, 'Dance Wear': 2, 'Bicycle Paths': 3, 'Occupational Therapy': 3, 'Car Share Services': 2, 'Driving Schools': 2, 'Hydrotherapy': 2, 'Reptile Shops': 6, 'Osteopathic Physicians': 3, 'Restaurant Supplies': 1, 'Blood & Plasma Donation Centers': 1, 'Shutters': 2, 'Kids Hair Salons': 4, 'Surgeons': 5, 'Tattoo Removal': 1, 'Drive-In Theater': 13, 'Psychologists': 1, 'Psychiatrists': 2, 'Local Fish Stores': 1, 'Gastroenterologist': 4, 'Payroll Services': 2, 'Hearing Aid Providers': 5, 'Audiologist': 4, 'Life Insurance': 6, 'Podiatrists': 6, 'Security Services': 4, 'Bike Repair': 3, 'Bicycles': 3, 'Traffic Ticketing Law': 3, 'General Litigation': 3, 'Real Estate Photography': 1, 'Title Loans': 2, 'Snorkeling': 2, 'Piano Stores': 2, 'Firewood': 3, 'Condominiums': 6, 'Scooter Rentals': 2, 'Addiction Medicine': 1, 'Car Inspectors': 5, 'Wallpapering': 1, 'Horseback Riding': 4, 'Cigar Bars': 4, 'Structural Engineers': 2, 'Countertop Installation': 1, 'Parasailing': 2, 'Dental Hygienists': 2, 'Radiologists': 3, 'Squash': 1, 'Motorcycle Parts & Supplies': 3, 'Digitizing Services': 1, 'Passport & Visa Services': 1, 'Flowers': 2, 'Herbal Shops': 2, 'Water Stores': 3, 'Christmas Trees': 4, 'Dumpster Rental': 1, 'Props': 2, 'Paintball': 2, 'Airsoft': 1, 'Officiants': 2, 'Television Stations': 1, 'Employment Law': 1, 'Workers Compensation Law': 1, 'Luggage': 5, 'Medical Transportation': 1, 'Macarons': 4, 'Bounce House Rentals': 2, 'Ethical Grocery': 1, 'Nursing Schools': 1, 'Bartending Schools': 1, 'Knife Sharpening': 1, 'Ultrasound Imaging Centers': 4, 'Recording & Rehearsal Studios': 1, 'Badminton': 2, 'Fire Protection Services': 1, 'Mobility Equipment Sales & Services': 2, 'Body Contouring': 1, 'Trailer Repair': 1, 'Marinas': 1}\n"
     ]
    }
   ],
   "source": [
    "\n",
    "frequency = {}\n",
    "\n",
    "# iterating over the list\n",
    "for item in categories_list:\n",
    "   # checking the element in dictionary\n",
    "   if item in frequency:\n",
    "      # incrementing the counr\n",
    "      frequency[item] += 1\n",
    "   else:\n",
    "      # initializing the count\n",
    "      frequency[item] = 1\n",
    "\n",
    "# printing the frequency\n",
    "print(frequency)"
   ],
   "metadata": {
    "collapsed": false,
    "ExecuteTime": {
     "end_time": "2024-11-19T09:50:23.269759900Z",
     "start_time": "2024-11-19T09:50:23.174472900Z"
    }
   },
   "id": "c47428053cd2dfaf"
  },
  {
   "cell_type": "code",
   "execution_count": 53,
   "outputs": [
    {
     "data": {
      "text/plain": "86"
     },
     "execution_count": 53,
     "metadata": {},
     "output_type": "execute_result"
    }
   ],
   "source": [
    "freq_list = {k: v for k, v in frequency.items() if v > 1000}\n",
    "len(freq_list)"
   ],
   "metadata": {
    "collapsed": false,
    "ExecuteTime": {
     "end_time": "2024-11-19T09:50:25.368567800Z",
     "start_time": "2024-11-19T09:50:25.352891Z"
    }
   },
   "id": "fe947322bdd02ad6"
  },
  {
   "cell_type": "code",
   "execution_count": null,
   "outputs": [],
   "source": [],
   "metadata": {
    "collapsed": false
   },
   "id": "303b77abf4c15c05"
  },
  {
   "cell_type": "code",
   "execution_count": 54,
   "outputs": [
    {
     "data": {
      "text/plain": "{'Restaurants': 72124,\n 'Breakfast & Brunch': 13984,\n 'Food': 29650,\n 'Juice Bars & Smoothies': 2110,\n 'American (New)': 16538,\n 'Coffee & Tea': 7824,\n 'Sandwiches': 10015,\n 'Active Life': 2529,\n 'Indian': 1491,\n 'Beer': 3516,\n 'Wine & Spirits': 3516,\n 'Bars': 21927,\n 'American (Traditional)': 14200,\n 'Nightlife': 23298,\n 'Mediterranean': 1985,\n 'Seafood': 7950,\n 'Greek': 1428,\n 'Tours': 1005,\n 'Hotels & Travel': 6034,\n 'Arts & Entertainment': 5790,\n 'Beer Bar': 1903,\n 'Gastropubs': 1808,\n 'Burgers': 7194,\n 'Steakhouses': 2734,\n 'Sushi Bars': 3642,\n 'Japanese': 3454,\n 'Shopping': 6200,\n 'Cafes': 5412,\n 'Pizza': 7245,\n 'Cocktail Bars': 5096,\n 'Italian': 6572,\n 'Salad': 4632,\n 'Tacos': 1244,\n 'Mexican': 6748,\n 'Wine Bars': 2514,\n 'Beauty & Spas': 4887,\n 'Hair Salons': 1596,\n 'Nail Salons': 1553,\n 'Ice Cream & Frozen Yogurt': 2872,\n 'Local Flavor': 1803,\n 'Desserts': 3336,\n 'Breweries': 1906,\n 'Pubs': 3557,\n 'Barbeque': 2739,\n 'Thai': 2070,\n 'Cajun/Creole': 4129,\n 'Event Planning & Services': 9954,\n 'Venues & Event Spaces': 3809,\n 'Sports Bars': 2861,\n 'Lounges': 2073,\n 'Fast Food': 2887,\n 'Automotive': 2355,\n 'Auto Repair': 1390,\n 'Bakeries': 3475,\n 'Health & Medical': 1771,\n 'Day Spas': 1697,\n 'Hotels': 4272,\n 'Delis': 1821,\n 'Comfort Food': 1667,\n 'Southern': 2984,\n 'Caterers': 3072,\n 'Donuts': 1372,\n 'Soup': 1417,\n 'Hair Removal': 1359,\n 'Home Services': 1823,\n 'Vegetarian': 2511,\n 'Home & Garden': 1120,\n 'Chicken Wings': 1940,\n 'Diners': 2181,\n 'Grocery': 1874,\n 'Specialty Food': 3912,\n 'Fashion': 1520,\n 'Vietnamese': 1700,\n 'Music Venues': 2065,\n 'Local Services': 1986,\n 'Asian Fusion': 2353,\n 'Korean': 1101,\n 'Chinese': 3030,\n 'German': 1129,\n 'French': 1857,\n 'Brasseries': 1156,\n 'Vegan': 1552,\n 'Latin American': 1389,\n 'Gluten-Free': 1285,\n 'Tex-Mex': 1586,\n 'Skin Care': 1024}"
     },
     "execution_count": 54,
     "metadata": {},
     "output_type": "execute_result"
    }
   ],
   "source": [
    "freq_list"
   ],
   "metadata": {
    "collapsed": false,
    "ExecuteTime": {
     "end_time": "2024-11-19T09:50:30.346285100Z",
     "start_time": "2024-11-19T09:50:30.328747200Z"
    }
   },
   "id": "beefe46f5bae78d8"
  },
  {
   "cell_type": "code",
   "execution_count": 30,
   "outputs": [
    {
     "data": {
      "text/plain": "array(['Restaurants, Breakfast & Brunch, Food, Juice Bars & Smoothies, American (New), Coffee & Tea, Sandwiches',\n       'Active Life, Cycling Classes, Trainers, Gyms, Fitness & Instruction',\n       'Restaurants, Breakfast & Brunch', ...,\n       'Cosmetics & Beauty Supply, Hair Stylists, Blow Dry/Out Services, Shopping, Hair Extensions, Hair Salons, Beauty & Spas',\n       'Restaurants, Bars, Nightlife, American (Traditional)',\n       'Comic Books, Toy Stores, Food, Bookstores, Coffee & Tea, Books, Mags, Music & Video, Music & DVDs, Shopping'],\n      dtype=object)"
     },
     "execution_count": 30,
     "metadata": {},
     "output_type": "execute_result"
    }
   ],
   "source": [
    "df_merged['categories'].unique()"
   ],
   "metadata": {
    "collapsed": false,
    "ExecuteTime": {
     "end_time": "2024-11-19T09:15:34.088448Z",
     "start_time": "2024-11-19T09:15:31.815798500Z"
    }
   },
   "id": "810b6e22a690e1bd"
  },
  {
   "cell_type": "code",
   "execution_count": 31,
   "outputs": [
    {
     "data": {
      "text/plain": "array([ 0,  2,  1,  5,  3,  4,  6, 12, 19,  9,  7, 10, 11, 13, 26,  8, 25,\n       18, 15, 21, 16, 14, 24, 17, 22, 20, 38, 27, 23, 98, 30, 32, 28, 39])"
     },
     "execution_count": 31,
     "metadata": {},
     "output_type": "execute_result"
    }
   ],
   "source": [
    "yelp_review_df['funny'].unique()"
   ],
   "metadata": {
    "collapsed": false,
    "ExecuteTime": {
     "end_time": "2024-11-19T09:15:34.088448Z",
     "start_time": "2024-11-19T09:15:32.411543500Z"
    }
   },
   "id": "7e64acfe6040191f"
  },
  {
   "cell_type": "code",
   "execution_count": 32,
   "outputs": [
    {
     "data": {
      "text/plain": "array([ 0,  1,  2,  3,  4,  9,  5,  6,  7,  8, 12, 11, 13, 10, 44, 15, 14,\n       32, 17, 19, 23, 21, 26, 22, 27, 29, 25, 49, 31, 16, 33, 24, 18, 41,\n       42, 20])"
     },
     "execution_count": 32,
     "metadata": {},
     "output_type": "execute_result"
    }
   ],
   "source": [
    "yelp_review_df['cool'].unique()"
   ],
   "metadata": {
    "collapsed": false,
    "ExecuteTime": {
     "end_time": "2024-11-19T09:15:34.088448Z",
     "start_time": "2024-11-19T09:15:32.728391300Z"
    }
   },
   "id": "ab038db56f120210"
  },
  {
   "cell_type": "code",
   "execution_count": 33,
   "outputs": [
    {
     "data": {
      "text/plain": "6990280"
     },
     "execution_count": 33,
     "metadata": {},
     "output_type": "execute_result"
    }
   ],
   "source": [
    "len(yelp_review)"
   ],
   "metadata": {
    "collapsed": false,
    "ExecuteTime": {
     "end_time": "2024-11-19T09:15:34.088448Z",
     "start_time": "2024-11-19T09:15:33.156123900Z"
    }
   },
   "id": "baaa1ac8969bc571"
  },
  {
   "cell_type": "code",
   "execution_count": 33,
   "outputs": [],
   "source": [],
   "metadata": {
    "collapsed": false,
    "ExecuteTime": {
     "end_time": "2024-11-19T09:15:34.088448Z",
     "start_time": "2024-11-19T09:15:33.835531400Z"
    }
   },
   "id": "e70a6eb93a2136e1"
  }
 ],
 "metadata": {
  "kernelspec": {
   "display_name": "Python 3",
   "language": "python",
   "name": "python3"
  },
  "language_info": {
   "codemirror_mode": {
    "name": "ipython",
    "version": 2
   },
   "file_extension": ".py",
   "mimetype": "text/x-python",
   "name": "python",
   "nbconvert_exporter": "python",
   "pygments_lexer": "ipython2",
   "version": "2.7.6"
  }
 },
 "nbformat": 4,
 "nbformat_minor": 5
}
