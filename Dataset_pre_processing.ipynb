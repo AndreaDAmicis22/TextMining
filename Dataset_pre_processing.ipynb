{
 "cells": [
  {
   "cell_type": "code",
   "execution_count": 1,
   "id": "initial_id",
   "metadata": {
    "collapsed": true,
    "ExecuteTime": {
     "end_time": "2024-12-12T14:23:51.000850500Z",
     "start_time": "2024-12-12T14:23:50.917411700Z"
    }
   },
   "outputs": [],
   "source": [
    "import pandas as pd\n",
    "import json"
   ]
  },
  {
   "cell_type": "code",
   "execution_count": 2,
   "outputs": [],
   "source": [
    "yelp_review = []\n",
    "with open('yelp_dataset/yelp_academic_dataset_review.json', 'r', encoding='utf-8') as f:\n",
    "    for line in f:\n",
    "        yelp_review.append(json.loads(line))"
   ],
   "metadata": {
    "collapsed": false,
    "ExecuteTime": {
     "end_time": "2024-12-12T14:24:40.799379700Z",
     "start_time": "2024-12-12T14:23:50.922068600Z"
    }
   },
   "id": "1aa18729a628c967"
  },
  {
   "cell_type": "code",
   "execution_count": 3,
   "outputs": [],
   "source": [
    "yelp_business = []\n",
    "with open('yelp_dataset/yelp_academic_dataset_business.json', 'r', encoding='utf-8') as f:\n",
    "    for line in f:\n",
    "        yelp_business.append(json.loads(line))"
   ],
   "metadata": {
    "collapsed": false,
    "ExecuteTime": {
     "end_time": "2024-12-12T14:25:01.566917600Z",
     "start_time": "2024-12-12T14:24:40.825051300Z"
    }
   },
   "id": "65cf871235ff6ddc"
  },
  {
   "cell_type": "code",
   "execution_count": 4,
   "outputs": [],
   "source": [
    "yelp_review_df = pd.DataFrame(yelp_review[:300000])\n",
    "yelp_business_df = pd.DataFrame(yelp_business)"
   ],
   "metadata": {
    "collapsed": false,
    "ExecuteTime": {
     "end_time": "2024-12-12T14:25:06.021382300Z",
     "start_time": "2024-12-12T14:25:01.566917600Z"
    }
   },
   "id": "c6c9dbb9adab140"
  },
  {
   "cell_type": "code",
   "execution_count": 5,
   "outputs": [
    {
     "data": {
      "text/plain": "                review_id                 user_id             business_id  \\\n0  KU_O5udG6zpxOg-VcAEodg  mh_-eMZ6K5RLWhZyISBhwA  XQfwVwDr-v0ZS3_CbbE5Xw   \n1  BiTunyQ73aT9WBnpR9DZGw  OyoGAe7OKpv6SyGZT5g77Q  7ATYjTIgM3jUlt4UM3IypQ   \n2  saUsX_uimxRlCVr67Z4Jig  8g_iMtfSiwikVnbP2etR0A  YjUWPpI6HXG530lwP-fb2A   \n3  AqPFMleE6RsU23_auESxiA  _7bHUi9Uuf5__HHc_Q8guQ  kxX2SOes4o-D3ZQBkiMRfA   \n4  Sx8TMOWLNuJBWer-0pcmoA  bcjbaE6dDog4jkNY91ncLQ  e4Vwtrqf-wpJfwesgvdgxQ   \n\n   stars_x  useful  funny  cool  \\\n0      3.0       0      0     0   \n1      5.0       1      0     1   \n2      3.0       0      0     0   \n3      5.0       1      0     1   \n4      4.0       1      0     1   \n\n                                                text                 date  \\\n0  If you decide to eat here, just be aware it is...  2018-07-07 22:09:11   \n1  I've taken a lot of spin classes over the year...  2012-01-03 15:28:18   \n2  Family diner. Had the buffet. Eclectic assortm...  2014-02-05 20:30:30   \n3  Wow!  Yummy, different,  delicious.   Our favo...  2015-01-04 00:01:03   \n4  Cute interior and owner (?) gave us tour of up...  2017-01-14 20:54:15   \n\n                           name  ... state postal_code   latitude   longitude  \\\n0  Turning Point of North Wales  ...    PA       19454  40.210196  -75.223639   \n1    Body Cycle Spinning Studio  ...    PA       19119  39.952103  -75.172753   \n2             Kettle Restaurant  ...    AZ       85713  32.207233 -110.980864   \n3                         Zaika  ...    PA       19114  40.079848  -75.025080   \n4                          Melt  ...    LA       70119  29.962102  -90.087958   \n\n   stars_y  review_count  is_open  \\\n0      3.0           169        1   \n1      5.0           144        0   \n2      3.5            47        1   \n3      4.0           181        1   \n4      4.0            32        0   \n\n                                          attributes  \\\n0  {'NoiseLevel': 'u'average'', 'HasTV': 'False',...   \n1  {'BusinessAcceptsCreditCards': 'True', 'GoodFo...   \n2  {'RestaurantsReservations': 'True', 'BusinessP...   \n3  {'Caters': 'True', 'Ambience': '{'romantic': F...   \n4  {'BusinessParking': '{'garage': False, 'street...   \n\n                                          categories  \\\n0  Restaurants, Breakfast & Brunch, Food, Juice B...   \n1  Active Life, Cycling Classes, Trainers, Gyms, ...   \n2                    Restaurants, Breakfast & Brunch   \n3              Halal, Pakistani, Restaurants, Indian   \n4  Sandwiches, Beer, Wine & Spirits, Bars, Food, ...   \n\n                                               hours  \n0  {'Monday': '7:30-15:0', 'Tuesday': '7:30-15:0'...  \n1  {'Monday': '6:30-20:30', 'Tuesday': '6:30-20:3...  \n2                                               None  \n3  {'Tuesday': '11:0-21:0', 'Wednesday': '11:0-21...  \n4  {'Monday': '0:0-0:0', 'Friday': '11:0-17:0', '...  \n\n[5 rows x 22 columns]",
      "text/html": "<div>\n<style scoped>\n    .dataframe tbody tr th:only-of-type {\n        vertical-align: middle;\n    }\n\n    .dataframe tbody tr th {\n        vertical-align: top;\n    }\n\n    .dataframe thead th {\n        text-align: right;\n    }\n</style>\n<table border=\"1\" class=\"dataframe\">\n  <thead>\n    <tr style=\"text-align: right;\">\n      <th></th>\n      <th>review_id</th>\n      <th>user_id</th>\n      <th>business_id</th>\n      <th>stars_x</th>\n      <th>useful</th>\n      <th>funny</th>\n      <th>cool</th>\n      <th>text</th>\n      <th>date</th>\n      <th>name</th>\n      <th>...</th>\n      <th>state</th>\n      <th>postal_code</th>\n      <th>latitude</th>\n      <th>longitude</th>\n      <th>stars_y</th>\n      <th>review_count</th>\n      <th>is_open</th>\n      <th>attributes</th>\n      <th>categories</th>\n      <th>hours</th>\n    </tr>\n  </thead>\n  <tbody>\n    <tr>\n      <th>0</th>\n      <td>KU_O5udG6zpxOg-VcAEodg</td>\n      <td>mh_-eMZ6K5RLWhZyISBhwA</td>\n      <td>XQfwVwDr-v0ZS3_CbbE5Xw</td>\n      <td>3.0</td>\n      <td>0</td>\n      <td>0</td>\n      <td>0</td>\n      <td>If you decide to eat here, just be aware it is...</td>\n      <td>2018-07-07 22:09:11</td>\n      <td>Turning Point of North Wales</td>\n      <td>...</td>\n      <td>PA</td>\n      <td>19454</td>\n      <td>40.210196</td>\n      <td>-75.223639</td>\n      <td>3.0</td>\n      <td>169</td>\n      <td>1</td>\n      <td>{'NoiseLevel': 'u'average'', 'HasTV': 'False',...</td>\n      <td>Restaurants, Breakfast &amp; Brunch, Food, Juice B...</td>\n      <td>{'Monday': '7:30-15:0', 'Tuesday': '7:30-15:0'...</td>\n    </tr>\n    <tr>\n      <th>1</th>\n      <td>BiTunyQ73aT9WBnpR9DZGw</td>\n      <td>OyoGAe7OKpv6SyGZT5g77Q</td>\n      <td>7ATYjTIgM3jUlt4UM3IypQ</td>\n      <td>5.0</td>\n      <td>1</td>\n      <td>0</td>\n      <td>1</td>\n      <td>I've taken a lot of spin classes over the year...</td>\n      <td>2012-01-03 15:28:18</td>\n      <td>Body Cycle Spinning Studio</td>\n      <td>...</td>\n      <td>PA</td>\n      <td>19119</td>\n      <td>39.952103</td>\n      <td>-75.172753</td>\n      <td>5.0</td>\n      <td>144</td>\n      <td>0</td>\n      <td>{'BusinessAcceptsCreditCards': 'True', 'GoodFo...</td>\n      <td>Active Life, Cycling Classes, Trainers, Gyms, ...</td>\n      <td>{'Monday': '6:30-20:30', 'Tuesday': '6:30-20:3...</td>\n    </tr>\n    <tr>\n      <th>2</th>\n      <td>saUsX_uimxRlCVr67Z4Jig</td>\n      <td>8g_iMtfSiwikVnbP2etR0A</td>\n      <td>YjUWPpI6HXG530lwP-fb2A</td>\n      <td>3.0</td>\n      <td>0</td>\n      <td>0</td>\n      <td>0</td>\n      <td>Family diner. Had the buffet. Eclectic assortm...</td>\n      <td>2014-02-05 20:30:30</td>\n      <td>Kettle Restaurant</td>\n      <td>...</td>\n      <td>AZ</td>\n      <td>85713</td>\n      <td>32.207233</td>\n      <td>-110.980864</td>\n      <td>3.5</td>\n      <td>47</td>\n      <td>1</td>\n      <td>{'RestaurantsReservations': 'True', 'BusinessP...</td>\n      <td>Restaurants, Breakfast &amp; Brunch</td>\n      <td>None</td>\n    </tr>\n    <tr>\n      <th>3</th>\n      <td>AqPFMleE6RsU23_auESxiA</td>\n      <td>_7bHUi9Uuf5__HHc_Q8guQ</td>\n      <td>kxX2SOes4o-D3ZQBkiMRfA</td>\n      <td>5.0</td>\n      <td>1</td>\n      <td>0</td>\n      <td>1</td>\n      <td>Wow!  Yummy, different,  delicious.   Our favo...</td>\n      <td>2015-01-04 00:01:03</td>\n      <td>Zaika</td>\n      <td>...</td>\n      <td>PA</td>\n      <td>19114</td>\n      <td>40.079848</td>\n      <td>-75.025080</td>\n      <td>4.0</td>\n      <td>181</td>\n      <td>1</td>\n      <td>{'Caters': 'True', 'Ambience': '{'romantic': F...</td>\n      <td>Halal, Pakistani, Restaurants, Indian</td>\n      <td>{'Tuesday': '11:0-21:0', 'Wednesday': '11:0-21...</td>\n    </tr>\n    <tr>\n      <th>4</th>\n      <td>Sx8TMOWLNuJBWer-0pcmoA</td>\n      <td>bcjbaE6dDog4jkNY91ncLQ</td>\n      <td>e4Vwtrqf-wpJfwesgvdgxQ</td>\n      <td>4.0</td>\n      <td>1</td>\n      <td>0</td>\n      <td>1</td>\n      <td>Cute interior and owner (?) gave us tour of up...</td>\n      <td>2017-01-14 20:54:15</td>\n      <td>Melt</td>\n      <td>...</td>\n      <td>LA</td>\n      <td>70119</td>\n      <td>29.962102</td>\n      <td>-90.087958</td>\n      <td>4.0</td>\n      <td>32</td>\n      <td>0</td>\n      <td>{'BusinessParking': '{'garage': False, 'street...</td>\n      <td>Sandwiches, Beer, Wine &amp; Spirits, Bars, Food, ...</td>\n      <td>{'Monday': '0:0-0:0', 'Friday': '11:0-17:0', '...</td>\n    </tr>\n  </tbody>\n</table>\n<p>5 rows × 22 columns</p>\n</div>"
     },
     "execution_count": 5,
     "metadata": {},
     "output_type": "execute_result"
    }
   ],
   "source": [
    "df_merged = pd.merge(yelp_review_df, yelp_business_df, on='business_id')\n",
    "df_merged.head()"
   ],
   "metadata": {
    "collapsed": false,
    "ExecuteTime": {
     "end_time": "2024-12-12T14:25:06.468061700Z",
     "start_time": "2024-12-12T14:25:06.036382700Z"
    }
   },
   "id": "c21d4d4be9a490d5"
  },
  {
   "cell_type": "code",
   "execution_count": 6,
   "outputs": [
    {
     "data": {
      "text/plain": "1565070"
     },
     "execution_count": 6,
     "metadata": {},
     "output_type": "execute_result"
    }
   ],
   "source": [
    "categories_list = []\n",
    "for cat in df_merged['categories']:\n",
    "    if cat is not None:\n",
    "        splitted = cat.split(',')\n",
    "        for s in splitted:\n",
    "            categories_list.append(s)\n",
    "        \n",
    "#categories_list = list(dict.fromkeys(categories_list))\n",
    "len(categories_list)"
   ],
   "metadata": {
    "collapsed": false,
    "ExecuteTime": {
     "end_time": "2024-12-12T14:25:06.983588400Z",
     "start_time": "2024-12-12T14:25:06.459141100Z"
    }
   },
   "id": "8eb584cbefcfa93d"
  },
  {
   "cell_type": "code",
   "execution_count": 7,
   "outputs": [],
   "source": [
    "import re\n",
    "\n",
    "def normalize_categories(text):\n",
    "    lab_list = []\n",
    "    for label in text:\n",
    "        label = re.sub(r'^\\s+|\\s+$', '', label)\n",
    "        lab_list.append(label)\n",
    "    return lab_list\n"
   ],
   "metadata": {
    "collapsed": false,
    "ExecuteTime": {
     "end_time": "2024-12-12T14:25:06.983588400Z",
     "start_time": "2024-12-12T14:25:06.892716300Z"
    }
   },
   "id": "477a9b0db9e18ab7"
  },
  {
   "cell_type": "code",
   "execution_count": 8,
   "outputs": [],
   "source": [
    "categories_list = normalize_categories(categories_list)"
   ],
   "metadata": {
    "collapsed": false,
    "ExecuteTime": {
     "end_time": "2024-12-12T14:25:12.161248900Z",
     "start_time": "2024-12-12T14:25:06.902216300Z"
    }
   },
   "id": "832f5af235b2ecb5"
  },
  {
   "cell_type": "code",
   "execution_count": 9,
   "outputs": [
    {
     "name": "stdout",
     "output_type": "stream",
     "text": [
      "{'Restaurants': 215621, 'Breakfast & Brunch': 42159, 'Food': 88291, 'Juice Bars & Smoothies': 6344, 'American (New)': 49556, 'Coffee & Tea': 23890, 'Sandwiches': 29775, 'Active Life': 7846, 'Cycling Classes': 228, 'Trainers': 1165, 'Gyms': 1588, 'Fitness & Instruction': 2569, 'Halal': 1232, 'Pakistani': 1920, 'Indian': 4398, 'Beer': 10472, 'Wine & Spirits': 10472, 'Bars': 65643, 'American (Traditional)': 42681, 'Nightlife': 70028, 'Mediterranean': 5819, 'Seafood': 24141, 'Greek': 4185, 'Supernatural Readings': 457, 'Tours': 3113, 'Hotels & Travel': 17951, 'Walking Tours': 1026, 'Arts & Entertainment': 17485, 'Beer Bar': 5560, 'Gastropubs': 5427, 'Burgers': 21280, 'Parks': 1542, 'Steakhouses': 8329, 'Sushi Bars': 10868, 'Japanese': 10308, 'Shopping': 18639, 'Jewelry': 1005, 'Cafes': 16360, 'Pizza': 21455, 'Cocktail Bars': 15110, 'Italian': 19534, 'Salad': 13743, 'Tacos': 3671, 'Mexican': 20004, 'Hot Dogs': 2074, 'Wine Bars': 7445, 'Makeup Artists': 1764, 'Blow Dry/Out Services': 787, 'Beauty & Spas': 15034, 'Hair Salons': 4908, 'Nail Salons': 4951, 'Eyebrow Services': 290, 'Ice Cream & Frozen Yogurt': 8367, 'Local Flavor': 5518, 'Desserts': 9934, 'Breweries': 5690, 'Brewpubs': 1205, 'Pubs': 10604, 'Performing Arts': 1518, 'Comedy Clubs': 289, 'Poke': 641, 'Hawaiian': 467, 'Barbeque': 8141, 'Thai': 6219, 'Cajun/Creole': 12522, 'Event Planning & Services': 29857, 'Venues & Event Spaces': 11608, 'Golf': 246, 'Sports Bars': 8723, 'Lounges': 6260, 'Fast Food': 8616, 'Gas Stations': 685, 'Automotive': 7129, 'Convenience Stores': 1799, 'Auto Repair': 4175, 'Smog Check Stations': 239, 'Auto Parts & Supplies': 1697, 'Bakeries': 10212, 'Health & Medical': 5482, 'Massage': 2434, 'Physical Therapy': 297, 'Massage Therapy': 1212, 'Casinos': 2118, 'Day Spas': 5090, 'Hotels': 12572, 'Delis': 5410, 'Comfort Food': 4968, 'Southern': 9035, 'Buffets': 2089, 'Bagels': 2332, 'Sporting Goods': 1300, 'Outdoor Gear': 356, 'Internet Cafes': 504, 'Caterers': 8946, 'Jazz & Blues': 2336, 'Donuts': 4151, 'Whiskey Bars': 1377, 'Soup': 4322, 'Hair Removal': 4162, 'Waxing': 2982, 'Hair Extensions': 695, 'Oil Change Stations': 1826, 'Tires': 1774, 'Contractors': 714, 'Home Services': 5713, 'Plumbing': 331, 'Water Purification Services': 35, 'Heating & Air Conditioning/HVAC': 533, 'Fish & Chips': 1005, 'Vegetarian': 7391, 'Home & Garden': 3399, 'Furniture Stores': 1049, 'Home Decor': 1357, 'Flowers & Gifts': 1840, 'Gift Shops': 717, 'Chicken Wings': 5655, 'Beer Gardens': 944, 'Diners': 6554, 'Live/Raw Food': 2098, 'Pets': 2252, 'Cheese Shops': 706, 'Health Markets': 1485, 'Grocery': 5758, 'Specialty Food': 11632, 'Dive Bars': 2335, 'Fashion': 4579, \"Women's Clothing\": 1688, 'Vietnamese': 4851, 'Boating': 756, 'Rafting/Kayaking': 195, 'Travel Services': 339, 'Auto Detailing': 688, 'Car Wash': 810, 'Bikes': 490, 'Ethnic Food': 2045, 'Event Photography': 147, 'Session Photography': 183, 'Art Schools': 81, 'Photographers': 294, 'Specialty Schools': 772, 'Education': 1244, 'Courthouses': 124, 'Landmarks & Historical Buildings': 588, 'Public Services & Government': 1065, 'Ticket Sales': 52, 'Professional Sports Teams': 184, 'Stadiums & Arenas': 542, 'Music Venues': 6357, 'Transmission Repair': 264, 'IT Services & Computer Repair': 647, 'Mobile Phones': 588, 'Mobile Phone Repair': 295, 'Local Services': 6053, 'Electronics Repair': 279, 'Telecommunications': 169, 'Asian Fusion': 6999, 'Tapas/Small Plates': 2742, 'Korean': 3124, 'Noodles': 2360, 'Ramen': 1279, 'Baseball Fields': 298, 'Karaoke': 881, 'Szechuan': 990, 'Chinese': 9002, 'Food Delivery Services': 2290, 'Chicken Shop': 1251, 'German': 3307, 'French': 5508, 'Brasseries': 3403, 'Party & Event Planning': 1474, 'Fishing': 224, 'Yelp Events': 37, 'Roofing': 57, 'Vegan': 4502, 'Tapas Bars': 1636, 'Auto Glass Services': 481, 'Transportation': 1416, 'Movers': 659, 'Truck Rental': 150, 'Hardware Stores': 521, 'Recycling Center': 111, 'Building Supplies': 567, 'Community Service/Non-Profit': 565, 'Thrift Stores': 676, 'Yoga': 777, 'Pilates': 243, 'Barre Classes': 88, 'Seafood Markets': 1005, 'Latin American': 3925, 'Gluten-Free': 3669, 'Barbers': 1613, 'Windshield Installation & Repair': 299, 'Body Shops': 882, 'Real Estate Agents': 158, 'Real Estate': 1204, 'Middle Eastern': 2156, 'Cheesesteaks': 1880, 'Tanning': 427, 'Water Heater Installation/Repair': 310, 'Electricians': 199, 'Tex-Mex': 4632, 'Educational Services': 123, 'Doulas': 50, 'Placenta Encapsulations': 9, 'Midwives': 78, 'Lactation Services': 72, 'Car Stereo Installation': 139, 'Windows Installation': 135, 'Professional Services': 1488, 'Home Window Tinting': 126, 'Vehicle Wraps': 92, 'Car Window Tinting': 167, 'Graphic Design': 140, 'Chiropractors': 381, 'New Mexican Cuisine': 507, 'Peruvian': 383, 'Appliances': 486, 'Mattresses': 409, 'Appliances & Repair': 294, 'Outlet Stores': 68, 'Shopping Centers': 489, 'Coffee Roasteries': 1243, 'Laundry Services': 649, 'Dry Cleaning & Laundry': 647, 'Laundromat': 121, 'Organic Stores': 638, 'Wraps': 916, 'Museums': 1737, 'Cinema': 1628, 'Resorts': 1625, 'Florists': 946, 'Wine Tasting Room': 485, 'Wineries': 1152, 'Dermatologists': 75, 'Doctors': 1363, 'Cuban': 1639, 'Food Tours': 269, 'Urgent Care': 350, 'Emergency Rooms': 41, 'Motorcycle Rental': 33, 'Hiking': 313, 'Mountain Biking': 48, 'ATV Rentals/Tours': 36, 'RV Rental': 39, 'Reflexology': 283, 'Cosmetics & Beauty Supply': 1443, 'Taiwanese': 1130, 'Tea Rooms': 408, 'Bubble Tea': 2246, 'Bike Repair/Maintenance': 275, 'Malaysian': 693, 'Cambodian': 912, 'Fruits & Veggies': 510, 'Car Dealers': 1841, 'Registration Services': 35, 'Armenian': 403, 'Permanent Makeup': 130, 'Skin Care': 3034, 'Float Spa': 77, 'Car Rental': 821, 'Carpeting': 182, 'Auto Upholstery': 22, 'Rugs': 103, 'Carpet Cleaning': 224, 'Real Estate Services': 250, 'Tanning Beds': 45, 'Weight Loss Centers': 273, 'Spray Tanning': 209, 'Art Galleries': 1690, 'Art Museums': 353, 'Botanical Gardens': 227, 'Shared Office Spaces': 71, 'Piano Bars': 157, 'Senegalese': 31, 'African': 383, 'Moroccan': 692, 'Sports Clubs': 237, 'Caribbean': 2692, 'Cupcakes': 1638, 'Marketing': 101, 'Funeral Services & Cemeteries': 97, 'Irish Pub': 638, 'Irish': 455, 'Distilleries': 694, 'Teppanyaki': 218, 'Candy Stores': 1196, 'Chocolatiers & Shops': 1073, 'Bar Crawl': 71, 'Bed & Breakfast': 907, 'Optometrists': 647, 'Accessories': 1097, 'Eyewear & Opticians': 639, 'Leisure Centers': 52, 'Bowling': 518, 'Laser Tag': 57, 'Apartments': 614, 'Imported Food': 571, 'Drugstores': 1034, 'Pharmacy': 220, 'Family Practice': 187, 'Festivals': 542, 'Wedding Planning': 999, 'Party Bus Rentals': 175, 'Wine Tours': 548, 'Limos': 250, 'Financial Services': 406, 'Mortgage Brokers': 108, 'Banks & Credit Unions': 161, 'Sports Wear': 270, 'Motorcycle Gear': 17, 'Motorsport Vehicle Dealers': 7, 'Motorsport Vehicle Repairs': 5, 'Motorcycle Repair': 68, 'Motorcycle Dealers': 66, 'Meat Shops': 1298, 'Butcher': 890, 'Tobacco Shops': 448, 'Vape Shops': 205, 'Cosmetology Schools': 153, 'Used Car Dealers': 370, 'Waffles': 351, 'British': 443, 'Pet Stores': 805, 'Bird Shops': 12, 'Gay Bars': 218, 'Dance Clubs': 1226, 'Wheel & Rim Repair': 197, \"Men's Hair Salons\": 621, 'Security Systems': 204, 'Internet Service Providers': 322, 'Television Service Providers': 202, 'Bespoke Clothing': 65, \"Men's Clothing\": 1125, 'Embroidery & Crochet': 42, 'Sewing & Alterations': 596, 'Arts & Crafts': 1141, 'Food Trucks': 2006, 'Gunsmith': 114, 'Keys & Locksmiths': 295, 'Safe Stores': 91, 'Falafel': 661, 'Food Stands': 1239, 'Kitchen & Bath': 198, 'Service Stations': 13, 'Ophthalmologists': 187, 'Laser Eye Surgery/Lasik': 101, 'Acai Bowls': 965, 'Kosher': 206, 'Religious Organizations': 63, 'Photography Stores & Services': 220, 'Tattoo': 514, 'Creperies': 561, 'Gelato': 895, 'Dog Parks': 212, 'Soul Food': 1993, 'Custom Cakes': 439, 'Computers': 235, 'Electronics': 1036, 'Modern European': 759, 'Salvadoran': 241, 'Cooking Schools': 185, 'Department Stores': 1301, 'Puerto Rican': 304, 'Oral Surgeons': 225, 'General Dentistry': 619, 'Endodontists': 210, 'Dentists': 723, 'Cosmetic Dentists': 531, 'Periodontists': 106, 'Zoos': 73, 'Aquariums': 25, 'Amusement Parks': 547, 'Auto Loan Providers': 100, 'Appraisal Services': 23, 'Hobby Shops': 323, 'Art Supplies': 250, 'Jewelry Repair': 133, 'Pet Groomers': 1005, 'Pet Sitting': 718, 'Pet Boarding': 159, 'Pet Services': 1595, 'Boat Charters': 548, 'Boat Tours': 863, 'Watch Repair': 169, 'Watches': 142, 'Boot Camps': 292, 'Martial Arts': 104, 'Nutritionists': 125, 'Shipping Centers': 284, 'Notaries': 181, 'Printing Services': 394, 'Mailbox Centers': 89, 'Guns & Ammo': 216, 'Nail Technicians': 151, 'Trophy Shops': 18, 'Hair Stylists': 1045, 'Social Clubs': 107, 'Street Vendors': 726, 'Archery': 99, 'Recreation Centers': 162, 'Hunting & Fishing Supplies': 127, 'Flooring': 217, 'RV Dealers': 60, 'RV Repair': 34, 'Matchmakers': 3, 'Life Coach': 26, 'Paint Stores': 22, 'Personal Chefs': 531, 'Hospitals': 297, 'Pet Training': 466, 'Office Equipment': 146, 'Farmers Market': 803, 'Beer Tours': 484, 'Post Offices': 125, 'Vitamins & Supplements': 79, 'Used': 891, 'Vintage & Consignment': 891, 'Antiques': 349, 'Books': 792, 'Mags': 792, 'Music & Video': 792, 'Videos & Video Game Rental': 126, 'Bus Tours': 510, 'Historical Tours': 800, 'Veterinarians': 861, 'Public Transportation': 308, 'Eyelash Service': 1322, 'Boat Repair': 77, 'Piercing': 360, 'Herbs & Spices': 256, 'Basque': 207, 'Spanish': 1022, 'Health Retreats': 58, 'Home Organization': 104, 'Office Cleaning': 141, 'Handyman': 173, 'Home Cleaning': 475, 'Patisserie/Cake Shop': 704, 'Pasta Shops': 724, 'Meaderies': 12, 'Parking': 55, 'Self Storage': 414, 'Generator Installation/Repair': 31, 'Tiki Bars': 485, 'Turkish': 340, 'Laotian': 428, 'Medical Centers': 479, 'Counseling & Mental Health': 34, 'Kombucha': 122, 'Cideries': 206, 'Pool Halls': 358, 'Pop-Up Restaurants': 197, 'Guest Houses': 171, 'Pediatricians': 116, 'Adult Entertainment': 246, 'Eatertainment': 153, 'Arcades': 622, 'Pop-up Shops': 72, 'Walk-in Clinics': 56, 'Interval Training Gyms': 122, 'Cantonese': 424, 'Dim Sum': 506, 'Bridal': 656, 'Bike Rentals': 355, 'Couriers & Delivery Services': 107, 'Canadian (New)': 563, 'Cards & Stationery': 171, 'Laser Hair Removal': 441, 'Medical Spas': 714, 'Knitting Supplies': 96, 'Shaved Ice': 526, 'Damage Restoration': 110, 'Tree Services': 119, 'Hookah Bars': 391, 'Kitchen Supplies': 15, 'Coffeeshops': 50, 'Delicatessen': 26, 'Shoe Stores': 552, 'Pediatric Dentists': 137, \"Children's Clothing\": 296, 'Adult': 67, 'Prosthodontists': 25, 'Child Care & Day Care': 100, 'Ethiopian': 458, 'Empanadas': 274, 'Sunglasses': 42, 'Nurseries & Gardening': 570, 'Dry Cleaning': 232, 'Music & DVDs': 194, 'Video Game Stores': 70, 'Discount Store': 360, 'Formal Wear': 202, 'Bookstores': 425, 'Used Bookstore': 203, 'Adult Education': 129, 'Cultural Center': 139, 'Kebab': 345, 'Lebanese': 288, 'Toy Stores': 282, \"Children's Museums\": 336, 'Trinidadian': 89, 'Costumes': 165, 'Spiritual Shop': 238, 'Souvenir Shops': 169, 'Bartenders': 91, 'Gold Buyers': 97, 'Pet Adoption': 89, 'Pet Hospice': 18, 'Speakeasies': 80, 'Haunted Houses': 158, 'Kids Activities': 292, 'Lice Services': 8, 'Circuit Training Gyms': 16, 'Perfume': 141, 'Personal Shopping': 70, 'Pickleball': 84, 'Swimming Pools': 256, 'Fireworks': 6, 'Water Parks': 128, 'Ski Resorts': 8, 'Door Sales/Installation': 124, 'Garage Door Services': 91, 'Fabric Stores': 77, 'Video/Film Production': 49, 'Videographers': 52, 'Popcorn Shops': 25, 'Smokehouse': 242, 'Fondue': 15, 'Rehabilitation Center': 61, 'Filipino': 144, 'Mongolian': 117, 'Cooking Classes': 112, 'Teeth Whitening': 60, 'Argentine': 41, 'Traditional Chinese Medicine': 138, 'Acupuncture': 239, 'Airports': 62, 'Airlines': 33, 'Persian/Iranian': 52, 'Naturopathic/Holistic': 150, 'Air Duct Cleaning': 217, 'Campgrounds': 121, 'RV Parks': 121, 'Polish': 42, 'Hostels': 62, 'Honey': 3, 'Accountants': 35, 'Livestock Feed & Supply': 9, 'Utilities': 42, 'Home Theatre Installation': 97, 'Psychics': 117, 'Framing': 119, 'Nanny Services': 5, 'Golf Lessons': 42, 'Golf Equipment': 34, 'Auto Customization': 101, 'Wholesale Stores': 281, 'Property Management': 191, 'Baby Gear & Furniture': 203, 'Coffee & Tea Supplies': 7, 'Afghan': 219, 'Pan Asian': 254, 'Lighting Fixtures & Equipment': 63, 'Paddleboarding': 65, 'Cardio Classes': 97, 'Floral Designers': 122, 'Jet Skis': 56, 'Burmese': 64, 'Musicians': 151, 'Mobile Phone Accessories': 188, 'Escape Games': 136, 'Playgrounds': 171, 'Donairs': 35, 'Tennis': 73, 'Skating Rinks': 47, 'Dominican': 200, 'Firearm Training': 15, 'Allergists': 15, 'Pulmonologist': 2, 'Libraries': 60, 'Insulation Installation': 87, 'Pest Control': 140, 'Tax Services': 25, 'Bookkeepers': 8, 'Business Consulting': 4, 'Financial Advising': 56, 'Amateur Sports Teams': 74, 'Saunas': 41, 'Junk Removal & Hauling': 193, 'Shoe Repair': 183, 'Food Court': 56, 'Party Supplies': 219, 'Gun/Rifle Ranges': 193, 'University Housing': 61, 'Siding': 22, 'Masonry/Concrete': 68, 'Stonemasons': 3, 'Stucco Services': 13, 'Lawyers': 84, 'Divorce & Family Law': 8, 'DUI Law': 43, 'Criminal Defense Law': 47, 'Personal Injury Law': 14, 'Legal Services': 21, 'Hair Loss Centers': 16, 'Airport Shuttles': 198, 'Taxis': 225, 'Races & Competitions': 2, 'Glass & Mirrors': 76, 'Metal Fabricators': 12, 'Train Stations': 221, 'Swimming Lessons/Schools': 48, 'Mass Media': 45, 'Radio Stations': 26, 'Nephrologists': 8, 'Orthopedists': 48, 'Sardinian': 56, 'Calabrian': 40, 'Indonesian': 108, 'Art Classes': 183, 'Packing Services': 144, 'Cabinetry': 12, 'Interior Design': 180, 'Towing': 287, 'Home Staging': 14, 'Propane': 121, 'Packing Supplies': 114, 'Paint-Your-Own Pottery': 31, 'Brazilian Jiu-jitsu': 40, 'Kickboxing': 58, 'Boxing': 110, 'Obstetricians & Gynecologists': 129, 'Colleges & Universities': 75, 'Cardiologists': 23, 'Laboratory Testing': 56, 'Diagnostic Services': 104, 'Indoor Playcentre': 65, 'Lingerie': 63, 'Swimwear': 58, 'Do-It-Yourself Food': 273, 'Hot Pot': 193, 'Orthodontists': 250, 'Kitchen Incubators': 56, 'Pressure Washers': 52, 'Grout Services': 23, 'Window Washing': 66, 'Plus Size Fashion': 78, 'Head Shops': 103, 'Cafeteria': 66, 'Maternity Wear': 62, 'Dog Walkers': 128, 'Singaporean': 63, 'Brazilian': 70, 'Tiling': 32, 'Animal Shelters': 96, 'Massage Schools': 20, 'Childbirth Education': 75, 'Parenting Classes': 57, 'Race Tracks': 20, 'Preschools': 78, 'Landscaping': 212, 'Lawn Services': 35, 'Internal Medicine': 82, 'Wigs': 115, 'Beverage Store': 61, 'Web Design': 54, 'Brewing Supplies': 42, 'Disc Golf': 39, 'Uniforms': 39, 'Ski & Snowboard Shops': 12, 'Screen Printing/T-Shirt Printing': 37, 'Irrigation': 27, 'Private Investigation': 19, 'Comic Books': 49, 'Signmaking': 114, 'Elementary Schools': 42, 'Go Karts': 49, 'Party Equipment Rentals': 96, 'Vinyl Records': 142, 'Leather Goods': 62, 'Town Car Service': 14, 'Sports Medicine': 152, 'Advertising': 24, 'Investing': 26, 'Dance Studios': 61, 'Auction Houses': 31, 'Roadside Assistance': 63, 'Donation Center': 41, 'Churches': 27, 'Meditation Centers': 54, 'Russian': 77, 'Drive-Thru Bars': 23, 'Mini Golf': 78, 'Buses': 46, 'Bus Rental': 41, 'Climbing': 76, 'Cannabis Dispensaries': 17, 'Cosmetic Surgeons': 41, 'Sleep Specialists': 12, 'Pool & Billiards': 46, 'Venezuelan': 90, 'Czech': 102, 'Himalayan/Nepalese': 89, 'CPR Classes': 39, 'Prenatal/Perinatal Care': 63, 'Pool & Hot Tub Service': 52, 'Hot Tub & Pool': 57, 'Pool Cleaners': 70, 'Public Art': 15, 'Emergency Pet Hospital': 87, 'Beaches': 163, 'Paint & Sip': 112, 'Candle Stores': 34, 'Chimney Sweeps': 31, 'Tutoring Centers': 19, 'Fences & Gates': 55, 'Departments of Motor Vehicles': 55, 'Flight Instruction': 3, 'Furniture Reupholstery': 11, 'Furniture Repair': 20, 'Private Tutors': 29, 'House Sitters': 8, 'Pet Transportation': 8, 'Retirement Homes': 14, 'Assisted Living Facilities': 5, 'Mobile Dent Repair': 10, 'Home Inspectors': 74, 'Test Preparation': 2, 'Tabletop Games': 35, 'Carpet Installation': 96, 'Musical Instruments & Teachers': 120, 'Colonics': 29, 'Reproductive Health Services': 47, 'Machine & Tool Rental': 5, 'Trailer Rental': 12, 'Arabic': 27, 'Shades & Blinds': 128, 'Halotherapy': 21, 'Sugaring': 44, 'Dive Shops': 19, 'Diving': 113, 'Scuba Diving': 25, 'Free Diving': 4, 'Fingerprinting': 3, 'Wedding Chapels': 4, 'Tui Na': 14, 'Fertility': 14, 'Basketball Courts': 12, 'International': 28, 'Pain Management': 26, 'Ukrainian': 35, 'Data Recovery': 45, 'Mobile Home Repair': 25, 'Painters': 37, 'Decks & Railing': 24, 'Landscape Architects': 92, 'Valet Services': 16, 'Parent Cafes': 48, 'Powder Coating': 11, 'Fitness/Exercise Equipment': 30, 'Holiday Decorations': 19, 'Screen Printing': 108, 'Batting Cages': 16, 'Country Clubs': 63, 'Refinishing Services': 11, 'Pole Dancing Classes': 24, 'Insurance': 100, 'Gardeners': 48, 'Reiki': 92, 'Themed Cafes': 55, 'Personal Assistants': 35, 'Haitian': 5, 'Bike Sharing': 9, 'Military Surplus': 12, 'Henna Artists': 13, 'Shanghainese': 56, 'Clothing Rental': 35, 'Team Building Activities': 72, 'Scavenger Hunts': 6, 'Print Media': 14, 'International Grocery': 167, 'Employment Agencies': 7, 'Dance Schools': 19, 'Aquarium Services': 37, 'Art Restoration': 4, 'Austrian': 53, 'Hats': 25, 'Guitar Stores': 58, 'Musical Instrument Services': 110, 'Auto Security': 48, 'Engraving': 26, 'Summer Camps': 100, 'Rock Climbing': 34, 'DJs': 82, 'Mortgage Lenders': 47, 'Pretzels': 42, 'Flea Markets': 38, 'High Fidelity Audio Equipment': 8, 'Home Automation': 10, 'Home Network Installation': 18, 'Diagnostic Imaging': 62, 'Day Camps': 45, 'Trains': 4, 'Tubing': 21, 'Pet Photography': 31, 'Photo Booth Rentals': 15, 'Vocational & Technical School': 25, 'Septic Services': 68, 'Gutter Services': 26, 'Fireplace Services': 27, 'Customized Merchandise': 27, 'Medical Supplies': 56, 'Photography Classes': 4, 'Special Education': 18, 'Battery Stores': 6, 'Rest Stops': 6, 'Strip Clubs': 26, 'Champagne Bars': 29, 'Striptease Dancers': 26, 'Outdoor Furniture Stores': 17, 'Public Relations': 21, 'Wholesalers': 26, 'Commercial Truck Dealers': 35, 'Wildlife Control': 20, 'Software Development': 4, 'Ethnic Grocery': 19, 'Aerial Fitness': 20, 'Cabaret': 22, 'Challenge Courses': 41, 'TV Mounting': 49, 'Piano Services': 45, 'Boudoir Photography': 6, 'Axe Throwing': 33, 'Virtual Reality Centers': 16, 'Snow Removal': 54, 'Threading Services': 32, 'Skate Shops': 22, 'Astrologers': 83, 'Psychic Mediums': 7, 'Pumpkin Patches': 13, 'Farms': 24, 'Pick Your Own Farms': 13, 'Orthotics': 7, 'Carpenters': 18, 'Drywall Installation & Repair': 10, 'Demolition Services': 7, 'Gemstones & Minerals': 87, 'Farming Equipment': 7, 'Trailer Dealers': 8, 'Environmental Abatement': 3, 'Hydroponics': 4, 'Junkyards': 7, 'Crane Services': 13, 'Pawn Shops': 11, 'Alternative Medicine': 5, 'Waldorf Schools': 5, 'Private Schools': 3, 'Middle Schools & High Schools': 12, 'Community Centers': 6, 'Gymnastics': 14, 'Trampoline Parks': 49, 'Golf Equipment Shops': 1, 'Lighting Stores': 7, 'Car Buyers': 44, 'Water Delivery': 32, 'Plastic Surgeons': 7, 'Tuscan': 3, 'Nurse Practitioner': 6, 'Sicilian': 17, 'Acne Treatment': 6, 'Solar Installation': 45, 'Vacation Rentals': 33, 'Shoe Shine': 63, 'Commercial Real Estate': 27, 'Petting Zoos': 17, 'Skate Parks': 9, 'Urologists': 8, 'Shaved Snow': 14, 'Olive Oil': 21, 'Airport Lounges': 29, 'Beach Equipment Rentals': 22, 'Surf Schools': 21, 'Surf Shop': 28, 'Hypnosis/Hypnotherapy': 16, 'Hospice': 7, 'Architectural Tours': 4, 'Spine Surgeons': 9, 'Ayurveda': 5, 'Emergency Medicine': 2, 'Balloon Services': 6, 'Karate': 3, 'Waterproofing': 24, 'Observatories': 3, 'Environmental Testing': 27, 'Auto Insurance': 58, 'Home & Rental Insurance': 24, 'Home Health Care': 3, 'Ear Nose & Throat': 16, 'Religious Items': 4, 'Soccer': 23, 'Furniture Assembly': 14, 'Surfing': 16, 'Dance Wear': 14, 'Bicycle Paths': 5, 'Occupational Therapy': 12, 'Car Share Services': 11, 'Driving Schools': 4, 'Hydrotherapy': 6, 'Reptile Shops': 10, 'Osteopathic Physicians': 13, 'Restaurant Supplies': 3, 'Blood & Plasma Donation Centers': 4, 'Shutters': 13, 'Kids Hair Salons': 15, 'Surgeons': 14, 'Tattoo Removal': 9, 'Drive-In Theater': 41, 'Psychologists': 2, 'Psychiatrists': 8, 'Local Fish Stores': 1, 'Gastroenterologist': 7, 'Payroll Services': 5, 'Hearing Aid Providers': 12, 'Audiologist': 12, 'Life Insurance': 29, 'Podiatrists': 21, 'Security Services': 19, 'Bike Repair': 9, 'Bicycles': 9, 'Traffic Ticketing Law': 20, 'General Litigation': 22, 'Real Estate Photography': 5, 'Title Loans': 3, 'Snorkeling': 4, 'Piano Stores': 3, 'Firewood': 7, 'Condominiums': 17, 'Scooter Rentals': 9, 'Addiction Medicine': 3, 'Car Inspectors': 15, 'Wallpapering': 7, 'Horseback Riding': 21, 'Cigar Bars': 8, 'Structural Engineers': 4, 'Countertop Installation': 7, 'Parasailing': 2, 'Dental Hygienists': 11, 'Radiologists': 12, 'Squash': 2, 'Motorcycle Parts & Supplies': 7, 'Digitizing Services': 3, 'Passport & Visa Services': 9, 'Flowers': 4, 'Herbal Shops': 14, 'Water Stores': 11, 'Christmas Trees': 7, 'Dumpster Rental': 6, 'Props': 2, 'Paintball': 5, 'Airsoft': 2, 'Officiants': 7, 'Television Stations': 1, 'Employment Law': 3, 'Workers Compensation Law': 1, 'Luggage': 13, 'Medical Transportation': 1, 'Macarons': 20, 'Bounce House Rentals': 4, 'Ethical Grocery': 5, 'Nursing Schools': 1, 'Bartending Schools': 5, 'Knife Sharpening': 3, 'Ultrasound Imaging Centers': 12, 'Recording & Rehearsal Studios': 3, 'Badminton': 2, 'Fire Protection Services': 4, 'Mobility Equipment Sales & Services': 5, 'Body Contouring': 8, 'Trailer Repair': 1, 'Marinas': 3, 'Car Brokers': 4, 'Oriental': 3, 'Aerial Tours': 1, 'Self-defense Classes': 2, 'Muay Thai': 3, 'Health Insurance Offices': 1, 'Business Financing': 2, 'Billing Services': 4, 'Bankruptcy Law': 3, 'Colombian': 9, 'Pet Waste Removal': 4, 'Newspapers & Magazines': 7, 'Poutineries': 3, 'Tenant and Eviction Law': 2, 'Estate Planning Law': 4, 'Real Estate Law': 7, 'Neurologist': 1, 'Glass Blowing': 3, 'Career Counseling': 2, 'Home Energy Auditors': 4, 'Horse Equipment Shops': 5, 'Machine Shops': 3, 'Excavation Services': 6, 'Honduran': 2, 'Hydro-jetting': 2, 'Police Departments': 3, 'Foundation Repair': 3, 'Lakes': 1, 'Vacation Rental Agents': 2, 'Chinese Martial Arts': 2, 'Art Space Rentals': 1, 'Immunodermatologists': 1, 'Business Law': 2, 'Wills': 2, 'Trusts': 2, '& Probates': 2, 'Travel Agents': 1, 'Translation Services': 1, 'Traffic Schools': 1, 'Aestheticians': 1, 'Health Coach': 1, 'Trivia Hosts': 1, 'Cannabis Clinics': 1, 'Ranches': 3, 'Boat Dealers': 4, 'Check Cashing/Pay-day Loans': 2, 'Patio Coverings': 3, 'Audio/Visual Equipment Rental': 4, 'Oncologist': 5, 'Commissioned Artists': 2, 'Estheticians': 1, 'Airport Terminals': 2, 'Cryotherapy': 1, 'Grilling Equipment': 7, 'Sports Betting': 3, 'Land Surveying': 2, 'Shredding Services': 1, 'EV Charging Stations': 1, 'Immigration Law': 1, 'Bistros': 1, 'Speech Therapists': 1, 'Home Developers': 2, 'Cremation Services': 2, 'Bike tours': 1, 'Awnings': 2, 'Club Crawl': 1}\n"
     ]
    }
   ],
   "source": [
    "frequency = {}\n",
    "for item in categories_list:\n",
    "   if item in frequency:\n",
    "      frequency[item] += 1\n",
    "   else:\n",
    "      frequency[item] = 1\n",
    "\n",
    "print(frequency)"
   ],
   "metadata": {
    "collapsed": false,
    "ExecuteTime": {
     "end_time": "2024-12-12T14:25:13.307190500Z",
     "start_time": "2024-12-12T14:25:12.175734900Z"
    }
   },
   "id": "da87cfc7d73e30bd"
  },
  {
   "cell_type": "code",
   "execution_count": 10,
   "outputs": [
    {
     "data": {
      "text/plain": "32"
     },
     "execution_count": 10,
     "metadata": {},
     "output_type": "execute_result"
    }
   ],
   "source": [
    "freq_list = {k: v for k, v in frequency.items() if v > 10000}\n",
    "len(freq_list)"
   ],
   "metadata": {
    "collapsed": false,
    "ExecuteTime": {
     "end_time": "2024-12-12T14:25:13.307190500Z",
     "start_time": "2024-12-12T14:25:13.203509900Z"
    }
   },
   "id": "8f5caab04d2bc874"
  },
  {
   "cell_type": "code",
   "execution_count": 11,
   "outputs": [],
   "source": [
    "keep_cat = list(freq_list.keys())"
   ],
   "metadata": {
    "collapsed": false,
    "ExecuteTime": {
     "end_time": "2024-12-12T14:25:13.307190500Z",
     "start_time": "2024-12-12T14:25:13.232522Z"
    }
   },
   "id": "2918021123757a38"
  },
  {
   "cell_type": "code",
   "execution_count": 12,
   "outputs": [
    {
     "data": {
      "text/plain": "                     review_id                 user_id  \\\n0       KU_O5udG6zpxOg-VcAEodg  mh_-eMZ6K5RLWhZyISBhwA   \n1       BiTunyQ73aT9WBnpR9DZGw  OyoGAe7OKpv6SyGZT5g77Q   \n2       saUsX_uimxRlCVr67Z4Jig  8g_iMtfSiwikVnbP2etR0A   \n3       AqPFMleE6RsU23_auESxiA  _7bHUi9Uuf5__HHc_Q8guQ   \n4       Sx8TMOWLNuJBWer-0pcmoA  bcjbaE6dDog4jkNY91ncLQ   \n...                        ...                     ...   \n299995  fQDcqVHa432UQrxjEIf9wQ  zX8cJhp70EXCEJ05H1GZCA   \n299996  jirp0s-rnstijLulxOxh7w  tJfEL_sE5EInJxXAZ3LZZw   \n299997  KSmQ7ynexKJy-NdxUgBu8g  m7C39M4qWXinNjfgD2NkpQ   \n299998  2tUlKjxxqKjVdphmSpgAnA  IYqLco4eB4CMy_ISnBE39g   \n299999  VmgrDTJYDEkQMbrZA0G4aQ  BmCI9_Oxg7018TOxvnUPEg   \n\n                   business_id  stars_x  useful  funny  cool  \\\n0       XQfwVwDr-v0ZS3_CbbE5Xw      3.0       0      0     0   \n1       7ATYjTIgM3jUlt4UM3IypQ      5.0       1      0     1   \n2       YjUWPpI6HXG530lwP-fb2A      3.0       0      0     0   \n3       kxX2SOes4o-D3ZQBkiMRfA      5.0       1      0     1   \n4       e4Vwtrqf-wpJfwesgvdgxQ      4.0       1      0     1   \n...                        ...      ...     ...    ...   ...   \n299995  Qa1YQzo00sm9O0JUlwdCQw      5.0       0      0     0   \n299996  bU4GhYyuzrziT19JUlnjBg      3.0       0      0     0   \n299997  GBTPC53ZrG1ZBY3DT8Mbcw      5.0       0      0     0   \n299998  TghRoAMx43V-9l7mH-SENg      4.0       0      0     0   \n299999  htO_nlxkEsYHzDrtbiUxew      5.0       0      0     0   \n\n                                                     text  \\\n0       If you decide to eat here, just be aware it is...   \n1       I've taken a lot of spin classes over the year...   \n2       Family diner. Had the buffet. Eclectic assortm...   \n3       Wow!  Yummy, different,  delicious.   Our favo...   \n4       Cute interior and owner (?) gave us tour of up...   \n...                                                   ...   \n299995  We did the tour today 1/28 with Bob and it was...   \n299996  The cheesecake scoop flavors are not actual di...   \n299997  Best place we are at while in Nola! Firstly sh...   \n299998  This is the trendy place to eat at Clearwater ...   \n299999  Main Street, Manayunk - Best coffee in the cit...   \n\n                       date                           name  ... Salad Mexican  \\\n0       2018-07-07 22:09:11   Turning Point of North Wales  ...     0       0   \n1       2012-01-03 15:28:18     Body Cycle Spinning Studio  ...     0       0   \n2       2014-02-05 20:30:30              Kettle Restaurant  ...     0       0   \n3       2015-01-04 00:01:03                          Zaika  ...     0       0   \n4       2017-01-14 20:54:15                           Melt  ...     0       0   \n...                     ...                            ...  ...   ...     ...   \n299995  2016-01-29 05:53:11               Taste of Nawlins  ...     0       0   \n299996  2016-12-31 16:10:26   Copeland's Cheesecake Scoops  ...     0       0   \n299997  2017-09-07 15:15:45                           Luke  ...     0       0   \n299998  2016-03-26 19:51:12  Crabby Bills Clearwater Beach  ...     0       0   \n299999  2009-02-11 02:01:41              La Colombe Coffee  ...     0       0   \n\n       Beauty & Spas Pubs  Cajun/Creole  Event Planning & Services  \\\n0                  0    0             0                          0   \n1                  0    0             0                          0   \n2                  0    0             0                          0   \n3                  0    0             0                          0   \n4                  0    0             0                          0   \n...              ...  ...           ...                        ...   \n299995             0    0             0                          0   \n299996             0    0             0                          0   \n299997             0    0             1                          0   \n299998             0    0             0                          0   \n299999             0    0             0                          0   \n\n        Venues & Event Spaces  Bakeries  Hotels Specialty Food  \n0                           0         0       0              0  \n1                           0         0       0              0  \n2                           0         0       0              0  \n3                           0         0       0              0  \n4                           0         0       0              0  \n...                       ...       ...     ...            ...  \n299995                      0         0       0              0  \n299996                      0         0       0              0  \n299997                      0         0       0              0  \n299998                      0         0       0              1  \n299999                      0         0       0              0  \n\n[300000 rows x 54 columns]",
      "text/html": "<div>\n<style scoped>\n    .dataframe tbody tr th:only-of-type {\n        vertical-align: middle;\n    }\n\n    .dataframe tbody tr th {\n        vertical-align: top;\n    }\n\n    .dataframe thead th {\n        text-align: right;\n    }\n</style>\n<table border=\"1\" class=\"dataframe\">\n  <thead>\n    <tr style=\"text-align: right;\">\n      <th></th>\n      <th>review_id</th>\n      <th>user_id</th>\n      <th>business_id</th>\n      <th>stars_x</th>\n      <th>useful</th>\n      <th>funny</th>\n      <th>cool</th>\n      <th>text</th>\n      <th>date</th>\n      <th>name</th>\n      <th>...</th>\n      <th>Salad</th>\n      <th>Mexican</th>\n      <th>Beauty &amp; Spas</th>\n      <th>Pubs</th>\n      <th>Cajun/Creole</th>\n      <th>Event Planning &amp; Services</th>\n      <th>Venues &amp; Event Spaces</th>\n      <th>Bakeries</th>\n      <th>Hotels</th>\n      <th>Specialty Food</th>\n    </tr>\n  </thead>\n  <tbody>\n    <tr>\n      <th>0</th>\n      <td>KU_O5udG6zpxOg-VcAEodg</td>\n      <td>mh_-eMZ6K5RLWhZyISBhwA</td>\n      <td>XQfwVwDr-v0ZS3_CbbE5Xw</td>\n      <td>3.0</td>\n      <td>0</td>\n      <td>0</td>\n      <td>0</td>\n      <td>If you decide to eat here, just be aware it is...</td>\n      <td>2018-07-07 22:09:11</td>\n      <td>Turning Point of North Wales</td>\n      <td>...</td>\n      <td>0</td>\n      <td>0</td>\n      <td>0</td>\n      <td>0</td>\n      <td>0</td>\n      <td>0</td>\n      <td>0</td>\n      <td>0</td>\n      <td>0</td>\n      <td>0</td>\n    </tr>\n    <tr>\n      <th>1</th>\n      <td>BiTunyQ73aT9WBnpR9DZGw</td>\n      <td>OyoGAe7OKpv6SyGZT5g77Q</td>\n      <td>7ATYjTIgM3jUlt4UM3IypQ</td>\n      <td>5.0</td>\n      <td>1</td>\n      <td>0</td>\n      <td>1</td>\n      <td>I've taken a lot of spin classes over the year...</td>\n      <td>2012-01-03 15:28:18</td>\n      <td>Body Cycle Spinning Studio</td>\n      <td>...</td>\n      <td>0</td>\n      <td>0</td>\n      <td>0</td>\n      <td>0</td>\n      <td>0</td>\n      <td>0</td>\n      <td>0</td>\n      <td>0</td>\n      <td>0</td>\n      <td>0</td>\n    </tr>\n    <tr>\n      <th>2</th>\n      <td>saUsX_uimxRlCVr67Z4Jig</td>\n      <td>8g_iMtfSiwikVnbP2etR0A</td>\n      <td>YjUWPpI6HXG530lwP-fb2A</td>\n      <td>3.0</td>\n      <td>0</td>\n      <td>0</td>\n      <td>0</td>\n      <td>Family diner. Had the buffet. Eclectic assortm...</td>\n      <td>2014-02-05 20:30:30</td>\n      <td>Kettle Restaurant</td>\n      <td>...</td>\n      <td>0</td>\n      <td>0</td>\n      <td>0</td>\n      <td>0</td>\n      <td>0</td>\n      <td>0</td>\n      <td>0</td>\n      <td>0</td>\n      <td>0</td>\n      <td>0</td>\n    </tr>\n    <tr>\n      <th>3</th>\n      <td>AqPFMleE6RsU23_auESxiA</td>\n      <td>_7bHUi9Uuf5__HHc_Q8guQ</td>\n      <td>kxX2SOes4o-D3ZQBkiMRfA</td>\n      <td>5.0</td>\n      <td>1</td>\n      <td>0</td>\n      <td>1</td>\n      <td>Wow!  Yummy, different,  delicious.   Our favo...</td>\n      <td>2015-01-04 00:01:03</td>\n      <td>Zaika</td>\n      <td>...</td>\n      <td>0</td>\n      <td>0</td>\n      <td>0</td>\n      <td>0</td>\n      <td>0</td>\n      <td>0</td>\n      <td>0</td>\n      <td>0</td>\n      <td>0</td>\n      <td>0</td>\n    </tr>\n    <tr>\n      <th>4</th>\n      <td>Sx8TMOWLNuJBWer-0pcmoA</td>\n      <td>bcjbaE6dDog4jkNY91ncLQ</td>\n      <td>e4Vwtrqf-wpJfwesgvdgxQ</td>\n      <td>4.0</td>\n      <td>1</td>\n      <td>0</td>\n      <td>1</td>\n      <td>Cute interior and owner (?) gave us tour of up...</td>\n      <td>2017-01-14 20:54:15</td>\n      <td>Melt</td>\n      <td>...</td>\n      <td>0</td>\n      <td>0</td>\n      <td>0</td>\n      <td>0</td>\n      <td>0</td>\n      <td>0</td>\n      <td>0</td>\n      <td>0</td>\n      <td>0</td>\n      <td>0</td>\n    </tr>\n    <tr>\n      <th>...</th>\n      <td>...</td>\n      <td>...</td>\n      <td>...</td>\n      <td>...</td>\n      <td>...</td>\n      <td>...</td>\n      <td>...</td>\n      <td>...</td>\n      <td>...</td>\n      <td>...</td>\n      <td>...</td>\n      <td>...</td>\n      <td>...</td>\n      <td>...</td>\n      <td>...</td>\n      <td>...</td>\n      <td>...</td>\n      <td>...</td>\n      <td>...</td>\n      <td>...</td>\n      <td>...</td>\n    </tr>\n    <tr>\n      <th>299995</th>\n      <td>fQDcqVHa432UQrxjEIf9wQ</td>\n      <td>zX8cJhp70EXCEJ05H1GZCA</td>\n      <td>Qa1YQzo00sm9O0JUlwdCQw</td>\n      <td>5.0</td>\n      <td>0</td>\n      <td>0</td>\n      <td>0</td>\n      <td>We did the tour today 1/28 with Bob and it was...</td>\n      <td>2016-01-29 05:53:11</td>\n      <td>Taste of Nawlins</td>\n      <td>...</td>\n      <td>0</td>\n      <td>0</td>\n      <td>0</td>\n      <td>0</td>\n      <td>0</td>\n      <td>0</td>\n      <td>0</td>\n      <td>0</td>\n      <td>0</td>\n      <td>0</td>\n    </tr>\n    <tr>\n      <th>299996</th>\n      <td>jirp0s-rnstijLulxOxh7w</td>\n      <td>tJfEL_sE5EInJxXAZ3LZZw</td>\n      <td>bU4GhYyuzrziT19JUlnjBg</td>\n      <td>3.0</td>\n      <td>0</td>\n      <td>0</td>\n      <td>0</td>\n      <td>The cheesecake scoop flavors are not actual di...</td>\n      <td>2016-12-31 16:10:26</td>\n      <td>Copeland's Cheesecake Scoops</td>\n      <td>...</td>\n      <td>0</td>\n      <td>0</td>\n      <td>0</td>\n      <td>0</td>\n      <td>0</td>\n      <td>0</td>\n      <td>0</td>\n      <td>0</td>\n      <td>0</td>\n      <td>0</td>\n    </tr>\n    <tr>\n      <th>299997</th>\n      <td>KSmQ7ynexKJy-NdxUgBu8g</td>\n      <td>m7C39M4qWXinNjfgD2NkpQ</td>\n      <td>GBTPC53ZrG1ZBY3DT8Mbcw</td>\n      <td>5.0</td>\n      <td>0</td>\n      <td>0</td>\n      <td>0</td>\n      <td>Best place we are at while in Nola! Firstly sh...</td>\n      <td>2017-09-07 15:15:45</td>\n      <td>Luke</td>\n      <td>...</td>\n      <td>0</td>\n      <td>0</td>\n      <td>0</td>\n      <td>0</td>\n      <td>1</td>\n      <td>0</td>\n      <td>0</td>\n      <td>0</td>\n      <td>0</td>\n      <td>0</td>\n    </tr>\n    <tr>\n      <th>299998</th>\n      <td>2tUlKjxxqKjVdphmSpgAnA</td>\n      <td>IYqLco4eB4CMy_ISnBE39g</td>\n      <td>TghRoAMx43V-9l7mH-SENg</td>\n      <td>4.0</td>\n      <td>0</td>\n      <td>0</td>\n      <td>0</td>\n      <td>This is the trendy place to eat at Clearwater ...</td>\n      <td>2016-03-26 19:51:12</td>\n      <td>Crabby Bills Clearwater Beach</td>\n      <td>...</td>\n      <td>0</td>\n      <td>0</td>\n      <td>0</td>\n      <td>0</td>\n      <td>0</td>\n      <td>0</td>\n      <td>0</td>\n      <td>0</td>\n      <td>0</td>\n      <td>1</td>\n    </tr>\n    <tr>\n      <th>299999</th>\n      <td>VmgrDTJYDEkQMbrZA0G4aQ</td>\n      <td>BmCI9_Oxg7018TOxvnUPEg</td>\n      <td>htO_nlxkEsYHzDrtbiUxew</td>\n      <td>5.0</td>\n      <td>0</td>\n      <td>0</td>\n      <td>0</td>\n      <td>Main Street, Manayunk - Best coffee in the cit...</td>\n      <td>2009-02-11 02:01:41</td>\n      <td>La Colombe Coffee</td>\n      <td>...</td>\n      <td>0</td>\n      <td>0</td>\n      <td>0</td>\n      <td>0</td>\n      <td>0</td>\n      <td>0</td>\n      <td>0</td>\n      <td>0</td>\n      <td>0</td>\n      <td>0</td>\n    </tr>\n  </tbody>\n</table>\n<p>300000 rows × 54 columns</p>\n</div>"
     },
     "execution_count": 12,
     "metadata": {},
     "output_type": "execute_result"
    }
   ],
   "source": [
    "categories_dummies = df_merged['categories'].str.get_dummies(sep=', ')\n",
    "categories_dummies = categories_dummies[keep_cat]\n",
    "df_binarized = pd.concat([df_merged, categories_dummies], axis=1)\n",
    "df_binarized"
   ],
   "metadata": {
    "collapsed": false,
    "ExecuteTime": {
     "end_time": "2024-12-12T14:26:52.852337500Z",
     "start_time": "2024-12-12T14:25:13.259957700Z"
    }
   },
   "id": "af05098c4d06b515"
  },
  {
   "cell_type": "code",
   "execution_count": 13,
   "outputs": [],
   "source": [
    "df_binarized['Main_category'] = df_binarized['categories'].str.split(',').str[0].fillna('Nessuna Categoria')"
   ],
   "metadata": {
    "collapsed": false,
    "ExecuteTime": {
     "end_time": "2024-12-12T14:26:55.249097800Z",
     "start_time": "2024-12-12T14:26:52.865356800Z"
    }
   },
   "id": "993795f1b9664c48"
  },
  {
   "cell_type": "code",
   "execution_count": 43,
   "outputs": [
    {
     "data": {
      "text/plain": "Main_category\nRestaurants                        51866\nFood                               19062\nBars                               11629\nAmerican (Traditional)              8450\nNightlife                           8395\n                                   ...  \nBlood & Plasma Donation Centers        1\nPrivate Tutors                         1\nBuses                                  1\nTranslation Services                   1\nAwnings                                1\nName: count, Length: 724, dtype: int64"
     },
     "execution_count": 43,
     "metadata": {},
     "output_type": "execute_result"
    }
   ],
   "source": [
    "import matplotlib.pyplot as plt\n",
    "import seaborn as sns\n",
    "\n",
    "category_counts = df_binarized['Main_category'].value_counts()\n",
    "'''\n",
    "sns.barplot(x=category_counts.index, y=category_counts.values, palette=\"viridis\")\n",
    "plt.xlabel('Categories')\n",
    "plt.ylabel('Frequency')\n",
    "plt.title('Distribution of First Categories')\n",
    "plt.xticks(rotation=45)\n",
    "plt.show()\n",
    "'''\n",
    "category_counts"
   ],
   "metadata": {
    "collapsed": false,
    "ExecuteTime": {
     "end_time": "2024-12-12T14:40:13.857442500Z",
     "start_time": "2024-12-12T14:40:13.825479300Z"
    }
   },
   "id": "8fdf5a288c32d670"
  },
  {
   "cell_type": "code",
   "execution_count": 44,
   "outputs": [
    {
     "data": {
      "text/plain": "['Bars',\n 'American (Traditional)',\n 'Nightlife',\n 'American (New)',\n 'Event Planning & Services',\n 'Mexican',\n 'Breakfast & Brunch',\n 'Pizza',\n 'Sandwiches',\n 'Italian',\n 'Seafood',\n 'Coffee & Tea',\n 'Ice Cream & Frozen Yogurt',\n 'Beauty & Spas',\n 'Hotels & Travel',\n 'Shopping',\n 'Burgers',\n 'Sushi Bars',\n 'German',\n 'Cajun/Creole',\n 'Thai',\n 'Cafes']"
     },
     "execution_count": 44,
     "metadata": {},
     "output_type": "execute_result"
    }
   ],
   "source": [
    "threshold = 2400\n",
    "category_counts = category_counts[2:]\n",
    "keep_categories = category_counts[category_counts > threshold].index.tolist()\n",
    "keep_categories"
   ],
   "metadata": {
    "collapsed": false,
    "ExecuteTime": {
     "end_time": "2024-12-12T14:40:14.623324500Z",
     "start_time": "2024-12-12T14:40:14.607587800Z"
    }
   },
   "id": "a83c6771940f45ba"
  },
  {
   "cell_type": "code",
   "execution_count": 45,
   "outputs": [
    {
     "data": {
      "text/plain": "['Bars',\n 'Nightlife',\n 'Event Planning & Services',\n 'Mexican',\n 'Breakfast & Brunch',\n 'Pizza',\n 'Sandwiches',\n 'Italian',\n 'Seafood',\n 'Coffee & Tea',\n 'Ice Cream & Frozen Yogurt',\n 'Beauty & Spas',\n 'Hotels & Travel',\n 'Shopping',\n 'Burgers',\n 'Sushi Bars',\n 'German',\n 'Thai',\n 'Cafes']"
     },
     "execution_count": 45,
     "metadata": {},
     "output_type": "execute_result"
    }
   ],
   "source": [
    "del keep_categories[1]\n",
    "del keep_categories[2]\n",
    "del keep_categories[17]\n",
    "keep_categories"
   ],
   "metadata": {
    "collapsed": false,
    "ExecuteTime": {
     "end_time": "2024-12-12T14:40:15.393269500Z",
     "start_time": "2024-12-12T14:40:15.374995200Z"
    }
   },
   "id": "9e4ff23ffc5d2702"
  },
  {
   "cell_type": "code",
   "execution_count": 46,
   "outputs": [
    {
     "data": {
      "text/plain": "92376"
     },
     "execution_count": 46,
     "metadata": {},
     "output_type": "execute_result"
    }
   ],
   "source": [
    "filtered_df = df_binarized[df_binarized['Main_category'].isin(keep_categories)]\n",
    "len(filtered_df)"
   ],
   "metadata": {
    "collapsed": false,
    "ExecuteTime": {
     "end_time": "2024-12-12T14:41:50.640231600Z",
     "start_time": "2024-12-12T14:41:50.525382400Z"
    }
   },
   "id": "a751be4956083951"
  },
  {
   "cell_type": "code",
   "execution_count": 47,
   "outputs": [
    {
     "data": {
      "text/plain": "                 review_id                 user_id             business_id  \\\n4   Sx8TMOWLNuJBWer-0pcmoA  bcjbaE6dDog4jkNY91ncLQ  e4Vwtrqf-wpJfwesgvdgxQ   \n10  rGQRf8UafX7OTlMNN19I8A  1WHRWwQmZOZDAhp2Qyny4g  uMvVYRgGNXf5boolA9HXTw   \n12  XW_LfMv0fV21l9c6xQd_lw  9OAtfnWag-ajVxRbUTGIyg  lj-E32x9_FA7GmUrBGBEWg   \n13  8JFGBuHMoiNDyfcxuWNtrA  smOvOajNG0lS4Pq7d8g4JQ  RZtGWDLCAtuipwaZ-UfjmQ   \n15  OAhBYw8IQ6wlfw1owXWRWw  1C2lxzUo1Hyye4RFIXly3g  BVndHaLihEYbr76Z0CMEGw   \n\n    stars_x  useful  funny  cool  \\\n4       4.0       1      0     1   \n10      5.0       2      0     0   \n12      4.0       0      0     0   \n13      4.0       0      0     0   \n15      5.0       0      0     0   \n\n                                                 text                 date  \\\n4   Cute interior and owner (?) gave us tour of up...  2017-01-14 20:54:15   \n10  My experience with Shalimar was nothing but wo...  2015-06-21 14:48:06   \n12  Love going here for happy hour or dinner!  Gre...  2014-06-27 22:44:01   \n13  Good food--loved the gnocchi with marinara\\nth...  2009-10-14 19:57:14   \n15  Great place for breakfast! I had the waffle, w...  2014-10-11 16:22:06   \n\n                      name  ... Mexican Beauty & Spas Pubs Cajun/Creole  \\\n4                     Melt  ...       0             0    0            0   \n10  Shalimar Fine Jewelers  ...       0             0    0            0   \n12     Brio Italian Grille  ...       0             0    0            0   \n13               LaScala's  ...       0             0    0            0   \n15           Mamas Kitchen  ...       0             0    0            0   \n\n    Event Planning & Services  Venues & Event Spaces  Bakeries  Hotels  \\\n4                           0                      0         0       0   \n10                          0                      0         0       0   \n12                          0                      0         0       0   \n13                          0                      0         0       0   \n15                          0                      0         0       0   \n\n    Specialty Food Main_category  \n4                0    Sandwiches  \n10               0      Shopping  \n12               0          Bars  \n13               0         Pizza  \n15               0    Sandwiches  \n\n[5 rows x 55 columns]",
      "text/html": "<div>\n<style scoped>\n    .dataframe tbody tr th:only-of-type {\n        vertical-align: middle;\n    }\n\n    .dataframe tbody tr th {\n        vertical-align: top;\n    }\n\n    .dataframe thead th {\n        text-align: right;\n    }\n</style>\n<table border=\"1\" class=\"dataframe\">\n  <thead>\n    <tr style=\"text-align: right;\">\n      <th></th>\n      <th>review_id</th>\n      <th>user_id</th>\n      <th>business_id</th>\n      <th>stars_x</th>\n      <th>useful</th>\n      <th>funny</th>\n      <th>cool</th>\n      <th>text</th>\n      <th>date</th>\n      <th>name</th>\n      <th>...</th>\n      <th>Mexican</th>\n      <th>Beauty &amp; Spas</th>\n      <th>Pubs</th>\n      <th>Cajun/Creole</th>\n      <th>Event Planning &amp; Services</th>\n      <th>Venues &amp; Event Spaces</th>\n      <th>Bakeries</th>\n      <th>Hotels</th>\n      <th>Specialty Food</th>\n      <th>Main_category</th>\n    </tr>\n  </thead>\n  <tbody>\n    <tr>\n      <th>4</th>\n      <td>Sx8TMOWLNuJBWer-0pcmoA</td>\n      <td>bcjbaE6dDog4jkNY91ncLQ</td>\n      <td>e4Vwtrqf-wpJfwesgvdgxQ</td>\n      <td>4.0</td>\n      <td>1</td>\n      <td>0</td>\n      <td>1</td>\n      <td>Cute interior and owner (?) gave us tour of up...</td>\n      <td>2017-01-14 20:54:15</td>\n      <td>Melt</td>\n      <td>...</td>\n      <td>0</td>\n      <td>0</td>\n      <td>0</td>\n      <td>0</td>\n      <td>0</td>\n      <td>0</td>\n      <td>0</td>\n      <td>0</td>\n      <td>0</td>\n      <td>Sandwiches</td>\n    </tr>\n    <tr>\n      <th>10</th>\n      <td>rGQRf8UafX7OTlMNN19I8A</td>\n      <td>1WHRWwQmZOZDAhp2Qyny4g</td>\n      <td>uMvVYRgGNXf5boolA9HXTw</td>\n      <td>5.0</td>\n      <td>2</td>\n      <td>0</td>\n      <td>0</td>\n      <td>My experience with Shalimar was nothing but wo...</td>\n      <td>2015-06-21 14:48:06</td>\n      <td>Shalimar Fine Jewelers</td>\n      <td>...</td>\n      <td>0</td>\n      <td>0</td>\n      <td>0</td>\n      <td>0</td>\n      <td>0</td>\n      <td>0</td>\n      <td>0</td>\n      <td>0</td>\n      <td>0</td>\n      <td>Shopping</td>\n    </tr>\n    <tr>\n      <th>12</th>\n      <td>XW_LfMv0fV21l9c6xQd_lw</td>\n      <td>9OAtfnWag-ajVxRbUTGIyg</td>\n      <td>lj-E32x9_FA7GmUrBGBEWg</td>\n      <td>4.0</td>\n      <td>0</td>\n      <td>0</td>\n      <td>0</td>\n      <td>Love going here for happy hour or dinner!  Gre...</td>\n      <td>2014-06-27 22:44:01</td>\n      <td>Brio Italian Grille</td>\n      <td>...</td>\n      <td>0</td>\n      <td>0</td>\n      <td>0</td>\n      <td>0</td>\n      <td>0</td>\n      <td>0</td>\n      <td>0</td>\n      <td>0</td>\n      <td>0</td>\n      <td>Bars</td>\n    </tr>\n    <tr>\n      <th>13</th>\n      <td>8JFGBuHMoiNDyfcxuWNtrA</td>\n      <td>smOvOajNG0lS4Pq7d8g4JQ</td>\n      <td>RZtGWDLCAtuipwaZ-UfjmQ</td>\n      <td>4.0</td>\n      <td>0</td>\n      <td>0</td>\n      <td>0</td>\n      <td>Good food--loved the gnocchi with marinara\\nth...</td>\n      <td>2009-10-14 19:57:14</td>\n      <td>LaScala's</td>\n      <td>...</td>\n      <td>0</td>\n      <td>0</td>\n      <td>0</td>\n      <td>0</td>\n      <td>0</td>\n      <td>0</td>\n      <td>0</td>\n      <td>0</td>\n      <td>0</td>\n      <td>Pizza</td>\n    </tr>\n    <tr>\n      <th>15</th>\n      <td>OAhBYw8IQ6wlfw1owXWRWw</td>\n      <td>1C2lxzUo1Hyye4RFIXly3g</td>\n      <td>BVndHaLihEYbr76Z0CMEGw</td>\n      <td>5.0</td>\n      <td>0</td>\n      <td>0</td>\n      <td>0</td>\n      <td>Great place for breakfast! I had the waffle, w...</td>\n      <td>2014-10-11 16:22:06</td>\n      <td>Mamas Kitchen</td>\n      <td>...</td>\n      <td>0</td>\n      <td>0</td>\n      <td>0</td>\n      <td>0</td>\n      <td>0</td>\n      <td>0</td>\n      <td>0</td>\n      <td>0</td>\n      <td>0</td>\n      <td>Sandwiches</td>\n    </tr>\n  </tbody>\n</table>\n<p>5 rows × 55 columns</p>\n</div>"
     },
     "execution_count": 47,
     "metadata": {},
     "output_type": "execute_result"
    }
   ],
   "source": [
    "filtered_df.head()"
   ],
   "metadata": {
    "collapsed": false,
    "ExecuteTime": {
     "end_time": "2024-12-12T14:42:12.458442100Z",
     "start_time": "2024-12-12T14:42:12.442170700Z"
    }
   },
   "id": "3e70d10010714fa6"
  },
  {
   "cell_type": "code",
   "execution_count": 48,
   "outputs": [],
   "source": [
    "filtered_df.to_csv('pre_processed.csv')"
   ],
   "metadata": {
    "collapsed": false,
    "ExecuteTime": {
     "end_time": "2024-12-12T14:42:43.722084900Z",
     "start_time": "2024-12-12T14:42:40.812812800Z"
    }
   },
   "id": "6a28d14510d32623"
  },
  {
   "cell_type": "code",
   "execution_count": null,
   "outputs": [],
   "source": [],
   "metadata": {
    "collapsed": false
   },
   "id": "a59cfca6e028b724"
  }
 ],
 "metadata": {
  "kernelspec": {
   "display_name": "Python 3",
   "language": "python",
   "name": "python3"
  },
  "language_info": {
   "codemirror_mode": {
    "name": "ipython",
    "version": 2
   },
   "file_extension": ".py",
   "mimetype": "text/x-python",
   "name": "python",
   "nbconvert_exporter": "python",
   "pygments_lexer": "ipython2",
   "version": "2.7.6"
  }
 },
 "nbformat": 4,
 "nbformat_minor": 5
}
