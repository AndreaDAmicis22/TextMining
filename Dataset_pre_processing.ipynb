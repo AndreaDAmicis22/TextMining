{
 "cells": [
  {
   "cell_type": "code",
   "execution_count": 1,
   "id": "initial_id",
   "metadata": {
    "collapsed": true,
    "ExecuteTime": {
     "end_time": "2024-11-22T09:04:43.490302500Z",
     "start_time": "2024-11-22T09:04:43.482242600Z"
    }
   },
   "outputs": [],
   "source": [
    "import pandas as pd\n",
    "import json"
   ]
  },
  {
   "cell_type": "code",
   "execution_count": 2,
   "outputs": [],
   "source": [
    "yelp_review = []\n",
    "with open('yelp_dataset/yelp_academic_dataset_review.json', 'r', encoding='utf-8') as f:\n",
    "    for line in f:\n",
    "        yelp_review.append(json.loads(line))"
   ],
   "metadata": {
    "collapsed": false,
    "ExecuteTime": {
     "end_time": "2024-11-22T09:05:54.542537200Z",
     "start_time": "2024-11-22T09:04:43.498239Z"
    }
   },
   "id": "1aa18729a628c967"
  },
  {
   "cell_type": "code",
   "execution_count": 3,
   "outputs": [],
   "source": [
    "yelp_business = []\n",
    "with open('yelp_dataset/yelp_academic_dataset_business.json', 'r', encoding='utf-8') as f:\n",
    "    for line in f:\n",
    "        yelp_business.append(json.loads(line))"
   ],
   "metadata": {
    "collapsed": false,
    "ExecuteTime": {
     "end_time": "2024-11-22T09:06:12.063341400Z",
     "start_time": "2024-11-22T09:05:54.518535600Z"
    }
   },
   "id": "65cf871235ff6ddc"
  },
  {
   "cell_type": "code",
   "execution_count": 4,
   "outputs": [],
   "source": [
    "yelp_review_df = pd.DataFrame(yelp_review[:200000])\n",
    "yelp_business_df = pd.DataFrame(yelp_business)"
   ],
   "metadata": {
    "collapsed": false,
    "ExecuteTime": {
     "end_time": "2024-11-22T09:06:14.771571300Z",
     "start_time": "2024-11-22T09:06:12.071777600Z"
    }
   },
   "id": "c6c9dbb9adab140"
  },
  {
   "cell_type": "code",
   "execution_count": 5,
   "outputs": [
    {
     "data": {
      "text/plain": "                     review_id                 user_id  \\\n0       KU_O5udG6zpxOg-VcAEodg  mh_-eMZ6K5RLWhZyISBhwA   \n1       BiTunyQ73aT9WBnpR9DZGw  OyoGAe7OKpv6SyGZT5g77Q   \n2       saUsX_uimxRlCVr67Z4Jig  8g_iMtfSiwikVnbP2etR0A   \n3       AqPFMleE6RsU23_auESxiA  _7bHUi9Uuf5__HHc_Q8guQ   \n4       Sx8TMOWLNuJBWer-0pcmoA  bcjbaE6dDog4jkNY91ncLQ   \n...                        ...                     ...   \n199995  nRYJWQ6YVjcrZCEU_JWrIQ  uakTslg3Ay3C0816-5yNdQ   \n199996  4ylitTY7GmonnQDqhjB-eg  _fMw99otXOCu-Kzc-loMZA   \n199997  MnwNSr5h_t1uIlcj3aI_5w  ZfG1T_noQnbOdXnz4USs0Q   \n199998  3fp0uXGAjIqgza02_ObF5w  I0MMq4iYjDjERnSjp76HDw   \n199999  cSlJEcygfh-57otb6dF3Lg  sokS5Ml2QyKjOwO56pS9Jw   \n\n                   business_id  stars_x  useful  funny  cool  \\\n0       XQfwVwDr-v0ZS3_CbbE5Xw      3.0       0      0     0   \n1       7ATYjTIgM3jUlt4UM3IypQ      5.0       1      0     1   \n2       YjUWPpI6HXG530lwP-fb2A      3.0       0      0     0   \n3       kxX2SOes4o-D3ZQBkiMRfA      5.0       1      0     1   \n4       e4Vwtrqf-wpJfwesgvdgxQ      4.0       1      0     1   \n...                        ...      ...     ...    ...   ...   \n199995  idf-eiurCrbsLRcH7c9zmw      5.0       0      0     0   \n199996  v72HalBu5fQIFTD-oqhSgQ      5.0       0      0     0   \n199997  cvHY1RTAPSoH94ysP2_eyQ      5.0       1      1     1   \n199998  cBp1fn2LXpSHe4VbTXLYEw      5.0       0      0     1   \n199999  oBhJuukGRqPVvYBfTkhuZA      5.0       0      0     0   \n\n                                                     text  \\\n0       If you decide to eat here, just be aware it is...   \n1       I've taken a lot of spin classes over the year...   \n2       Family diner. Had the buffet. Eclectic assortm...   \n3       Wow!  Yummy, different,  delicious.   Our favo...   \n4       Cute interior and owner (?) gave us tour of up...   \n...                                                   ...   \n199995  Oakley's Bistro is a hidden gem for Indianapol...   \n199996  Let me just say, I'm glad my husband and I dec...   \n199997  I was coming back from the Farmers market toda...   \n199998  Absolutely perfect meal for me. The food is cl...   \n199999  Braised beef Short Rib! Asparagus on the side....   \n\n                       date                          name  ... state  \\\n0       2018-07-07 22:09:11  Turning Point of North Wales  ...    PA   \n1       2012-01-03 15:28:18    Body Cycle Spinning Studio  ...    PA   \n2       2014-02-05 20:30:30             Kettle Restaurant  ...    AZ   \n3       2015-01-04 00:01:03                         Zaika  ...    PA   \n4       2017-01-14 20:54:15                          Melt  ...    LA   \n...                     ...                           ...  ...   ...   \n199995  2012-10-16 17:45:43                Oakleys Bistro  ...    IN   \n199996  2016-08-18 00:23:31                1200 Chophouse  ...    FL   \n199997  2014-06-21 17:12:53   The Turnip Truck Urban Fare  ...    TN   \n199998  2017-09-06 17:54:23               Bab Café - Reno  ...    NV   \n199999  2015-06-16 01:51:18                   Square 1682  ...    PA   \n\n       postal_code   latitude   longitude  stars_y  review_count  is_open  \\\n0            19454  40.210196  -75.223639      3.0           169        1   \n1            19119  39.952103  -75.172753      5.0           144        0   \n2            85713  32.207233 -110.980864      3.5            47        1   \n3            19114  40.079848  -75.025080      4.0           181        1   \n4            70119  29.962102  -90.087958      4.0            32        0   \n...            ...        ...         ...      ...           ...      ...   \n199995       46260  39.914022  -86.185210      4.5           261        1   \n199996       33706  27.724941  -82.740789      4.5           455        1   \n199997       37203  36.152750  -86.785498      4.0           145        1   \n199998       89501  39.528110 -119.816935      4.5           470        1   \n199999       19103  39.950801  -75.168611      3.5           385        1   \n\n                                               attributes  \\\n0       {'NoiseLevel': 'u'average'', 'HasTV': 'False',...   \n1       {'BusinessAcceptsCreditCards': 'True', 'GoodFo...   \n2       {'RestaurantsReservations': 'True', 'BusinessP...   \n3       {'Caters': 'True', 'Ambience': '{'romantic': F...   \n4       {'BusinessParking': '{'garage': False, 'street...   \n...                                                   ...   \n199995  {'RestaurantsTakeOut': 'True', 'BusinessAccept...   \n199996  {'Caters': 'False', 'RestaurantsAttire': 'u'ca...   \n199997  {'BusinessAcceptsCreditCards': 'True', 'BikePa...   \n199998  {'RestaurantsDelivery': 'True', 'BikeParking':...   \n199999  {'RestaurantsPriceRange2': '2', 'Alcohol': 'u'...   \n\n                                               categories  \\\n0       Restaurants, Breakfast & Brunch, Food, Juice B...   \n1       Active Life, Cycling Classes, Trainers, Gyms, ...   \n2                         Restaurants, Breakfast & Brunch   \n3                   Halal, Pakistani, Restaurants, Indian   \n4       Sandwiches, Beer, Wine & Spirits, Bars, Food, ...   \n...                                                   ...   \n199995  American (New), Cocktail Bars, Bars, Wine Bars...   \n199996           Steakhouses, American (New), Restaurants   \n199997  Health Markets, Restaurants, Grocery, Sandwich...   \n199998  Restaurants, Cafes, Korean, Gluten-Free, Comfo...   \n199999  American (New), Breakfast & Brunch, Bars, Nigh...   \n\n                                                    hours  \n0       {'Monday': '7:30-15:0', 'Tuesday': '7:30-15:0'...  \n1       {'Monday': '6:30-20:30', 'Tuesday': '6:30-20:3...  \n2                                                    None  \n3       {'Tuesday': '11:0-21:0', 'Wednesday': '11:0-21...  \n4       {'Monday': '0:0-0:0', 'Friday': '11:0-17:0', '...  \n...                                                   ...  \n199995  {'Monday': '0:0-0:0', 'Tuesday': '11:0-21:30',...  \n199996  {'Monday': '17:0-22:0', 'Tuesday': '17:0-22:0'...  \n199997  {'Monday': '7:0-21:0', 'Tuesday': '7:0-21:0', ...  \n199998  {'Monday': '0:0-0:0', 'Tuesday': '11:0-21:0', ...  \n199999  {'Monday': '0:0-0:0', 'Tuesday': '17:0-22:0', ...  \n\n[200000 rows x 22 columns]",
      "text/html": "<div>\n<style scoped>\n    .dataframe tbody tr th:only-of-type {\n        vertical-align: middle;\n    }\n\n    .dataframe tbody tr th {\n        vertical-align: top;\n    }\n\n    .dataframe thead th {\n        text-align: right;\n    }\n</style>\n<table border=\"1\" class=\"dataframe\">\n  <thead>\n    <tr style=\"text-align: right;\">\n      <th></th>\n      <th>review_id</th>\n      <th>user_id</th>\n      <th>business_id</th>\n      <th>stars_x</th>\n      <th>useful</th>\n      <th>funny</th>\n      <th>cool</th>\n      <th>text</th>\n      <th>date</th>\n      <th>name</th>\n      <th>...</th>\n      <th>state</th>\n      <th>postal_code</th>\n      <th>latitude</th>\n      <th>longitude</th>\n      <th>stars_y</th>\n      <th>review_count</th>\n      <th>is_open</th>\n      <th>attributes</th>\n      <th>categories</th>\n      <th>hours</th>\n    </tr>\n  </thead>\n  <tbody>\n    <tr>\n      <th>0</th>\n      <td>KU_O5udG6zpxOg-VcAEodg</td>\n      <td>mh_-eMZ6K5RLWhZyISBhwA</td>\n      <td>XQfwVwDr-v0ZS3_CbbE5Xw</td>\n      <td>3.0</td>\n      <td>0</td>\n      <td>0</td>\n      <td>0</td>\n      <td>If you decide to eat here, just be aware it is...</td>\n      <td>2018-07-07 22:09:11</td>\n      <td>Turning Point of North Wales</td>\n      <td>...</td>\n      <td>PA</td>\n      <td>19454</td>\n      <td>40.210196</td>\n      <td>-75.223639</td>\n      <td>3.0</td>\n      <td>169</td>\n      <td>1</td>\n      <td>{'NoiseLevel': 'u'average'', 'HasTV': 'False',...</td>\n      <td>Restaurants, Breakfast &amp; Brunch, Food, Juice B...</td>\n      <td>{'Monday': '7:30-15:0', 'Tuesday': '7:30-15:0'...</td>\n    </tr>\n    <tr>\n      <th>1</th>\n      <td>BiTunyQ73aT9WBnpR9DZGw</td>\n      <td>OyoGAe7OKpv6SyGZT5g77Q</td>\n      <td>7ATYjTIgM3jUlt4UM3IypQ</td>\n      <td>5.0</td>\n      <td>1</td>\n      <td>0</td>\n      <td>1</td>\n      <td>I've taken a lot of spin classes over the year...</td>\n      <td>2012-01-03 15:28:18</td>\n      <td>Body Cycle Spinning Studio</td>\n      <td>...</td>\n      <td>PA</td>\n      <td>19119</td>\n      <td>39.952103</td>\n      <td>-75.172753</td>\n      <td>5.0</td>\n      <td>144</td>\n      <td>0</td>\n      <td>{'BusinessAcceptsCreditCards': 'True', 'GoodFo...</td>\n      <td>Active Life, Cycling Classes, Trainers, Gyms, ...</td>\n      <td>{'Monday': '6:30-20:30', 'Tuesday': '6:30-20:3...</td>\n    </tr>\n    <tr>\n      <th>2</th>\n      <td>saUsX_uimxRlCVr67Z4Jig</td>\n      <td>8g_iMtfSiwikVnbP2etR0A</td>\n      <td>YjUWPpI6HXG530lwP-fb2A</td>\n      <td>3.0</td>\n      <td>0</td>\n      <td>0</td>\n      <td>0</td>\n      <td>Family diner. Had the buffet. Eclectic assortm...</td>\n      <td>2014-02-05 20:30:30</td>\n      <td>Kettle Restaurant</td>\n      <td>...</td>\n      <td>AZ</td>\n      <td>85713</td>\n      <td>32.207233</td>\n      <td>-110.980864</td>\n      <td>3.5</td>\n      <td>47</td>\n      <td>1</td>\n      <td>{'RestaurantsReservations': 'True', 'BusinessP...</td>\n      <td>Restaurants, Breakfast &amp; Brunch</td>\n      <td>None</td>\n    </tr>\n    <tr>\n      <th>3</th>\n      <td>AqPFMleE6RsU23_auESxiA</td>\n      <td>_7bHUi9Uuf5__HHc_Q8guQ</td>\n      <td>kxX2SOes4o-D3ZQBkiMRfA</td>\n      <td>5.0</td>\n      <td>1</td>\n      <td>0</td>\n      <td>1</td>\n      <td>Wow!  Yummy, different,  delicious.   Our favo...</td>\n      <td>2015-01-04 00:01:03</td>\n      <td>Zaika</td>\n      <td>...</td>\n      <td>PA</td>\n      <td>19114</td>\n      <td>40.079848</td>\n      <td>-75.025080</td>\n      <td>4.0</td>\n      <td>181</td>\n      <td>1</td>\n      <td>{'Caters': 'True', 'Ambience': '{'romantic': F...</td>\n      <td>Halal, Pakistani, Restaurants, Indian</td>\n      <td>{'Tuesday': '11:0-21:0', 'Wednesday': '11:0-21...</td>\n    </tr>\n    <tr>\n      <th>4</th>\n      <td>Sx8TMOWLNuJBWer-0pcmoA</td>\n      <td>bcjbaE6dDog4jkNY91ncLQ</td>\n      <td>e4Vwtrqf-wpJfwesgvdgxQ</td>\n      <td>4.0</td>\n      <td>1</td>\n      <td>0</td>\n      <td>1</td>\n      <td>Cute interior and owner (?) gave us tour of up...</td>\n      <td>2017-01-14 20:54:15</td>\n      <td>Melt</td>\n      <td>...</td>\n      <td>LA</td>\n      <td>70119</td>\n      <td>29.962102</td>\n      <td>-90.087958</td>\n      <td>4.0</td>\n      <td>32</td>\n      <td>0</td>\n      <td>{'BusinessParking': '{'garage': False, 'street...</td>\n      <td>Sandwiches, Beer, Wine &amp; Spirits, Bars, Food, ...</td>\n      <td>{'Monday': '0:0-0:0', 'Friday': '11:0-17:0', '...</td>\n    </tr>\n    <tr>\n      <th>...</th>\n      <td>...</td>\n      <td>...</td>\n      <td>...</td>\n      <td>...</td>\n      <td>...</td>\n      <td>...</td>\n      <td>...</td>\n      <td>...</td>\n      <td>...</td>\n      <td>...</td>\n      <td>...</td>\n      <td>...</td>\n      <td>...</td>\n      <td>...</td>\n      <td>...</td>\n      <td>...</td>\n      <td>...</td>\n      <td>...</td>\n      <td>...</td>\n      <td>...</td>\n      <td>...</td>\n    </tr>\n    <tr>\n      <th>199995</th>\n      <td>nRYJWQ6YVjcrZCEU_JWrIQ</td>\n      <td>uakTslg3Ay3C0816-5yNdQ</td>\n      <td>idf-eiurCrbsLRcH7c9zmw</td>\n      <td>5.0</td>\n      <td>0</td>\n      <td>0</td>\n      <td>0</td>\n      <td>Oakley's Bistro is a hidden gem for Indianapol...</td>\n      <td>2012-10-16 17:45:43</td>\n      <td>Oakleys Bistro</td>\n      <td>...</td>\n      <td>IN</td>\n      <td>46260</td>\n      <td>39.914022</td>\n      <td>-86.185210</td>\n      <td>4.5</td>\n      <td>261</td>\n      <td>1</td>\n      <td>{'RestaurantsTakeOut': 'True', 'BusinessAccept...</td>\n      <td>American (New), Cocktail Bars, Bars, Wine Bars...</td>\n      <td>{'Monday': '0:0-0:0', 'Tuesday': '11:0-21:30',...</td>\n    </tr>\n    <tr>\n      <th>199996</th>\n      <td>4ylitTY7GmonnQDqhjB-eg</td>\n      <td>_fMw99otXOCu-Kzc-loMZA</td>\n      <td>v72HalBu5fQIFTD-oqhSgQ</td>\n      <td>5.0</td>\n      <td>0</td>\n      <td>0</td>\n      <td>0</td>\n      <td>Let me just say, I'm glad my husband and I dec...</td>\n      <td>2016-08-18 00:23:31</td>\n      <td>1200 Chophouse</td>\n      <td>...</td>\n      <td>FL</td>\n      <td>33706</td>\n      <td>27.724941</td>\n      <td>-82.740789</td>\n      <td>4.5</td>\n      <td>455</td>\n      <td>1</td>\n      <td>{'Caters': 'False', 'RestaurantsAttire': 'u'ca...</td>\n      <td>Steakhouses, American (New), Restaurants</td>\n      <td>{'Monday': '17:0-22:0', 'Tuesday': '17:0-22:0'...</td>\n    </tr>\n    <tr>\n      <th>199997</th>\n      <td>MnwNSr5h_t1uIlcj3aI_5w</td>\n      <td>ZfG1T_noQnbOdXnz4USs0Q</td>\n      <td>cvHY1RTAPSoH94ysP2_eyQ</td>\n      <td>5.0</td>\n      <td>1</td>\n      <td>1</td>\n      <td>1</td>\n      <td>I was coming back from the Farmers market toda...</td>\n      <td>2014-06-21 17:12:53</td>\n      <td>The Turnip Truck Urban Fare</td>\n      <td>...</td>\n      <td>TN</td>\n      <td>37203</td>\n      <td>36.152750</td>\n      <td>-86.785498</td>\n      <td>4.0</td>\n      <td>145</td>\n      <td>1</td>\n      <td>{'BusinessAcceptsCreditCards': 'True', 'BikePa...</td>\n      <td>Health Markets, Restaurants, Grocery, Sandwich...</td>\n      <td>{'Monday': '7:0-21:0', 'Tuesday': '7:0-21:0', ...</td>\n    </tr>\n    <tr>\n      <th>199998</th>\n      <td>3fp0uXGAjIqgza02_ObF5w</td>\n      <td>I0MMq4iYjDjERnSjp76HDw</td>\n      <td>cBp1fn2LXpSHe4VbTXLYEw</td>\n      <td>5.0</td>\n      <td>0</td>\n      <td>0</td>\n      <td>1</td>\n      <td>Absolutely perfect meal for me. The food is cl...</td>\n      <td>2017-09-06 17:54:23</td>\n      <td>Bab Café - Reno</td>\n      <td>...</td>\n      <td>NV</td>\n      <td>89501</td>\n      <td>39.528110</td>\n      <td>-119.816935</td>\n      <td>4.5</td>\n      <td>470</td>\n      <td>1</td>\n      <td>{'RestaurantsDelivery': 'True', 'BikeParking':...</td>\n      <td>Restaurants, Cafes, Korean, Gluten-Free, Comfo...</td>\n      <td>{'Monday': '0:0-0:0', 'Tuesday': '11:0-21:0', ...</td>\n    </tr>\n    <tr>\n      <th>199999</th>\n      <td>cSlJEcygfh-57otb6dF3Lg</td>\n      <td>sokS5Ml2QyKjOwO56pS9Jw</td>\n      <td>oBhJuukGRqPVvYBfTkhuZA</td>\n      <td>5.0</td>\n      <td>0</td>\n      <td>0</td>\n      <td>0</td>\n      <td>Braised beef Short Rib! Asparagus on the side....</td>\n      <td>2015-06-16 01:51:18</td>\n      <td>Square 1682</td>\n      <td>...</td>\n      <td>PA</td>\n      <td>19103</td>\n      <td>39.950801</td>\n      <td>-75.168611</td>\n      <td>3.5</td>\n      <td>385</td>\n      <td>1</td>\n      <td>{'RestaurantsPriceRange2': '2', 'Alcohol': 'u'...</td>\n      <td>American (New), Breakfast &amp; Brunch, Bars, Nigh...</td>\n      <td>{'Monday': '0:0-0:0', 'Tuesday': '17:0-22:0', ...</td>\n    </tr>\n  </tbody>\n</table>\n<p>200000 rows × 22 columns</p>\n</div>"
     },
     "execution_count": 5,
     "metadata": {},
     "output_type": "execute_result"
    }
   ],
   "source": [
    "df_merged = pd.merge(yelp_review_df, yelp_business_df, on='business_id')\n",
    "df_merged"
   ],
   "metadata": {
    "collapsed": false,
    "ExecuteTime": {
     "end_time": "2024-11-22T09:06:15.596316600Z",
     "start_time": "2024-11-22T09:06:14.771571300Z"
    }
   },
   "id": "c21d4d4be9a490d5"
  },
  {
   "cell_type": "code",
   "execution_count": 6,
   "outputs": [
    {
     "data": {
      "text/plain": "1043915"
     },
     "execution_count": 6,
     "metadata": {},
     "output_type": "execute_result"
    }
   ],
   "source": [
    "categories_list = []\n",
    "for cat in df_merged['categories']:\n",
    "    if cat is not None:\n",
    "        splitted = cat.split(',')\n",
    "        for s in splitted:\n",
    "            categories_list.append(s)\n",
    "        \n",
    "#categories_list = list(dict.fromkeys(categories_list))\n",
    "len(categories_list)"
   ],
   "metadata": {
    "collapsed": false,
    "ExecuteTime": {
     "end_time": "2024-11-22T09:06:16.468273800Z",
     "start_time": "2024-11-22T09:06:15.548144200Z"
    }
   },
   "id": "8eb584cbefcfa93d"
  },
  {
   "cell_type": "code",
   "execution_count": 7,
   "outputs": [],
   "source": [
    "import re\n",
    "\n",
    "def normalize_categories(text):\n",
    "    lab_list = []\n",
    "    for label in text:\n",
    "        label = re.sub(r'^\\s+|\\s+$', '', label)\n",
    "        lab_list.append(label)\n",
    "    return lab_list\n"
   ],
   "metadata": {
    "collapsed": false,
    "ExecuteTime": {
     "end_time": "2024-11-22T09:06:16.468273800Z",
     "start_time": "2024-11-22T09:06:15.796528500Z"
    }
   },
   "id": "477a9b0db9e18ab7"
  },
  {
   "cell_type": "code",
   "execution_count": 8,
   "outputs": [],
   "source": [
    "categories_list = normalize_categories(categories_list)"
   ],
   "metadata": {
    "collapsed": false,
    "ExecuteTime": {
     "end_time": "2024-11-22T09:06:17.567691Z",
     "start_time": "2024-11-22T09:06:15.812313700Z"
    }
   },
   "id": "832f5af235b2ecb5"
  },
  {
   "cell_type": "code",
   "execution_count": 9,
   "outputs": [
    {
     "name": "stdout",
     "output_type": "stream",
     "text": [
      "{'Restaurants': 144424, 'Breakfast & Brunch': 28023, 'Food': 59278, 'Juice Bars & Smoothies': 4222, 'American (New)': 33207, 'Coffee & Tea': 16045, 'Sandwiches': 19911, 'Active Life': 5120, 'Cycling Classes': 140, 'Trainers': 749, 'Gyms': 1033, 'Fitness & Instruction': 1662, 'Halal': 827, 'Pakistani': 1295, 'Indian': 2984, 'Beer': 7050, 'Wine & Spirits': 7050, 'Bars': 43878, 'American (Traditional)': 28509, 'Nightlife': 46793, 'Mediterranean': 3871, 'Seafood': 15932, 'Greek': 2844, 'Supernatural Readings': 316, 'Tours': 2040, 'Hotels & Travel': 12018, 'Walking Tours': 680, 'Arts & Entertainment': 11777, 'Beer Bar': 3696, 'Gastropubs': 3701, 'Burgers': 14301, 'Parks': 1029, 'Steakhouses': 5577, 'Sushi Bars': 7241, 'Japanese': 6869, 'Shopping': 12363, 'Jewelry': 671, 'Cafes': 10879, 'Pizza': 14433, 'Cocktail Bars': 10053, 'Italian': 13105, 'Salad': 9227, 'Tacos': 2427, 'Mexican': 13430, 'Hot Dogs': 1408, 'Wine Bars': 5011, 'Makeup Artists': 1179, 'Blow Dry/Out Services': 543, 'Beauty & Spas': 9937, 'Hair Salons': 3247, 'Nail Salons': 3216, 'Eyebrow Services': 190, 'Ice Cream & Frozen Yogurt': 5723, 'Local Flavor': 3674, 'Desserts': 6619, 'Breweries': 3816, 'Brewpubs': 784, 'Pubs': 7062, 'Performing Arts': 997, 'Comedy Clubs': 182, 'Poke': 423, 'Hawaiian': 303, 'Barbeque': 5437, 'Thai': 4168, 'Cajun/Creole': 8239, 'Event Planning & Services': 19898, 'Venues & Event Spaces': 7747, 'Golf': 170, 'Sports Bars': 5818, 'Lounges': 4213, 'Fast Food': 5747, 'Gas Stations': 448, 'Automotive': 4572, 'Convenience Stores': 1195, 'Auto Repair': 2666, 'Smog Check Stations': 148, 'Auto Parts & Supplies': 1091, 'Bakeries': 6869, 'Health & Medical': 3552, 'Massage': 1603, 'Physical Therapy': 178, 'Massage Therapy': 789, 'Casinos': 1447, 'Day Spas': 3453, 'Hotels': 8474, 'Delis': 3621, 'Comfort Food': 3335, 'Southern': 6035, 'Buffets': 1444, 'Bagels': 1535, 'Sporting Goods': 867, 'Outdoor Gear': 241, 'Internet Cafes': 344, 'Caterers': 6022, 'Jazz & Blues': 1598, 'Donuts': 2792, 'Whiskey Bars': 911, 'Soup': 2896, 'Hair Removal': 2752, 'Waxing': 1988, 'Hair Extensions': 473, 'Oil Change Stations': 1194, 'Tires': 1151, 'Contractors': 422, 'Home Services': 3668, 'Plumbing': 209, 'Water Purification Services': 24, 'Heating & Air Conditioning/HVAC': 334, 'Fish & Chips': 663, 'Vegetarian': 4962, 'Home & Garden': 2224, 'Furniture Stores': 688, 'Home Decor': 898, 'Flowers & Gifts': 1205, 'Gift Shops': 472, 'Chicken Wings': 3836, 'Beer Gardens': 622, 'Diners': 4358, 'Live/Raw Food': 1393, 'Pets': 1442, 'Cheese Shops': 477, 'Health Markets': 993, 'Grocery': 3837, 'Specialty Food': 7742, 'Dive Bars': 1546, 'Fashion': 3030, \"Women's Clothing\": 1105, 'Vietnamese': 3303, 'Boating': 475, 'Rafting/Kayaking': 127, 'Travel Services': 223, 'Auto Detailing': 455, 'Car Wash': 547, 'Bikes': 325, 'Ethnic Food': 1358, 'Event Photography': 92, 'Session Photography': 118, 'Art Schools': 46, 'Photographers': 179, 'Specialty Schools': 503, 'Education': 806, 'Courthouses': 80, 'Landmarks & Historical Buildings': 395, 'Public Services & Government': 697, 'Ticket Sales': 30, 'Professional Sports Teams': 114, 'Stadiums & Arenas': 363, 'Music Venues': 4268, 'Transmission Repair': 167, 'IT Services & Computer Repair': 408, 'Mobile Phones': 384, 'Mobile Phone Repair': 187, 'Local Services': 3909, 'Electronics Repair': 179, 'Telecommunications': 105, 'Asian Fusion': 4660, 'Tapas/Small Plates': 1859, 'Korean': 2127, 'Noodles': 1601, 'Ramen': 854, 'Baseball Fields': 211, 'Karaoke': 596, 'Szechuan': 661, 'Chinese': 6153, 'Food Delivery Services': 1542, 'Chicken Shop': 817, 'German': 2226, 'French': 3651, 'Brasseries': 2306, 'Party & Event Planning': 963, 'Fishing': 156, 'Yelp Events': 23, 'Roofing': 39, 'Vegan': 3042, 'Tapas Bars': 1060, 'Auto Glass Services': 297, 'Transportation': 935, 'Movers': 431, 'Truck Rental': 97, 'Hardware Stores': 353, 'Recycling Center': 71, 'Building Supplies': 376, 'Community Service/Non-Profit': 343, 'Thrift Stores': 449, 'Yoga': 527, 'Pilates': 165, 'Barre Classes': 54, 'Seafood Markets': 674, 'Latin American': 2718, 'Gluten-Free': 2497, 'Barbers': 1029, 'Windshield Installation & Repair': 179, 'Body Shops': 554, 'Real Estate Agents': 94, 'Real Estate': 766, 'Middle Eastern': 1409, 'Cheesesteaks': 1256, 'Tanning': 266, 'Water Heater Installation/Repair': 197, 'Electricians': 133, 'Tex-Mex': 3093, 'Educational Services': 81, 'Doulas': 29, 'Placenta Encapsulations': 5, 'Midwives': 53, 'Lactation Services': 47, 'Car Stereo Installation': 92, 'Windows Installation': 96, 'Professional Services': 991, 'Home Window Tinting': 78, 'Vehicle Wraps': 61, 'Car Window Tinting': 106, 'Graphic Design': 96, 'Chiropractors': 240, 'New Mexican Cuisine': 331, 'Peruvian': 255, 'Appliances': 316, 'Mattresses': 252, 'Appliances & Repair': 190, 'Outlet Stores': 44, 'Shopping Centers': 327, 'Coffee Roasteries': 819, 'Laundry Services': 443, 'Dry Cleaning & Laundry': 444, 'Laundromat': 77, 'Organic Stores': 435, 'Wraps': 599, 'Museums': 1177, 'Cinema': 1114, 'Resorts': 1121, 'Florists': 620, 'Wine Tasting Room': 325, 'Wineries': 785, 'Dermatologists': 45, 'Doctors': 865, 'Cuban': 1111, 'Food Tours': 184, 'Urgent Care': 238, 'Emergency Rooms': 28, 'Motorcycle Rental': 22, 'Hiking': 210, 'Mountain Biking': 29, 'ATV Rentals/Tours': 25, 'RV Rental': 18, 'Reflexology': 197, 'Cosmetics & Beauty Supply': 963, 'Taiwanese': 787, 'Tea Rooms': 268, 'Bubble Tea': 1558, 'Bike Repair/Maintenance': 190, 'Malaysian': 477, 'Cambodian': 625, 'Fruits & Veggies': 358, 'Car Dealers': 1113, 'Registration Services': 22, 'Armenian': 300, 'Permanent Makeup': 81, 'Skin Care': 2004, 'Float Spa': 48, 'Car Rental': 545, 'Carpeting': 116, 'Auto Upholstery': 13, 'Rugs': 67, 'Carpet Cleaning': 146, 'Real Estate Services': 152, 'Tanning Beds': 28, 'Weight Loss Centers': 172, 'Spray Tanning': 134, 'Art Galleries': 1144, 'Art Museums': 241, 'Botanical Gardens': 150, 'Shared Office Spaces': 51, 'Piano Bars': 94, 'Senegalese': 22, 'African': 255, 'Moroccan': 461, 'Sports Clubs': 159, 'Caribbean': 1755, 'Cupcakes': 1093, 'Marketing': 57, 'Funeral Services & Cemeteries': 60, 'Irish Pub': 432, 'Irish': 309, 'Distilleries': 486, 'Teppanyaki': 134, 'Candy Stores': 784, 'Chocolatiers & Shops': 720, 'Bar Crawl': 55, 'Bed & Breakfast': 593, 'Optometrists': 404, 'Accessories': 682, 'Eyewear & Opticians': 406, 'Leisure Centers': 29, 'Bowling': 350, 'Laser Tag': 34, 'Apartments': 384, 'Imported Food': 393, 'Drugstores': 687, 'Pharmacy': 144, 'Family Practice': 129, 'Festivals': 367, 'Wedding Planning': 655, 'Party Bus Rentals': 118, 'Wine Tours': 378, 'Limos': 173, 'Financial Services': 264, 'Mortgage Brokers': 69, 'Banks & Credit Unions': 108, 'Sports Wear': 179, 'Motorcycle Gear': 10, 'Motorsport Vehicle Dealers': 4, 'Motorsport Vehicle Repairs': 3, 'Motorcycle Repair': 44, 'Motorcycle Dealers': 41, 'Meat Shops': 846, 'Butcher': 586, 'Tobacco Shops': 314, 'Vape Shops': 146, 'Cosmetology Schools': 97, 'Used Car Dealers': 211, 'Waffles': 227, 'British': 294, 'Pet Stores': 526, 'Bird Shops': 6, 'Gay Bars': 141, 'Dance Clubs': 815, 'Wheel & Rim Repair': 136, \"Men's Hair Salons\": 415, 'Security Systems': 143, 'Internet Service Providers': 228, 'Television Service Providers': 140, 'Bespoke Clothing': 45, \"Men's Clothing\": 730, 'Embroidery & Crochet': 30, 'Sewing & Alterations': 424, 'Arts & Crafts': 772, 'Food Trucks': 1359, 'Gunsmith': 79, 'Keys & Locksmiths': 213, 'Safe Stores': 66, 'Falafel': 441, 'Food Stands': 836, 'Kitchen & Bath': 123, 'Service Stations': 10, 'Ophthalmologists': 114, 'Laser Eye Surgery/Lasik': 65, 'Acai Bowls': 638, 'Kosher': 142, 'Religious Organizations': 39, 'Photography Stores & Services': 143, 'Tattoo': 342, 'Creperies': 378, 'Gelato': 611, 'Dog Parks': 148, 'Soul Food': 1303, 'Custom Cakes': 297, 'Computers': 142, 'Electronics': 694, 'Modern European': 512, 'Salvadoran': 159, 'Cooking Schools': 124, 'Department Stores': 874, 'Puerto Rican': 201, 'Oral Surgeons': 146, 'General Dentistry': 400, 'Endodontists': 132, 'Dentists': 465, 'Cosmetic Dentists': 345, 'Periodontists': 63, 'Zoos': 35, 'Aquariums': 15, 'Amusement Parks': 342, 'Auto Loan Providers': 67, 'Appraisal Services': 15, 'Hobby Shops': 225, 'Art Supplies': 181, 'Jewelry Repair': 91, 'Pet Groomers': 666, 'Pet Sitting': 448, 'Pet Boarding': 90, 'Pet Services': 1037, 'Boat Charters': 345, 'Boat Tours': 534, 'Watch Repair': 119, 'Watches': 103, 'Boot Camps': 196, 'Martial Arts': 66, 'Nutritionists': 83, 'Shipping Centers': 186, 'Notaries': 119, 'Printing Services': 249, 'Mailbox Centers': 62, 'Guns & Ammo': 143, 'Nail Technicians': 113, 'Trophy Shops': 12, 'Hair Stylists': 701, 'Social Clubs': 81, 'Street Vendors': 493, 'Archery': 64, 'Recreation Centers': 101, 'Hunting & Fishing Supplies': 95, 'Flooring': 132, 'RV Dealers': 31, 'RV Repair': 14, 'Matchmakers': 2, 'Life Coach': 20, 'Paint Stores': 14, 'Personal Chefs': 334, 'Hospitals': 185, 'Pet Training': 293, 'Office Equipment': 102, 'Farmers Market': 548, 'Beer Tours': 334, 'Post Offices': 77, 'Vitamins & Supplements': 50, 'Used': 582, 'Vintage & Consignment': 582, 'Antiques': 234, 'Books': 524, 'Mags': 524, 'Music & Video': 524, 'Videos & Video Game Rental': 76, 'Bus Tours': 312, 'Historical Tours': 506, 'Veterinarians': 532, 'Public Transportation': 214, 'Eyelash Service': 906, 'Boat Repair': 49, 'Piercing': 243, 'Herbs & Spices': 171, 'Basque': 142, 'Spanish': 668, 'Health Retreats': 35, 'Home Organization': 68, 'Office Cleaning': 97, 'Handyman': 110, 'Home Cleaning': 316, 'Patisserie/Cake Shop': 461, 'Pasta Shops': 472, 'Meaderies': 8, 'Parking': 33, 'Self Storage': 271, 'Generator Installation/Repair': 25, 'Tiki Bars': 320, 'Turkish': 230, 'Laotian': 294, 'Medical Centers': 301, 'Counseling & Mental Health': 22, 'Kombucha': 76, 'Cideries': 134, 'Pool Halls': 241, 'Pop-Up Restaurants': 130, 'Guest Houses': 113, 'Pediatricians': 80, 'Adult Entertainment': 160, 'Eatertainment': 97, 'Arcades': 415, 'Pop-up Shops': 41, 'Walk-in Clinics': 39, 'Interval Training Gyms': 77, 'Cantonese': 291, 'Dim Sum': 331, 'Bridal': 420, 'Bike Rentals': 216, 'Couriers & Delivery Services': 67, 'Canadian (New)': 378, 'Cards & Stationery': 115, 'Laser Hair Removal': 283, 'Medical Spas': 464, 'Knitting Supplies': 66, 'Shaved Ice': 362, 'Damage Restoration': 73, 'Tree Services': 64, 'Hookah Bars': 269, 'Kitchen Supplies': 9, 'Coffeeshops': 36, 'Delicatessen': 13, 'Shoe Stores': 364, 'Pediatric Dentists': 87, \"Children's Clothing\": 189, 'Adult': 44, 'Prosthodontists': 12, 'Child Care & Day Care': 56, 'Ethiopian': 313, 'Empanadas': 190, 'Sunglasses': 23, 'Nurseries & Gardening': 363, 'Dry Cleaning': 164, 'Music & DVDs': 133, 'Video Game Stores': 47, 'Discount Store': 232, 'Formal Wear': 137, 'Bookstores': 284, 'Used Bookstore': 148, 'Adult Education': 90, 'Cultural Center': 99, 'Kebab': 234, 'Lebanese': 179, 'Toy Stores': 181, \"Children's Museums\": 227, 'Trinidadian': 55, 'Costumes': 115, 'Spiritual Shop': 165, 'Souvenir Shops': 115, 'Bartenders': 62, 'Gold Buyers': 69, 'Pet Adoption': 62, 'Pet Hospice': 16, 'Speakeasies': 47, 'Haunted Houses': 95, 'Kids Activities': 190, 'Lice Services': 8, 'Circuit Training Gyms': 12, 'Perfume': 97, 'Personal Shopping': 52, 'Pickleball': 61, 'Swimming Pools': 173, 'Fireworks': 5, 'Water Parks': 81, 'Ski Resorts': 7, 'Door Sales/Installation': 78, 'Garage Door Services': 50, 'Fabric Stores': 52, 'Video/Film Production': 38, 'Videographers': 35, 'Popcorn Shops': 23, 'Smokehouse': 174, 'Fondue': 12, 'Rehabilitation Center': 39, 'Filipino': 98, 'Mongolian': 75, 'Cooking Classes': 78, 'Teeth Whitening': 35, 'Argentine': 24, 'Traditional Chinese Medicine': 80, 'Acupuncture': 148, 'Airports': 41, 'Airlines': 21, 'Persian/Iranian': 32, 'Naturopathic/Holistic': 97, 'Air Duct Cleaning': 121, 'Campgrounds': 85, 'RV Parks': 80, 'Polish': 25, 'Hostels': 40, 'Honey': 3, 'Accountants': 28, 'Livestock Feed & Supply': 7, 'Utilities': 27, 'Home Theatre Installation': 63, 'Psychics': 86, 'Framing': 83, 'Nanny Services': 4, 'Golf Lessons': 31, 'Golf Equipment': 25, 'Auto Customization': 68, 'Wholesale Stores': 184, 'Property Management': 116, 'Baby Gear & Furniture': 130, 'Coffee & Tea Supplies': 3, 'Afghan': 149, 'Pan Asian': 168, 'Lighting Fixtures & Equipment': 39, 'Paddleboarding': 38, 'Cardio Classes': 59, 'Floral Designers': 76, 'Jet Skis': 34, 'Burmese': 46, 'Musicians': 92, 'Mobile Phone Accessories': 122, 'Escape Games': 86, 'Playgrounds': 120, 'Donairs': 27, 'Tennis': 49, 'Skating Rinks': 28, 'Dominican': 148, 'Firearm Training': 8, 'Allergists': 10, 'Pulmonologist': 2, 'Libraries': 26, 'Insulation Installation': 47, 'Pest Control': 77, 'Tax Services': 20, 'Bookkeepers': 6, 'Business Consulting': 2, 'Financial Advising': 32, 'Amateur Sports Teams': 47, 'Saunas': 28, 'Junk Removal & Hauling': 127, 'Shoe Repair': 128, 'Food Court': 40, 'Party Supplies': 146, 'Gun/Rifle Ranges': 124, 'University Housing': 37, 'Siding': 14, 'Masonry/Concrete': 38, 'Stonemasons': 1, 'Stucco Services': 9, 'Lawyers': 41, 'Divorce & Family Law': 3, 'DUI Law': 19, 'Criminal Defense Law': 20, 'Personal Injury Law': 7, 'Legal Services': 11, 'Hair Loss Centers': 9, 'Airport Shuttles': 134, 'Taxis': 151, 'Races & Competitions': 1, 'Glass & Mirrors': 56, 'Metal Fabricators': 8, 'Train Stations': 161, 'Swimming Lessons/Schools': 27, 'Mass Media': 33, 'Radio Stations': 20, 'Nephrologists': 5, 'Orthopedists': 28, 'Sardinian': 37, 'Calabrian': 31, 'Indonesian': 85, 'Art Classes': 120, 'Packing Services': 106, 'Cabinetry': 8, 'Interior Design': 121, 'Towing': 194, 'Home Staging': 12, 'Propane': 78, 'Packing Supplies': 82, 'Paint-Your-Own Pottery': 16, 'Brazilian Jiu-jitsu': 28, 'Kickboxing': 38, 'Boxing': 70, 'Obstetricians & Gynecologists': 74, 'Colleges & Universities': 44, 'Cardiologists': 12, 'Laboratory Testing': 34, 'Diagnostic Services': 66, 'Indoor Playcentre': 45, 'Lingerie': 44, 'Swimwear': 43, 'Do-It-Yourself Food': 190, 'Hot Pot': 143, 'Orthodontists': 152, 'Kitchen Incubators': 37, 'Pressure Washers': 30, 'Grout Services': 19, 'Window Washing': 42, 'Plus Size Fashion': 55, 'Head Shops': 73, 'Cafeteria': 47, 'Maternity Wear': 41, 'Dog Walkers': 74, 'Singaporean': 43, 'Brazilian': 48, 'Tiling': 22, 'Animal Shelters': 63, 'Massage Schools': 14, 'Childbirth Education': 50, 'Parenting Classes': 38, 'Race Tracks': 15, 'Preschools': 45, 'Landscaping': 126, 'Lawn Services': 19, 'Internal Medicine': 60, 'Wigs': 83, 'Beverage Store': 45, 'Web Design': 39, 'Brewing Supplies': 28, 'Disc Golf': 26, 'Uniforms': 25, 'Ski & Snowboard Shops': 10, 'Screen Printing/T-Shirt Printing': 29, 'Irrigation': 15, 'Private Investigation': 13, 'Comic Books': 32, 'Signmaking': 77, 'Elementary Schools': 24, 'Go Karts': 32, 'Party Equipment Rentals': 58, 'Vinyl Records': 103, 'Leather Goods': 43, 'Town Car Service': 10, 'Sports Medicine': 93, 'Advertising': 17, 'Investing': 13, 'Dance Studios': 43, 'Auction Houses': 23, 'Roadside Assistance': 45, 'Donation Center': 26, 'Churches': 16, 'Meditation Centers': 34, 'Russian': 52, 'Drive-Thru Bars': 13, 'Mini Golf': 49, 'Buses': 30, 'Bus Rental': 27, 'Climbing': 57, 'Cannabis Dispensaries': 13, 'Cosmetic Surgeons': 26, 'Sleep Specialists': 7, 'Pool & Billiards': 31, 'Venezuelan': 59, 'Czech': 72, 'Himalayan/Nepalese': 67, 'CPR Classes': 24, 'Prenatal/Perinatal Care': 41, 'Pool & Hot Tub Service': 36, 'Hot Tub & Pool': 35, 'Pool Cleaners': 45, 'Public Art': 8, 'Emergency Pet Hospital': 60, 'Beaches': 105, 'Paint & Sip': 78, 'Candle Stores': 20, 'Chimney Sweeps': 16, 'Tutoring Centers': 14, 'Fences & Gates': 33, 'Departments of Motor Vehicles': 38, 'Flight Instruction': 3, 'Furniture Reupholstery': 6, 'Furniture Repair': 14, 'Private Tutors': 19, 'House Sitters': 6, 'Pet Transportation': 5, 'Retirement Homes': 10, 'Assisted Living Facilities': 4, 'Mobile Dent Repair': 9, 'Home Inspectors': 43, 'Test Preparation': 2, 'Tabletop Games': 21, 'Carpet Installation': 70, 'Musical Instruments & Teachers': 75, 'Colonics': 19, 'Reproductive Health Services': 26, 'Machine & Tool Rental': 4, 'Trailer Rental': 6, 'Arabic': 10, 'Shades & Blinds': 80, 'Halotherapy': 15, 'Sugaring': 29, 'Dive Shops': 15, 'Diving': 77, 'Scuba Diving': 20, 'Free Diving': 4, 'Fingerprinting': 2, 'Wedding Chapels': 3, 'Tui Na': 9, 'Fertility': 9, 'Basketball Courts': 7, 'International': 15, 'Pain Management': 13, 'Ukrainian': 21, 'Data Recovery': 27, 'Mobile Home Repair': 19, 'Painters': 19, 'Decks & Railing': 10, 'Landscape Architects': 58, 'Valet Services': 12, 'Parent Cafes': 37, 'Powder Coating': 5, 'Fitness/Exercise Equipment': 20, 'Holiday Decorations': 16, 'Screen Printing': 70, 'Batting Cages': 12, 'Country Clubs': 39, 'Refinishing Services': 6, 'Pole Dancing Classes': 16, 'Insurance': 61, 'Gardeners': 25, 'Reiki': 55, 'Themed Cafes': 38, 'Personal Assistants': 22, 'Haitian': 4, 'Bike Sharing': 6, 'Military Surplus': 7, 'Henna Artists': 7, 'Shanghainese': 38, 'Clothing Rental': 26, 'Team Building Activities': 44, 'Scavenger Hunts': 4, 'Print Media': 9, 'International Grocery': 105, 'Employment Agencies': 4, 'Dance Schools': 14, 'Aquarium Services': 25, 'Art Restoration': 3, 'Austrian': 35, 'Hats': 17, 'Guitar Stores': 35, 'Musical Instrument Services': 68, 'Auto Security': 29, 'Engraving': 17, 'Summer Camps': 68, 'Rock Climbing': 24, 'DJs': 54, 'Mortgage Lenders': 30, 'Pretzels': 29, 'Flea Markets': 23, 'High Fidelity Audio Equipment': 5, 'Home Automation': 4, 'Home Network Installation': 13, 'Diagnostic Imaging': 39, 'Day Camps': 26, 'Trains': 2, 'Tubing': 14, 'Pet Photography': 13, 'Photo Booth Rentals': 6, 'Vocational & Technical School': 15, 'Septic Services': 49, 'Gutter Services': 18, 'Fireplace Services': 15, 'Customized Merchandise': 20, 'Medical Supplies': 35, 'Photography Classes': 4, 'Special Education': 12, 'Battery Stores': 2, 'Rest Stops': 6, 'Strip Clubs': 15, 'Champagne Bars': 18, 'Striptease Dancers': 15, 'Outdoor Furniture Stores': 13, 'Public Relations': 12, 'Wholesalers': 19, 'Commercial Truck Dealers': 26, 'Wildlife Control': 7, 'Software Development': 3, 'Ethnic Grocery': 13, 'Aerial Fitness': 11, 'Cabaret': 11, 'Challenge Courses': 29, 'TV Mounting': 31, 'Piano Services': 29, 'Boudoir Photography': 4, 'Axe Throwing': 15, 'Virtual Reality Centers': 11, 'Snow Removal': 34, 'Threading Services': 24, 'Skate Shops': 14, 'Astrologers': 62, 'Psychic Mediums': 5, 'Pumpkin Patches': 6, 'Farms': 11, 'Pick Your Own Farms': 6, 'Orthotics': 5, 'Carpenters': 12, 'Drywall Installation & Repair': 5, 'Demolition Services': 3, 'Gemstones & Minerals': 65, 'Farming Equipment': 5, 'Trailer Dealers': 6, 'Environmental Abatement': 2, 'Hydroponics': 3, 'Junkyards': 5, 'Crane Services': 6, 'Pawn Shops': 9, 'Alternative Medicine': 3, 'Waldorf Schools': 4, 'Private Schools': 3, 'Middle Schools & High Schools': 10, 'Community Centers': 2, 'Gymnastics': 11, 'Trampoline Parks': 30, 'Golf Equipment Shops': 1, 'Lighting Stores': 4, 'Car Buyers': 25, 'Water Delivery': 20, 'Plastic Surgeons': 2, 'Tuscan': 3, 'Nurse Practitioner': 2, 'Sicilian': 4, 'Acne Treatment': 3, 'Solar Installation': 28, 'Vacation Rentals': 24, 'Shoe Shine': 44, 'Commercial Real Estate': 13, 'Petting Zoos': 9, 'Skate Parks': 5, 'Urologists': 7, 'Shaved Snow': 11, 'Olive Oil': 16, 'Airport Lounges': 19, 'Beach Equipment Rentals': 13, 'Surf Schools': 18, 'Surf Shop': 22, 'Hypnosis/Hypnotherapy': 10, 'Hospice': 4, 'Architectural Tours': 3, 'Spine Surgeons': 3, 'Ayurveda': 1, 'Emergency Medicine': 2, 'Balloon Services': 5, 'Karate': 2, 'Waterproofing': 14, 'Observatories': 3, 'Environmental Testing': 20, 'Auto Insurance': 30, 'Home & Rental Insurance': 12, 'Home Health Care': 3, 'Ear Nose & Throat': 9, 'Religious Items': 4, 'Soccer': 15, 'Furniture Assembly': 11, 'Surfing': 12, 'Dance Wear': 10, 'Bicycle Paths': 4, 'Occupational Therapy': 5, 'Car Share Services': 7, 'Driving Schools': 4, 'Hydrotherapy': 2, 'Reptile Shops': 7, 'Osteopathic Physicians': 7, 'Restaurant Supplies': 1, 'Blood & Plasma Donation Centers': 3, 'Shutters': 6, 'Kids Hair Salons': 11, 'Surgeons': 8, 'Tattoo Removal': 4, 'Drive-In Theater': 27, 'Psychologists': 1, 'Psychiatrists': 4, 'Local Fish Stores': 1, 'Gastroenterologist': 6, 'Payroll Services': 4, 'Hearing Aid Providers': 5, 'Audiologist': 4, 'Life Insurance': 12, 'Podiatrists': 10, 'Security Services': 12, 'Bike Repair': 7, 'Bicycles': 7, 'Traffic Ticketing Law': 5, 'General Litigation': 6, 'Real Estate Photography': 3, 'Title Loans': 3, 'Snorkeling': 2, 'Piano Stores': 2, 'Firewood': 4, 'Condominiums': 14, 'Scooter Rentals': 2, 'Addiction Medicine': 3, 'Car Inspectors': 8, 'Wallpapering': 4, 'Horseback Riding': 14, 'Cigar Bars': 6, 'Structural Engineers': 3, 'Countertop Installation': 4, 'Parasailing': 2, 'Dental Hygienists': 4, 'Radiologists': 7, 'Squash': 2, 'Motorcycle Parts & Supplies': 6, 'Digitizing Services': 2, 'Passport & Visa Services': 5, 'Flowers': 3, 'Herbal Shops': 8, 'Water Stores': 6, 'Christmas Trees': 5, 'Dumpster Rental': 3, 'Props': 2, 'Paintball': 3, 'Airsoft': 1, 'Officiants': 6, 'Television Stations': 1, 'Employment Law': 2, 'Workers Compensation Law': 1, 'Luggage': 7, 'Medical Transportation': 1, 'Macarons': 10, 'Bounce House Rentals': 4, 'Ethical Grocery': 2, 'Nursing Schools': 1, 'Bartending Schools': 3, 'Knife Sharpening': 2, 'Ultrasound Imaging Centers': 9, 'Recording & Rehearsal Studios': 2, 'Badminton': 2, 'Fire Protection Services': 2, 'Mobility Equipment Sales & Services': 5, 'Body Contouring': 2, 'Trailer Repair': 1, 'Marinas': 2, 'Car Brokers': 2, 'Oriental': 2, 'Aerial Tours': 1, 'Self-defense Classes': 2, 'Muay Thai': 2, 'Health Insurance Offices': 1, 'Business Financing': 1, 'Billing Services': 2, 'Bankruptcy Law': 2, 'Colombian': 3, 'Pet Waste Removal': 3, 'Newspapers & Magazines': 3, 'Poutineries': 2, 'Tenant and Eviction Law': 1, 'Estate Planning Law': 2, 'Real Estate Law': 2, 'Neurologist': 1, 'Glass Blowing': 3, 'Career Counseling': 1, 'Home Energy Auditors': 2, 'Horse Equipment Shops': 1, 'Machine Shops': 1, 'Excavation Services': 4, 'Honduran': 1, 'Hydro-jetting': 1, 'Police Departments': 1, 'Foundation Repair': 1, 'Lakes': 1, 'Vacation Rental Agents': 1, 'Chinese Martial Arts': 1, 'Art Space Rentals': 1, 'Immunodermatologists': 1, 'Business Law': 1, 'Wills': 1, 'Trusts': 1, '& Probates': 1, 'Travel Agents': 1, 'Translation Services': 1, 'Traffic Schools': 1, 'Aestheticians': 1, 'Health Coach': 1, 'Trivia Hosts': 1, 'Cannabis Clinics': 1}\n"
     ]
    }
   ],
   "source": [
    "frequency = {}\n",
    "for item in categories_list:\n",
    "   if item in frequency:\n",
    "      frequency[item] += 1\n",
    "   else:\n",
    "      frequency[item] = 1\n",
    "\n",
    "print(frequency)"
   ],
   "metadata": {
    "collapsed": false,
    "ExecuteTime": {
     "end_time": "2024-11-22T09:06:17.594655200Z",
     "start_time": "2024-11-22T09:06:17.337663400Z"
    }
   },
   "id": "da87cfc7d73e30bd"
  },
  {
   "cell_type": "code",
   "execution_count": 10,
   "outputs": [
    {
     "data": {
      "text/plain": "20"
     },
     "execution_count": 10,
     "metadata": {},
     "output_type": "execute_result"
    }
   ],
   "source": [
    "freq_list = {k: v for k, v in frequency.items() if v > 10000}\n",
    "len(freq_list)"
   ],
   "metadata": {
    "collapsed": false,
    "ExecuteTime": {
     "end_time": "2024-11-22T09:06:17.594655200Z",
     "start_time": "2024-11-22T09:06:17.559691700Z"
    }
   },
   "id": "8f5caab04d2bc874"
  },
  {
   "cell_type": "code",
   "execution_count": 11,
   "outputs": [],
   "source": [
    "keep_cat = list(freq_list.keys())"
   ],
   "metadata": {
    "collapsed": false,
    "ExecuteTime": {
     "end_time": "2024-11-22T09:06:17.633287800Z",
     "start_time": "2024-11-22T09:06:17.570377200Z"
    }
   },
   "id": "2918021123757a38"
  },
  {
   "cell_type": "code",
   "execution_count": 12,
   "outputs": [
    {
     "data": {
      "text/plain": "                     review_id                 user_id  \\\n0       KU_O5udG6zpxOg-VcAEodg  mh_-eMZ6K5RLWhZyISBhwA   \n1       BiTunyQ73aT9WBnpR9DZGw  OyoGAe7OKpv6SyGZT5g77Q   \n2       saUsX_uimxRlCVr67Z4Jig  8g_iMtfSiwikVnbP2etR0A   \n3       AqPFMleE6RsU23_auESxiA  _7bHUi9Uuf5__HHc_Q8guQ   \n4       Sx8TMOWLNuJBWer-0pcmoA  bcjbaE6dDog4jkNY91ncLQ   \n...                        ...                     ...   \n199995  nRYJWQ6YVjcrZCEU_JWrIQ  uakTslg3Ay3C0816-5yNdQ   \n199996  4ylitTY7GmonnQDqhjB-eg  _fMw99otXOCu-Kzc-loMZA   \n199997  MnwNSr5h_t1uIlcj3aI_5w  ZfG1T_noQnbOdXnz4USs0Q   \n199998  3fp0uXGAjIqgza02_ObF5w  I0MMq4iYjDjERnSjp76HDw   \n199999  cSlJEcygfh-57otb6dF3Lg  sokS5Ml2QyKjOwO56pS9Jw   \n\n                   business_id  stars_x  useful  funny  cool  \\\n0       XQfwVwDr-v0ZS3_CbbE5Xw      3.0       0      0     0   \n1       7ATYjTIgM3jUlt4UM3IypQ      5.0       1      0     1   \n2       YjUWPpI6HXG530lwP-fb2A      3.0       0      0     0   \n3       kxX2SOes4o-D3ZQBkiMRfA      5.0       1      0     1   \n4       e4Vwtrqf-wpJfwesgvdgxQ      4.0       1      0     1   \n...                        ...      ...     ...    ...   ...   \n199995  idf-eiurCrbsLRcH7c9zmw      5.0       0      0     0   \n199996  v72HalBu5fQIFTD-oqhSgQ      5.0       0      0     0   \n199997  cvHY1RTAPSoH94ysP2_eyQ      5.0       1      1     1   \n199998  cBp1fn2LXpSHe4VbTXLYEw      5.0       0      0     1   \n199999  oBhJuukGRqPVvYBfTkhuZA      5.0       0      0     0   \n\n                                                     text  \\\n0       If you decide to eat here, just be aware it is...   \n1       I've taken a lot of spin classes over the year...   \n2       Family diner. Had the buffet. Eclectic assortm...   \n3       Wow!  Yummy, different,  delicious.   Our favo...   \n4       Cute interior and owner (?) gave us tour of up...   \n...                                                   ...   \n199995  Oakley's Bistro is a hidden gem for Indianapol...   \n199996  Let me just say, I'm glad my husband and I dec...   \n199997  I was coming back from the Farmers market toda...   \n199998  Absolutely perfect meal for me. The food is cl...   \n199999  Braised beef Short Rib! Asparagus on the side....   \n\n                       date                          name  ...  \\\n0       2018-07-07 22:09:11  Turning Point of North Wales  ...   \n1       2012-01-03 15:28:18    Body Cycle Spinning Studio  ...   \n2       2014-02-05 20:30:30             Kettle Restaurant  ...   \n3       2015-01-04 00:01:03                         Zaika  ...   \n4       2017-01-14 20:54:15                          Melt  ...   \n...                     ...                           ...  ...   \n199995  2012-10-16 17:45:43                Oakleys Bistro  ...   \n199996  2016-08-18 00:23:31                1200 Chophouse  ...   \n199997  2014-06-21 17:12:53   The Turnip Truck Urban Fare  ...   \n199998  2017-09-06 17:54:23               Bab Café - Reno  ...   \n199999  2015-06-16 01:51:18                   Square 1682  ...   \n\n       Hotels & Travel Arts & Entertainment Burgers Shopping  Cafes  Pizza  \\\n0                    0                    0       0        0      0      0   \n1                    0                    0       0        0      0      0   \n2                    0                    0       0        0      0      0   \n3                    0                    0       0        0      0      0   \n4                    0                    0       0        0      0      0   \n...                ...                  ...     ...      ...    ...    ...   \n199995               0                    0       0        0      0      0   \n199996               0                    0       0        0      0      0   \n199997               0                    0       0        0      0      0   \n199998               0                    0       0        0      1      0   \n199999               0                    0       0        0      0      0   \n\n        Cocktail Bars  Italian  Mexican Event Planning & Services  \n0                   0        0        0                         0  \n1                   0        0        0                         0  \n2                   0        0        0                         0  \n3                   0        0        0                         0  \n4                   0        0        0                         0  \n...               ...      ...      ...                       ...  \n199995              1        0        0                         0  \n199996              0        0        0                         0  \n199997              0        0        0                         0  \n199998              0        0        0                         0  \n199999              0        0        0                         0  \n\n[200000 rows x 42 columns]",
      "text/html": "<div>\n<style scoped>\n    .dataframe tbody tr th:only-of-type {\n        vertical-align: middle;\n    }\n\n    .dataframe tbody tr th {\n        vertical-align: top;\n    }\n\n    .dataframe thead th {\n        text-align: right;\n    }\n</style>\n<table border=\"1\" class=\"dataframe\">\n  <thead>\n    <tr style=\"text-align: right;\">\n      <th></th>\n      <th>review_id</th>\n      <th>user_id</th>\n      <th>business_id</th>\n      <th>stars_x</th>\n      <th>useful</th>\n      <th>funny</th>\n      <th>cool</th>\n      <th>text</th>\n      <th>date</th>\n      <th>name</th>\n      <th>...</th>\n      <th>Hotels &amp; Travel</th>\n      <th>Arts &amp; Entertainment</th>\n      <th>Burgers</th>\n      <th>Shopping</th>\n      <th>Cafes</th>\n      <th>Pizza</th>\n      <th>Cocktail Bars</th>\n      <th>Italian</th>\n      <th>Mexican</th>\n      <th>Event Planning &amp; Services</th>\n    </tr>\n  </thead>\n  <tbody>\n    <tr>\n      <th>0</th>\n      <td>KU_O5udG6zpxOg-VcAEodg</td>\n      <td>mh_-eMZ6K5RLWhZyISBhwA</td>\n      <td>XQfwVwDr-v0ZS3_CbbE5Xw</td>\n      <td>3.0</td>\n      <td>0</td>\n      <td>0</td>\n      <td>0</td>\n      <td>If you decide to eat here, just be aware it is...</td>\n      <td>2018-07-07 22:09:11</td>\n      <td>Turning Point of North Wales</td>\n      <td>...</td>\n      <td>0</td>\n      <td>0</td>\n      <td>0</td>\n      <td>0</td>\n      <td>0</td>\n      <td>0</td>\n      <td>0</td>\n      <td>0</td>\n      <td>0</td>\n      <td>0</td>\n    </tr>\n    <tr>\n      <th>1</th>\n      <td>BiTunyQ73aT9WBnpR9DZGw</td>\n      <td>OyoGAe7OKpv6SyGZT5g77Q</td>\n      <td>7ATYjTIgM3jUlt4UM3IypQ</td>\n      <td>5.0</td>\n      <td>1</td>\n      <td>0</td>\n      <td>1</td>\n      <td>I've taken a lot of spin classes over the year...</td>\n      <td>2012-01-03 15:28:18</td>\n      <td>Body Cycle Spinning Studio</td>\n      <td>...</td>\n      <td>0</td>\n      <td>0</td>\n      <td>0</td>\n      <td>0</td>\n      <td>0</td>\n      <td>0</td>\n      <td>0</td>\n      <td>0</td>\n      <td>0</td>\n      <td>0</td>\n    </tr>\n    <tr>\n      <th>2</th>\n      <td>saUsX_uimxRlCVr67Z4Jig</td>\n      <td>8g_iMtfSiwikVnbP2etR0A</td>\n      <td>YjUWPpI6HXG530lwP-fb2A</td>\n      <td>3.0</td>\n      <td>0</td>\n      <td>0</td>\n      <td>0</td>\n      <td>Family diner. Had the buffet. Eclectic assortm...</td>\n      <td>2014-02-05 20:30:30</td>\n      <td>Kettle Restaurant</td>\n      <td>...</td>\n      <td>0</td>\n      <td>0</td>\n      <td>0</td>\n      <td>0</td>\n      <td>0</td>\n      <td>0</td>\n      <td>0</td>\n      <td>0</td>\n      <td>0</td>\n      <td>0</td>\n    </tr>\n    <tr>\n      <th>3</th>\n      <td>AqPFMleE6RsU23_auESxiA</td>\n      <td>_7bHUi9Uuf5__HHc_Q8guQ</td>\n      <td>kxX2SOes4o-D3ZQBkiMRfA</td>\n      <td>5.0</td>\n      <td>1</td>\n      <td>0</td>\n      <td>1</td>\n      <td>Wow!  Yummy, different,  delicious.   Our favo...</td>\n      <td>2015-01-04 00:01:03</td>\n      <td>Zaika</td>\n      <td>...</td>\n      <td>0</td>\n      <td>0</td>\n      <td>0</td>\n      <td>0</td>\n      <td>0</td>\n      <td>0</td>\n      <td>0</td>\n      <td>0</td>\n      <td>0</td>\n      <td>0</td>\n    </tr>\n    <tr>\n      <th>4</th>\n      <td>Sx8TMOWLNuJBWer-0pcmoA</td>\n      <td>bcjbaE6dDog4jkNY91ncLQ</td>\n      <td>e4Vwtrqf-wpJfwesgvdgxQ</td>\n      <td>4.0</td>\n      <td>1</td>\n      <td>0</td>\n      <td>1</td>\n      <td>Cute interior and owner (?) gave us tour of up...</td>\n      <td>2017-01-14 20:54:15</td>\n      <td>Melt</td>\n      <td>...</td>\n      <td>0</td>\n      <td>0</td>\n      <td>0</td>\n      <td>0</td>\n      <td>0</td>\n      <td>0</td>\n      <td>0</td>\n      <td>0</td>\n      <td>0</td>\n      <td>0</td>\n    </tr>\n    <tr>\n      <th>...</th>\n      <td>...</td>\n      <td>...</td>\n      <td>...</td>\n      <td>...</td>\n      <td>...</td>\n      <td>...</td>\n      <td>...</td>\n      <td>...</td>\n      <td>...</td>\n      <td>...</td>\n      <td>...</td>\n      <td>...</td>\n      <td>...</td>\n      <td>...</td>\n      <td>...</td>\n      <td>...</td>\n      <td>...</td>\n      <td>...</td>\n      <td>...</td>\n      <td>...</td>\n      <td>...</td>\n    </tr>\n    <tr>\n      <th>199995</th>\n      <td>nRYJWQ6YVjcrZCEU_JWrIQ</td>\n      <td>uakTslg3Ay3C0816-5yNdQ</td>\n      <td>idf-eiurCrbsLRcH7c9zmw</td>\n      <td>5.0</td>\n      <td>0</td>\n      <td>0</td>\n      <td>0</td>\n      <td>Oakley's Bistro is a hidden gem for Indianapol...</td>\n      <td>2012-10-16 17:45:43</td>\n      <td>Oakleys Bistro</td>\n      <td>...</td>\n      <td>0</td>\n      <td>0</td>\n      <td>0</td>\n      <td>0</td>\n      <td>0</td>\n      <td>0</td>\n      <td>1</td>\n      <td>0</td>\n      <td>0</td>\n      <td>0</td>\n    </tr>\n    <tr>\n      <th>199996</th>\n      <td>4ylitTY7GmonnQDqhjB-eg</td>\n      <td>_fMw99otXOCu-Kzc-loMZA</td>\n      <td>v72HalBu5fQIFTD-oqhSgQ</td>\n      <td>5.0</td>\n      <td>0</td>\n      <td>0</td>\n      <td>0</td>\n      <td>Let me just say, I'm glad my husband and I dec...</td>\n      <td>2016-08-18 00:23:31</td>\n      <td>1200 Chophouse</td>\n      <td>...</td>\n      <td>0</td>\n      <td>0</td>\n      <td>0</td>\n      <td>0</td>\n      <td>0</td>\n      <td>0</td>\n      <td>0</td>\n      <td>0</td>\n      <td>0</td>\n      <td>0</td>\n    </tr>\n    <tr>\n      <th>199997</th>\n      <td>MnwNSr5h_t1uIlcj3aI_5w</td>\n      <td>ZfG1T_noQnbOdXnz4USs0Q</td>\n      <td>cvHY1RTAPSoH94ysP2_eyQ</td>\n      <td>5.0</td>\n      <td>1</td>\n      <td>1</td>\n      <td>1</td>\n      <td>I was coming back from the Farmers market toda...</td>\n      <td>2014-06-21 17:12:53</td>\n      <td>The Turnip Truck Urban Fare</td>\n      <td>...</td>\n      <td>0</td>\n      <td>0</td>\n      <td>0</td>\n      <td>0</td>\n      <td>0</td>\n      <td>0</td>\n      <td>0</td>\n      <td>0</td>\n      <td>0</td>\n      <td>0</td>\n    </tr>\n    <tr>\n      <th>199998</th>\n      <td>3fp0uXGAjIqgza02_ObF5w</td>\n      <td>I0MMq4iYjDjERnSjp76HDw</td>\n      <td>cBp1fn2LXpSHe4VbTXLYEw</td>\n      <td>5.0</td>\n      <td>0</td>\n      <td>0</td>\n      <td>1</td>\n      <td>Absolutely perfect meal for me. The food is cl...</td>\n      <td>2017-09-06 17:54:23</td>\n      <td>Bab Café - Reno</td>\n      <td>...</td>\n      <td>0</td>\n      <td>0</td>\n      <td>0</td>\n      <td>0</td>\n      <td>1</td>\n      <td>0</td>\n      <td>0</td>\n      <td>0</td>\n      <td>0</td>\n      <td>0</td>\n    </tr>\n    <tr>\n      <th>199999</th>\n      <td>cSlJEcygfh-57otb6dF3Lg</td>\n      <td>sokS5Ml2QyKjOwO56pS9Jw</td>\n      <td>oBhJuukGRqPVvYBfTkhuZA</td>\n      <td>5.0</td>\n      <td>0</td>\n      <td>0</td>\n      <td>0</td>\n      <td>Braised beef Short Rib! Asparagus on the side....</td>\n      <td>2015-06-16 01:51:18</td>\n      <td>Square 1682</td>\n      <td>...</td>\n      <td>0</td>\n      <td>0</td>\n      <td>0</td>\n      <td>0</td>\n      <td>0</td>\n      <td>0</td>\n      <td>0</td>\n      <td>0</td>\n      <td>0</td>\n      <td>0</td>\n    </tr>\n  </tbody>\n</table>\n<p>200000 rows × 42 columns</p>\n</div>"
     },
     "execution_count": 12,
     "metadata": {},
     "output_type": "execute_result"
    }
   ],
   "source": [
    "categories_dummies = df_merged['categories'].str.get_dummies(sep=', ')\n",
    "categories_dummies = categories_dummies[keep_cat]\n",
    "df_binarized = pd.concat([df_merged, categories_dummies], axis=1)\n",
    "df_binarized"
   ],
   "metadata": {
    "collapsed": false,
    "ExecuteTime": {
     "end_time": "2024-11-22T09:07:35.390218200Z",
     "start_time": "2024-11-22T09:06:17.586643200Z"
    }
   },
   "id": "af05098c4d06b515"
  },
  {
   "cell_type": "code",
   "execution_count": 13,
   "outputs": [],
   "source": [
    "df_binarized.to_csv('pre_processed.csv')"
   ],
   "metadata": {
    "collapsed": false,
    "ExecuteTime": {
     "end_time": "2024-11-22T09:09:52.704855800Z",
     "start_time": "2024-11-22T09:09:41.955297700Z"
    }
   },
   "id": "6a28d14510d32623"
  },
  {
   "cell_type": "code",
   "execution_count": null,
   "outputs": [],
   "source": [],
   "metadata": {
    "collapsed": false
   },
   "id": "a59cfca6e028b724"
  }
 ],
 "metadata": {
  "kernelspec": {
   "display_name": "Python 3",
   "language": "python",
   "name": "python3"
  },
  "language_info": {
   "codemirror_mode": {
    "name": "ipython",
    "version": 2
   },
   "file_extension": ".py",
   "mimetype": "text/x-python",
   "name": "python",
   "nbconvert_exporter": "python",
   "pygments_lexer": "ipython2",
   "version": "2.7.6"
  }
 },
 "nbformat": 4,
 "nbformat_minor": 5
}
